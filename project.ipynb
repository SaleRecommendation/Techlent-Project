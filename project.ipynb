{
 "cells": [
  {
   "cell_type": "code",
   "execution_count": 1,
   "id": "aef09a13-3bda-40cb-987f-4ca40ee8e5ff",
   "metadata": {},
   "outputs": [],
   "source": [
    "import pandas as pd"
   ]
  },
  {
   "cell_type": "code",
   "execution_count": 3,
   "id": "fd7da4aa-08c2-4398-a5dc-b130752e355b",
   "metadata": {},
   "outputs": [],
   "source": [
    "df1 = pd.read_excel('20210804订单商品.xlsx')\n",
    "df2 = pd.read_csv('货表-Table 1.csv')\n",
    "df2.columns = list(df2.iloc[0, :])\n",
    "df2v = df2.drop([0], axis = 0)"
   ]
  },
  {
   "cell_type": "code",
   "execution_count": 4,
   "id": "8432c5a8-f86e-4e60-bc46-0e6dd09a348d",
   "metadata": {},
   "outputs": [
    {
     "data": {
      "text/html": [
       "<div>\n",
       "<style scoped>\n",
       "    .dataframe tbody tr th:only-of-type {\n",
       "        vertical-align: middle;\n",
       "    }\n",
       "\n",
       "    .dataframe tbody tr th {\n",
       "        vertical-align: top;\n",
       "    }\n",
       "\n",
       "    .dataframe thead th {\n",
       "        text-align: right;\n",
       "    }\n",
       "</style>\n",
       "<table border=\"1\" class=\"dataframe\">\n",
       "  <thead>\n",
       "    <tr style=\"text-align: right;\">\n",
       "      <th></th>\n",
       "      <th>订单号</th>\n",
       "      <th>商品ID</th>\n",
       "      <th>供应商ID</th>\n",
       "      <th>发货仓</th>\n",
       "      <th>单价</th>\n",
       "      <th>数量</th>\n",
       "      <th>收货人</th>\n",
       "      <th>收货手机号</th>\n",
       "      <th>商品总价</th>\n",
       "      <th>下单时间</th>\n",
       "      <th>渠道</th>\n",
       "      <th>品牌</th>\n",
       "      <th>成本价</th>\n",
       "      <th>市场价</th>\n",
       "      <th>尺码</th>\n",
       "      <th>颜色</th>\n",
       "      <th>业务分类ID</th>\n",
       "      <th>业务分类</th>\n",
       "      <th>商品名称</th>\n",
       "      <th>折扣区间</th>\n",
       "    </tr>\n",
       "  </thead>\n",
       "  <tbody>\n",
       "    <tr>\n",
       "      <th>0</th>\n",
       "      <td>7202407241667168</td>\n",
       "      <td>1603313</td>\n",
       "      <td>204160</td>\n",
       "      <td>121</td>\n",
       "      <td>243.00</td>\n",
       "      <td>1</td>\n",
       "      <td>123123</td>\n",
       "      <td>312312</td>\n",
       "      <td>1854.00</td>\n",
       "      <td>2024-07-24</td>\n",
       "      <td>110-小程序残品渠道</td>\n",
       "      <td>MAISON KITSUNE</td>\n",
       "      <td>367.8900</td>\n",
       "      <td>1150.0</td>\n",
       "      <td>M</td>\n",
       "      <td>白色</td>\n",
       "      <td>14234</td>\n",
       "      <td>T恤</td>\n",
       "      <td>MAISON KITSUNE 男士 T恤 【KM00133KJ0035 P100 M】</td>\n",
       "      <td>0.211304</td>\n",
       "    </tr>\n",
       "    <tr>\n",
       "      <th>1</th>\n",
       "      <td>7202407241667168</td>\n",
       "      <td>1605657</td>\n",
       "      <td>300068</td>\n",
       "      <td>121</td>\n",
       "      <td>185.00</td>\n",
       "      <td>1</td>\n",
       "      <td>123123</td>\n",
       "      <td>312312</td>\n",
       "      <td>1854.00</td>\n",
       "      <td>2024-07-24</td>\n",
       "      <td>110-小程序残品渠道</td>\n",
       "      <td>REPRESENT</td>\n",
       "      <td>342.1100</td>\n",
       "      <td>1200.0</td>\n",
       "      <td>XL</td>\n",
       "      <td>蓝色</td>\n",
       "      <td>15523</td>\n",
       "      <td>短裤</td>\n",
       "      <td>REPRESENT 男士 短裤 【M09050-109 COBALT XL】</td>\n",
       "      <td>0.154167</td>\n",
       "    </tr>\n",
       "    <tr>\n",
       "      <th>2</th>\n",
       "      <td>7202407241667168</td>\n",
       "      <td>1479119</td>\n",
       "      <td>300068</td>\n",
       "      <td>121</td>\n",
       "      <td>104.00</td>\n",
       "      <td>1</td>\n",
       "      <td>123123</td>\n",
       "      <td>312312</td>\n",
       "      <td>1854.00</td>\n",
       "      <td>2024-07-24</td>\n",
       "      <td>110-小程序残品渠道</td>\n",
       "      <td>REPRESENT</td>\n",
       "      <td>666.2500</td>\n",
       "      <td>1900.0</td>\n",
       "      <td>S</td>\n",
       "      <td>褐色</td>\n",
       "      <td>15523</td>\n",
       "      <td>短裤</td>\n",
       "      <td>REPRESENT 褐色简约休闲日常通勤男士短裤， 【M09019-04 BROWN S】,</td>\n",
       "      <td>0.054737</td>\n",
       "    </tr>\n",
       "    <tr>\n",
       "      <th>3</th>\n",
       "      <td>7202407241667168</td>\n",
       "      <td>1605537</td>\n",
       "      <td>300068</td>\n",
       "      <td>121</td>\n",
       "      <td>213.00</td>\n",
       "      <td>1</td>\n",
       "      <td>123123</td>\n",
       "      <td>312312</td>\n",
       "      <td>1854.00</td>\n",
       "      <td>2024-07-24</td>\n",
       "      <td>110-小程序残品渠道</td>\n",
       "      <td>REPRESENT</td>\n",
       "      <td>362.1100</td>\n",
       "      <td>1200.0</td>\n",
       "      <td>M</td>\n",
       "      <td>米白色</td>\n",
       "      <td>14234</td>\n",
       "      <td>T恤</td>\n",
       "      <td>REPRESENT 男士 T恤 【M05236-72 FLAT WHITE M】</td>\n",
       "      <td>0.177500</td>\n",
       "    </tr>\n",
       "    <tr>\n",
       "      <th>4</th>\n",
       "      <td>7202407241667168</td>\n",
       "      <td>1479113</td>\n",
       "      <td>300068</td>\n",
       "      <td>121</td>\n",
       "      <td>112.00</td>\n",
       "      <td>1</td>\n",
       "      <td>123123</td>\n",
       "      <td>312312</td>\n",
       "      <td>1854.00</td>\n",
       "      <td>2024-07-24</td>\n",
       "      <td>110-小程序残品渠道</td>\n",
       "      <td>REPRESENT</td>\n",
       "      <td>666.2500</td>\n",
       "      <td>1900.0</td>\n",
       "      <td>XS</td>\n",
       "      <td>黑色</td>\n",
       "      <td>15523</td>\n",
       "      <td>短裤</td>\n",
       "      <td>REPRESENT 黑色简约休闲日常通勤男士短裤， 【M09019-88 BLACKCOTT...</td>\n",
       "      <td>0.058947</td>\n",
       "    </tr>\n",
       "    <tr>\n",
       "      <th>5</th>\n",
       "      <td>7202407241667168</td>\n",
       "      <td>1549381</td>\n",
       "      <td>300009</td>\n",
       "      <td>121</td>\n",
       "      <td>496.00</td>\n",
       "      <td>1</td>\n",
       "      <td>123123</td>\n",
       "      <td>312312</td>\n",
       "      <td>1854.00</td>\n",
       "      <td>2024-07-24</td>\n",
       "      <td>110-小程序残品渠道</td>\n",
       "      <td>KENZO</td>\n",
       "      <td>908.6100</td>\n",
       "      <td>2500.0</td>\n",
       "      <td>M</td>\n",
       "      <td>深灰色</td>\n",
       "      <td>15523</td>\n",
       "      <td>短裤</td>\n",
       "      <td>KENZO/高田贤三 2022春夏 男士 短裤【FC55SH5069CW 62 M】,</td>\n",
       "      <td>0.198400</td>\n",
       "    </tr>\n",
       "    <tr>\n",
       "      <th>6</th>\n",
       "      <td>7202407241667168</td>\n",
       "      <td>1605655</td>\n",
       "      <td>300068</td>\n",
       "      <td>121</td>\n",
       "      <td>285.00</td>\n",
       "      <td>1</td>\n",
       "      <td>123123</td>\n",
       "      <td>312312</td>\n",
       "      <td>1854.00</td>\n",
       "      <td>2024-07-24</td>\n",
       "      <td>110-小程序残品渠道</td>\n",
       "      <td>REPRESENT</td>\n",
       "      <td>343.8700</td>\n",
       "      <td>1200.0</td>\n",
       "      <td>M</td>\n",
       "      <td>蓝色</td>\n",
       "      <td>15523</td>\n",
       "      <td>短裤</td>\n",
       "      <td>REPRESENT 男士 短裤 【M09050-109 COBALT M】</td>\n",
       "      <td>0.237500</td>\n",
       "    </tr>\n",
       "    <tr>\n",
       "      <th>7</th>\n",
       "      <td>7202407241667168</td>\n",
       "      <td>1605477</td>\n",
       "      <td>300068</td>\n",
       "      <td>121</td>\n",
       "      <td>216.00</td>\n",
       "      <td>1</td>\n",
       "      <td>123123</td>\n",
       "      <td>312312</td>\n",
       "      <td>1854.00</td>\n",
       "      <td>2024-07-24</td>\n",
       "      <td>110-小程序残品渠道</td>\n",
       "      <td>REPRESENT</td>\n",
       "      <td>361.7600</td>\n",
       "      <td>1200.0</td>\n",
       "      <td>M</td>\n",
       "      <td>黑色</td>\n",
       "      <td>14234</td>\n",
       "      <td>T恤</td>\n",
       "      <td>REPRESENT 男士 T恤 【M05230-01 JET BLACK M】</td>\n",
       "      <td>0.180000</td>\n",
       "    </tr>\n",
       "    <tr>\n",
       "      <th>8</th>\n",
       "      <td>7202407241825635</td>\n",
       "      <td>1662446</td>\n",
       "      <td>300193</td>\n",
       "      <td>312</td>\n",
       "      <td>498.00</td>\n",
       "      <td>1</td>\n",
       "      <td>俞</td>\n",
       "      <td>0</td>\n",
       "      <td>498.00</td>\n",
       "      <td>2024-07-24</td>\n",
       "      <td>312-西有杭州西湖文化广场店</td>\n",
       "      <td>GANNI</td>\n",
       "      <td>381.5500</td>\n",
       "      <td>995.0</td>\n",
       "      <td>S</td>\n",
       "      <td>白色</td>\n",
       "      <td>14386</td>\n",
       "      <td>T恤</td>\n",
       "      <td>GANNI 女士 T恤 【T3892 151 S】</td>\n",
       "      <td>0.500503</td>\n",
       "    </tr>\n",
       "    <tr>\n",
       "      <th>9</th>\n",
       "      <td>7202407241311923</td>\n",
       "      <td>1691818</td>\n",
       "      <td>301524</td>\n",
       "      <td>304</td>\n",
       "      <td>1288.00</td>\n",
       "      <td>1</td>\n",
       "      <td>lyu-mf2341</td>\n",
       "      <td>18851190101</td>\n",
       "      <td>1288.00</td>\n",
       "      <td>2024-07-24</td>\n",
       "      <td>304-西有南京金鹰店</td>\n",
       "      <td>White Mountaineering</td>\n",
       "      <td>671.7200</td>\n",
       "      <td>1840.0</td>\n",
       "      <td>0</td>\n",
       "      <td>绿色</td>\n",
       "      <td>14234</td>\n",
       "      <td>T恤</td>\n",
       "      <td>WHITE MOUNTAINEERING 男士 T恤 【WM2471509 GREEN 0】</td>\n",
       "      <td>0.700000</td>\n",
       "    </tr>\n",
       "    <tr>\n",
       "      <th>10</th>\n",
       "      <td>7202407241429337</td>\n",
       "      <td>1678631</td>\n",
       "      <td>301281</td>\n",
       "      <td>304</td>\n",
       "      <td>494.18</td>\n",
       "      <td>1</td>\n",
       "      <td>优跃</td>\n",
       "      <td>13809029342</td>\n",
       "      <td>1340.00</td>\n",
       "      <td>2024-07-24</td>\n",
       "      <td>304-西有南京金鹰店</td>\n",
       "      <td>INSPIRE&amp;STORIES</td>\n",
       "      <td>178.2300</td>\n",
       "      <td>520.0</td>\n",
       "      <td>M</td>\n",
       "      <td>浅绿色</td>\n",
       "      <td>14385</td>\n",
       "      <td>背心/吊带</td>\n",
       "      <td>INSPIRE 女士 吊带背心 【ISS24HM014 M】</td>\n",
       "      <td>0.950346</td>\n",
       "    </tr>\n",
       "    <tr>\n",
       "      <th>11</th>\n",
       "      <td>7202407241429337</td>\n",
       "      <td>1678633</td>\n",
       "      <td>301281</td>\n",
       "      <td>304</td>\n",
       "      <td>845.82</td>\n",
       "      <td>1</td>\n",
       "      <td>优跃</td>\n",
       "      <td>13809029342</td>\n",
       "      <td>1340.00</td>\n",
       "      <td>2024-07-24</td>\n",
       "      <td>304-西有南京金鹰店</td>\n",
       "      <td>INSPIRE&amp;STORIES</td>\n",
       "      <td>308.0200</td>\n",
       "      <td>890.0</td>\n",
       "      <td>36</td>\n",
       "      <td>浅绿色</td>\n",
       "      <td>14389</td>\n",
       "      <td>休闲裤</td>\n",
       "      <td>INSPIRE 女士 休闲裤 【ISS24HM015 36】</td>\n",
       "      <td>0.950360</td>\n",
       "    </tr>\n",
       "    <tr>\n",
       "      <th>12</th>\n",
       "      <td>7202407241566912</td>\n",
       "      <td>1691141</td>\n",
       "      <td>300124</td>\n",
       "      <td>312</td>\n",
       "      <td>1602.74</td>\n",
       "      <td>1</td>\n",
       "      <td>邵钦芸</td>\n",
       "      <td>18658143727</td>\n",
       "      <td>1602.74</td>\n",
       "      <td>2024-07-24</td>\n",
       "      <td>天猫精品</td>\n",
       "      <td>IMMI</td>\n",
       "      <td>281.6667</td>\n",
       "      <td>1690.0</td>\n",
       "      <td>000</td>\n",
       "      <td>深石灰</td>\n",
       "      <td>15554</td>\n",
       "      <td>中长款半裙</td>\n",
       "      <td>设计师品牌 IMMI 女士超薄强粘针织半裙【141SK027Y 深石灰 000】300124</td>\n",
       "      <td>0.948367</td>\n",
       "    </tr>\n",
       "    <tr>\n",
       "      <th>13</th>\n",
       "      <td>7202407241154416</td>\n",
       "      <td>1689906</td>\n",
       "      <td>301364</td>\n",
       "      <td>285</td>\n",
       "      <td>495.00</td>\n",
       "      <td>1</td>\n",
       "      <td>王馨苗</td>\n",
       "      <td>13488763194</td>\n",
       "      <td>495.00</td>\n",
       "      <td>2024-07-24</td>\n",
       "      <td>285-西有北京银泰中心in01店</td>\n",
       "      <td>SOULLAND</td>\n",
       "      <td>379.9900</td>\n",
       "      <td>990.0</td>\n",
       "      <td>M/L</td>\n",
       "      <td>白色</td>\n",
       "      <td>14234</td>\n",
       "      <td>T恤</td>\n",
       "      <td>SOULLAND 男士 T恤 【41072-1063 White M/L】</td>\n",
       "      <td>0.500000</td>\n",
       "    </tr>\n",
       "    <tr>\n",
       "      <th>14</th>\n",
       "      <td>3202407241124542</td>\n",
       "      <td>1683762</td>\n",
       "      <td>301518</td>\n",
       "      <td>307</td>\n",
       "      <td>1390.00</td>\n",
       "      <td>1</td>\n",
       "      <td>金秀玦</td>\n",
       "      <td>13566791261</td>\n",
       "      <td>1390.00</td>\n",
       "      <td>2024-07-24</td>\n",
       "      <td>307-西有义乌伊美店</td>\n",
       "      <td>VIKTORIA CHAN</td>\n",
       "      <td>635.9300</td>\n",
       "      <td>1590.0</td>\n",
       "      <td>S</td>\n",
       "      <td>奶油色</td>\n",
       "      <td>14385</td>\n",
       "      <td>背心/吊带</td>\n",
       "      <td>VIKTORIA CHAN 女士 吊带背心 【SS24024 CR S】</td>\n",
       "      <td>0.874214</td>\n",
       "    </tr>\n",
       "  </tbody>\n",
       "</table>\n",
       "</div>"
      ],
      "text/plain": [
       "                 订单号     商品ID   供应商ID  发货仓       单价  数量         收货人  \\\n",
       "0   7202407241667168  1603313  204160  121   243.00   1      123123   \n",
       "1   7202407241667168  1605657  300068  121   185.00   1      123123   \n",
       "2   7202407241667168  1479119  300068  121   104.00   1      123123   \n",
       "3   7202407241667168  1605537  300068  121   213.00   1      123123   \n",
       "4   7202407241667168  1479113  300068  121   112.00   1      123123   \n",
       "5   7202407241667168  1549381  300009  121   496.00   1      123123   \n",
       "6   7202407241667168  1605655  300068  121   285.00   1      123123   \n",
       "7   7202407241667168  1605477  300068  121   216.00   1      123123   \n",
       "8   7202407241825635  1662446  300193  312   498.00   1           俞   \n",
       "9   7202407241311923  1691818  301524  304  1288.00   1  lyu-mf2341   \n",
       "10  7202407241429337  1678631  301281  304   494.18   1          优跃   \n",
       "11  7202407241429337  1678633  301281  304   845.82   1          优跃   \n",
       "12  7202407241566912  1691141  300124  312  1602.74   1         邵钦芸   \n",
       "13  7202407241154416  1689906  301364  285   495.00   1         王馨苗   \n",
       "14  3202407241124542  1683762  301518  307  1390.00   1         金秀玦   \n",
       "\n",
       "          收货手机号     商品总价        下单时间                 渠道                    品牌  \\\n",
       "0        312312  1854.00  2024-07-24        110-小程序残品渠道        MAISON KITSUNE   \n",
       "1        312312  1854.00  2024-07-24        110-小程序残品渠道             REPRESENT   \n",
       "2        312312  1854.00  2024-07-24        110-小程序残品渠道             REPRESENT   \n",
       "3        312312  1854.00  2024-07-24        110-小程序残品渠道             REPRESENT   \n",
       "4        312312  1854.00  2024-07-24        110-小程序残品渠道             REPRESENT   \n",
       "5        312312  1854.00  2024-07-24        110-小程序残品渠道                 KENZO   \n",
       "6        312312  1854.00  2024-07-24        110-小程序残品渠道             REPRESENT   \n",
       "7        312312  1854.00  2024-07-24        110-小程序残品渠道             REPRESENT   \n",
       "8             0   498.00  2024-07-24    312-西有杭州西湖文化广场店                 GANNI   \n",
       "9   18851190101  1288.00  2024-07-24        304-西有南京金鹰店  White Mountaineering   \n",
       "10  13809029342  1340.00  2024-07-24        304-西有南京金鹰店       INSPIRE&STORIES   \n",
       "11  13809029342  1340.00  2024-07-24        304-西有南京金鹰店       INSPIRE&STORIES   \n",
       "12  18658143727  1602.74  2024-07-24               天猫精品                  IMMI   \n",
       "13  13488763194   495.00  2024-07-24  285-西有北京银泰中心in01店              SOULLAND   \n",
       "14  13566791261  1390.00  2024-07-24        307-西有义乌伊美店         VIKTORIA CHAN   \n",
       "\n",
       "         成本价     市场价   尺码   颜色  业务分类ID   业务分类  \\\n",
       "0   367.8900  1150.0    M   白色   14234     T恤   \n",
       "1   342.1100  1200.0   XL   蓝色   15523     短裤   \n",
       "2   666.2500  1900.0    S   褐色   15523     短裤   \n",
       "3   362.1100  1200.0    M  米白色   14234     T恤   \n",
       "4   666.2500  1900.0   XS   黑色   15523     短裤   \n",
       "5   908.6100  2500.0    M  深灰色   15523     短裤   \n",
       "6   343.8700  1200.0    M   蓝色   15523     短裤   \n",
       "7   361.7600  1200.0    M   黑色   14234     T恤   \n",
       "8   381.5500   995.0    S   白色   14386     T恤   \n",
       "9   671.7200  1840.0    0   绿色   14234     T恤   \n",
       "10  178.2300   520.0    M  浅绿色   14385  背心/吊带   \n",
       "11  308.0200   890.0   36  浅绿色   14389    休闲裤   \n",
       "12  281.6667  1690.0  000  深石灰   15554  中长款半裙   \n",
       "13  379.9900   990.0  M/L   白色   14234     T恤   \n",
       "14  635.9300  1590.0    S  奶油色   14385  背心/吊带   \n",
       "\n",
       "                                                 商品名称      折扣区间  \n",
       "0         MAISON KITSUNE 男士 T恤 【KM00133KJ0035 P100 M】  0.211304  \n",
       "1              REPRESENT 男士 短裤 【M09050-109 COBALT XL】  0.154167  \n",
       "2      REPRESENT 褐色简约休闲日常通勤男士短裤， 【M09019-04 BROWN S】,  0.054737  \n",
       "3            REPRESENT 男士 T恤 【M05236-72 FLAT WHITE M】  0.177500  \n",
       "4   REPRESENT 黑色简约休闲日常通勤男士短裤， 【M09019-88 BLACKCOTT...  0.058947  \n",
       "5         KENZO/高田贤三 2022春夏 男士 短裤【FC55SH5069CW 62 M】,  0.198400  \n",
       "6               REPRESENT 男士 短裤 【M09050-109 COBALT M】  0.237500  \n",
       "7             REPRESENT 男士 T恤 【M05230-01 JET BLACK M】  0.180000  \n",
       "8                           GANNI 女士 T恤 【T3892 151 S】  0.500503  \n",
       "9      WHITE MOUNTAINEERING 男士 T恤 【WM2471509 GREEN 0】  0.700000  \n",
       "10                     INSPIRE 女士 吊带背心 【ISS24HM014 M】  0.950346  \n",
       "11                     INSPIRE 女士 休闲裤 【ISS24HM015 36】  0.950360  \n",
       "12     设计师品牌 IMMI 女士超薄强粘针织半裙【141SK027Y 深石灰 000】300124  0.948367  \n",
       "13              SOULLAND 男士 T恤 【41072-1063 White M/L】  0.500000  \n",
       "14               VIKTORIA CHAN 女士 吊带背心 【SS24024 CR S】  0.874214  "
      ]
     },
     "execution_count": 4,
     "metadata": {},
     "output_type": "execute_result"
    }
   ],
   "source": [
    "df1.head(15)"
   ]
  },
  {
   "cell_type": "code",
   "execution_count": 5,
   "id": "e7aa68ea-2e22-4649-9d6b-bb0c4189d98e",
   "metadata": {},
   "outputs": [],
   "source": [
    "df1e = df1\n",
    "df1e.columns = ['order_ID', 'item_ID', 'supplier_ID','warehouse', 'unit_price', 'amount','receiver', 'receiver_phone', \n",
    "                'total_price', 'order_time', 'channel', 'brand', 'cost', 'market_price', 'size', 'color', 'buclass_ID',\n",
    "                'buclass','item_name', 'discount_region']\n"
   ]
  },
  {
   "cell_type": "code",
   "execution_count": 7,
   "id": "f0805a2e-b762-46a3-b616-c983628d6e94",
   "metadata": {},
   "outputs": [
    {
     "data": {
      "text/plain": [
       "Index(['order_ID', 'item_ID', 'supplier_ID', 'warehouse', 'unit_price',\n",
       "       'amount', 'receiver', 'receiver_phone', 'total_price', 'order_time',\n",
       "       'channel', 'brand', 'cost', 'market_price', 'size', 'color',\n",
       "       'buclass_ID', 'buclass', 'item_name', 'discount_region'],\n",
       "      dtype='object')"
      ]
     },
     "execution_count": 7,
     "metadata": {},
     "output_type": "execute_result"
    }
   ],
   "source": [
    "df1e.columns"
   ]
  },
  {
   "cell_type": "markdown",
   "id": "54783498-74b8-4e25-8d2d-9f921822ce51",
   "metadata": {},
   "source": [
    "***Categorical features:***\n",
    "* order_ID\n",
    "* item_ID\n",
    "* supper_ID\n",
    "* warehouse\n",
    "* receiver\n",
    "* receiver_phone\n",
    "* order_time\n",
    "* channel\n",
    "* brand\n",
    "* size\n",
    "* color\n",
    "* buclass_ID\n",
    "* buclass\n",
    "* item_name\n",
    "* date\n",
    "\n",
    "***Numerical features***\n",
    "* unit_price\n",
    "* amount\n",
    "* total_price\n",
    "* cost\n",
    "* market_price\n",
    "* discount_region"
   ]
  },
  {
   "cell_type": "code",
   "execution_count": 8,
   "id": "c43ff597-ba29-495b-a1f9-4260746f7fed",
   "metadata": {},
   "outputs": [],
   "source": [
    "df1e['order_ID'] = df1e['order_ID'].map(str)\n",
    "df1e['item_ID'] = df1e['item_ID'].map(str)\n",
    "df1e['supplier_ID'] = df1e['supplier_ID'].map(str)\n",
    "df1e['warehouse'] = df1e['warehouse'].map(str)\n",
    "df1e['receiver'] = df1e['receiver'].map(str)\n",
    "df1e['receiver_phone'] = df1e['receiver_phone'].map(str)\n",
    "df1e['order_time'] = df1e['order_time'].map(str) \n",
    "df1e['channel'] = df1e['channel'].map(str) \n",
    "df1e['brand'] = df1e['brand'].map(str) \n",
    "df1e['size'] = df1e['size'].map(str)\n",
    "df1e['color'] = df1e['color'].map(str)\n",
    "df1e['buclass_ID'] = df1e['buclass_ID'].map(str)\n",
    "df1e['buclass'] = df1e['buclass'].map(str)\n",
    "df1e['item_name'] = df1e['item_name'].map(str)"
   ]
  },
  {
   "cell_type": "markdown",
   "id": "b5f3890b-808f-4250-a443-38868a17bcfa",
   "metadata": {},
   "source": [
    "***Problem 4: how many items are there in one order*** "
   ]
  },
  {
   "cell_type": "code",
   "execution_count": 9,
   "id": "4d283c8f-843b-4543-8037-73910b96ca15",
   "metadata": {},
   "outputs": [
    {
     "name": "stdout",
     "output_type": "stream",
     "text": [
      "total unique order ID: 504094\n",
      "the average number of items in one order ID: 1.2337679083662967\n"
     ]
    }
   ],
   "source": [
    "#Prob 4 : total orderID\n",
    "print(\"total unique order ID: {}\".format(len(df1e['order_ID'].unique())))\n",
    "# the average number of items per order ID\n",
    "item_anum_perorder = len(df1e['order_ID'])/len(df1e['order_ID'].unique())\n",
    "print(\"the average number of items in one order ID: {}\".format(item_anum_perorder))"
   ]
  },
  {
   "cell_type": "code",
   "execution_count": 14,
   "id": "d8c762f2-c757-4707-bdbf-1546d5a1c432",
   "metadata": {},
   "outputs": [
    {
     "data": {
      "text/plain": [
       "order_ID\n",
       "7202207151224036    10\n",
       "3202312291047500    10\n",
       "7202211271592142    10\n",
       "7202207231960372    10\n",
       "521081260485        10\n",
       "                    ..\n",
       "3202111231493603    50\n",
       "32021110471442      56\n",
       "7202112011681887    58\n",
       "3202111281381457    60\n",
       "3202205311523525    93\n",
       "Name: count, Length: 1009, dtype: int64"
      ]
     },
     "execution_count": 14,
     "metadata": {},
     "output_type": "execute_result"
    }
   ],
   "source": [
    "# the bar diagram shows the number of itmes for each order ID\n",
    "import seaborn as sns\n",
    "df1e_orderID = df1e['order_ID'].value_counts(ascending = True)\n",
    "df1e_orderIDfreq = df1e_orderID[df1e_orderID >= 10]\n",
    "df1e_orderIDfreq"
   ]
  },
  {
   "cell_type": "code",
   "execution_count": 15,
   "id": "fe51fb36-66ed-4877-92f9-bf7640e8fc44",
   "metadata": {},
   "outputs": [
    {
     "data": {
      "text/plain": [
       "<Axes: ylabel='Count'>"
      ]
     },
     "execution_count": 15,
     "metadata": {},
     "output_type": "execute_result"
    },
    {
     "data": {
      "image/png": "[encoded data removed]",
      "text/plain": [
       "<Figure size 640x480 with 1 Axes>"
      ]
     },
     "metadata": {},
     "output_type": "display_data"
    }
   ],
   "source": [
    "sns.histplot(x =df1e_orderIDfreq.values)"
   ]
  },
  {
   "cell_type": "code",
   "execution_count": 16,
   "id": "3c09cf8c-a132-48bf-90c0-47bbf9b6b684",
   "metadata": {},
   "outputs": [
    {
     "data": {
      "text/plain": [
       "<Axes: ylabel='Count'>"
      ]
     },
     "execution_count": 16,
     "metadata": {},
     "output_type": "execute_result"
    },
    {
     "data": {
      "image/png": "[encoded data removed]",
      "text/plain": [
       "<Figure size 640x480 with 1 Axes>"
      ]
     },
     "metadata": {},
     "output_type": "display_data"
    }
   ],
   "source": [
    "df1e_orderIDfreq = df1e_orderID[(df1e_orderID >= 1) & (df1e_orderID <10) ]\n",
    "sns.histplot(x =df1e_orderIDfreq.values)# 10-"
   ]
  },
  {
   "cell_type": "markdown",
   "id": "8756e0d2-f296-41f8-bee0-41e0f0fae999",
   "metadata": {},
   "source": [
    "***Problem 1: how many interval days does each customer buy items for two times*** "
   ]
  },
  {
   "cell_type": "code",
   "execution_count": 17,
   "id": "40c9c7cc-ea2f-4042-bb7c-3fd129f2ea0f",
   "metadata": {},
   "outputs": [],
   "source": [
    "def time2diff(x):\n",
    "    y=[]\n",
    "    for j in range(len(x)):\n",
    "        if j>=1:\n",
    "            y.append((x[j]-x[j-1]).days)\n",
    "    return y\n",
    "def recentday(x):\n",
    "    return x[-1]"
   ]
  },
  {
   "cell_type": "code",
   "execution_count": 18,
   "id": "a2486efd-8022-4ea1-ac49-6525f391a655",
   "metadata": {},
   "outputs": [
    {
     "name": "stderr",
     "output_type": "stream",
     "text": [
      "/var/folders/v_/pz1y43wn4p37psf9jsgbm27w0000gn/T/ipykernel_57976/3289841944.py:14: SettingWithCopyWarning: \n",
      "A value is trying to be set on a copy of a slice from a DataFrame.\n",
      "Try using .loc[row_indexer,col_indexer] = value instead\n",
      "\n",
      "See the caveats in the documentation: https://pandas.pydata.org/pandas-docs/stable/user_guide/indexing.html#returning-a-view-versus-a-copy\n",
      "  df_select['date']=df_select['date'].map(list)\n",
      "/var/folders/v_/pz1y43wn4p37psf9jsgbm27w0000gn/T/ipykernel_57976/3289841944.py:15: SettingWithCopyWarning: \n",
      "A value is trying to be set on a copy of a slice from a DataFrame.\n",
      "Try using .loc[row_indexer,col_indexer] = value instead\n",
      "\n",
      "See the caveats in the documentation: https://pandas.pydata.org/pandas-docs/stable/user_guide/indexing.html#returning-a-view-versus-a-copy\n",
      "  df_select['date']=df_select['date'].map(pd.to_datetime)\n",
      "/var/folders/v_/pz1y43wn4p37psf9jsgbm27w0000gn/T/ipykernel_57976/3289841944.py:16: SettingWithCopyWarning: \n",
      "A value is trying to be set on a copy of a slice from a DataFrame.\n",
      "Try using .loc[row_indexer,col_indexer] = value instead\n",
      "\n",
      "See the caveats in the documentation: https://pandas.pydata.org/pandas-docs/stable/user_guide/indexing.html#returning-a-view-versus-a-copy\n",
      "  df_select['date'] = df_select['date'].map(sorted)\n",
      "/var/folders/v_/pz1y43wn4p37psf9jsgbm27w0000gn/T/ipykernel_57976/3289841944.py:17: SettingWithCopyWarning: \n",
      "A value is trying to be set on a copy of a slice from a DataFrame.\n",
      "Try using .loc[row_indexer,col_indexer] = value instead\n",
      "\n",
      "See the caveats in the documentation: https://pandas.pydata.org/pandas-docs/stable/user_guide/indexing.html#returning-a-view-versus-a-copy\n",
      "  df_select['recentbuy_date'] = df_select['date'].map(recentday)\n"
     ]
    }
   ],
   "source": [
    "# How many items are in per orderID?\n",
    "def cus2set(x):\n",
    "    if isinstance(x, str):\n",
    "        return set(x.split())\n",
    "df_customer = df1e[['receiver_phone','order_time']]\n",
    "dfcus=df_customer.groupby(['receiver_phone']).agg({'order_time':' '.join})\n",
    "dfcus['date']=dfcus['order_time'].map(cus2set)\n",
    "dfcus['freq']=dfcus['date'].map(len)\n",
    "dfcus.sort_values(by = 'freq',ascending = True)\n",
    "dfcus_select = dfcus[['date', 'freq']]\n",
    "dfcus_select = dfcus_select.sort_values(by = 'freq',ascending = True)\n",
    "# focus on the \n",
    "df_select = dfcus_select.loc[dfcus['freq']>=2]\n",
    "df_select['date']=df_select['date'].map(list)\n",
    "df_select['date']=df_select['date'].map(pd.to_datetime)\n",
    "df_select['date'] = df_select['date'].map(sorted)\n",
    "df_select['recentbuy_date'] = df_select['date'].map(recentday)\n",
    "df_select = df_select.sort_values(by = 'recentbuy_date', ascending = True)\n",
    "df_select['diff_date']=df_select['date'].map(time2diff)\n",
    "# #dfcus = dfcus.drop(['下单时间'], axis =1)\n",
    "# #dfcus = dfcus[['date', 'freq']]\n",
    "# df_select = dfcus.loc[dfcus['freq']>=2]\n",
    "# df_select = df_select.sort_values(by = 'freq', ascending = True)\n",
    "# df_select['date']=df_select['date'].map(list)\n",
    "# df_select['date']=df_select['date'].map(pd.to_datetime)"
   ]
  },
  {
   "cell_type": "code",
   "execution_count": 19,
   "id": "83a18dcd-0351-4bc7-bb27-c71d4cebbedc",
   "metadata": {},
   "outputs": [],
   "source": [
    "def dayfreq(x):\n",
    "    dict ={}\n",
    "    for k in range(1, 1083):\n",
    "        dict[k] = 0\n",
    "        for j in range(len(x.diff_date_set)):\n",
    "            if k in x.diff_date_set[j]:\n",
    "                dict[k]=dict[k]+1\n",
    "    return dict"
   ]
  },
  {
   "cell_type": "code",
   "execution_count": 21,
   "id": "13d6c2b0-5394-4952-9ef5-a95ce7c5a7cc",
   "metadata": {},
   "outputs": [],
   "source": [
    "df_select.sort_values(by ='recentbuy_date', ascending=False)\n",
    "df_select['diff_date_set'] = df_select['diff_date'].map(set)\n",
    "df_select['diff_date_set'] = df_select['diff_date_set'].map(list)\n",
    "df_select['max'] = df_select['diff_date_set'].map(max)"
   ]
  },
  {
   "cell_type": "markdown",
   "id": "162549f5-4a3a-4a3e-998d-dc747599f094",
   "metadata": {},
   "source": [
    "* The interday for customers per purchase"
   ]
  },
  {
   "cell_type": "code",
   "execution_count": 22,
   "id": "55e6f1f6-c256-47b5-8471-884d9275dcfb",
   "metadata": {},
   "outputs": [
    {
     "name": "stderr",
     "output_type": "stream",
     "text": [
      "/var/folders/v_/pz1y43wn4p37psf9jsgbm27w0000gn/T/ipykernel_57976/3419993568.py:6: FutureWarning: Series.__getitem__ treating keys as positions is deprecated. In a future version, integer keys will always be treated as labels (consistent with DataFrame behavior). To access a value by position, use `ser.iloc[pos]`\n",
      "  if k in x.diff_date_set[j]:\n"
     ]
    }
   ],
   "source": [
    "interday_customer = dayfreq(df_select)"
   ]
  },
  {
   "cell_type": "code",
   "execution_count": 25,
   "id": "49d7ecd2-6b7a-482a-acea-0acc5a1f113a",
   "metadata": {},
   "outputs": [
    {
     "data": {
      "text/plain": [
       "Text(0.5, 1.0, 'Customer Number vs Interday per two purchases')"
      ]
     },
     "execution_count": 25,
     "metadata": {},
     "output_type": "execute_result"
    },
    {
     "data": {
      "image/png": "[encoded data removed]",
      "text/plain": [
       "<Figure size 640x480 with 1 Axes>"
      ]
     },
     "metadata": {},
     "output_type": "display_data"
    }
   ],
   "source": [
    "import matplotlib.pyplot as plt\n",
    "\n",
    "df_interday = pd.DataFrame()\n",
    "df_interday['interday']=interday_customer.keys()\n",
    "df_interday['customers_num'] = interday_customer.values()\n",
    "#df_interday['customers_num'].plot(kind='bar')\n",
    "df_interday_select = df_interday[df_interday['interday']>1]\n",
    "#df_interday = pd.DataFrame(interday_customer)\n",
    "#interday_customer\n",
    "keys = df_interday_select['interday']\n",
    "values = df_interday_select['customers_num']\n",
    "\n",
    "plt.bar(keys, values)\n",
    "#plt.hist(values)\n",
    "# Add labels and title\n",
    "plt.xlabel('Interday per two purchases')\n",
    "plt.ylabel('The customer number')\n",
    "plt.title('Customer Number vs Interday per two purchases')"
   ]
  },
  {
   "cell_type": "code",
   "execution_count": 26,
   "id": "0178b4f5-9939-448f-886a-7d14680f8aa1",
   "metadata": {},
   "outputs": [
    {
     "name": "stderr",
     "output_type": "stream",
     "text": [
      "/Users/finalboss/anaconda3/envs/dswork/lib/python3.12/site-packages/pandas/core/arraylike.py:399: RuntimeWarning: divide by zero encountered in log\n",
      "  result = getattr(ufunc, method)(*inputs, **kwargs)\n"
     ]
    },
    {
     "data": {
      "text/plain": [
       "Text(0.5, 1.0, 'Customer Number vs Interday per two purchases')"
      ]
     },
     "execution_count": 26,
     "metadata": {},
     "output_type": "execute_result"
    },
    {
     "data": {
      "image/png": "[encoded data removed]",
      "text/plain": [
       "<Figure size 640x480 with 1 Axes>"
      ]
     },
     "metadata": {},
     "output_type": "display_data"
    }
   ],
   "source": [
    "import matplotlib.pyplot as plt\n",
    "import numpy as np \n",
    "df_interday = pd.DataFrame()\n",
    "df_interday['interday']=interday_customer.keys()\n",
    "df_interday['customers_num'] = interday_customer.values()\n",
    "#df_interday['customers_num'].plot(kind='bar')\n",
    "df_interday_select = df_interday[df_interday['interday']>1]\n",
    "#df_interday = pd.DataFrame(interday_customer)\n",
    "#interday_customer\n",
    "keys = np.log(df_interday_select['interday'])\n",
    "values = np.log(df_interday_select['customers_num'])\n",
    "\n",
    "plt.bar(keys, values)\n",
    "\n",
    "# Add labels and title\n",
    "plt.xlabel('Interday per two purchases')\n",
    "plt.ylabel('The customer number')\n",
    "plt.title('Customer Number vs Interday per two purchases')"
   ]
  },
  {
   "cell_type": "markdown",
   "id": "5502ecfe-61c0-4d01-bfec-6df8eb0ed6d1",
   "metadata": {},
   "source": [
    "**Information about customers**: # churn analysis\n",
    "* The number of total customers is 267338\n",
    "* The number of customers purchasing items two times or many times: 62298 and its churn rate: 62298/267338=23.3%"
   ]
  },
  {
   "cell_type": "markdown",
   "id": "8791e423-db45-40d6-a942-cfacf655b03c",
   "metadata": {},
   "source": [
    "***Problem 2: the frequency of each customer's purchase*** "
   ]
  },
  {
   "cell_type": "code",
   "execution_count": 47,
   "id": "27b3c13f-1621-4829-9077-284bb3b6488f",
   "metadata": {},
   "outputs": [
    {
     "data": {
      "text/plain": [
       "Text(0.5, 0, 'frequency interval')"
      ]
     },
     "execution_count": 47,
     "metadata": {},
     "output_type": "execute_result"
    },
    {
     "data": {
      "image/png": "[encoded data removed]",
      "text/plain": [
       "<Figure size 640x480 with 1 Axes>"
      ]
     },
     "metadata": {},
     "output_type": "display_data"
    }
   ],
   "source": [
    "import matplotlib.pyplot as plt\n",
    "import numpy as np \n",
    "fafa=df_select.loc[df_select['freq']>=50]\n",
    "fafa = fafa.sort_values(by = 'freq', ascending = True)\n",
    "#fafa['freq'].plot(kind='barh')\n",
    "fafa['freq'].plot(kind='hist',bins=20)\n",
    "plt.ylabel('Customers')\n",
    "plt.xlabel('frequency interval')"
   ]
  },
  {
   "cell_type": "code",
   "execution_count": 45,
   "id": "8f0f1555-e055-4bb6-8e51-4c9d9e06a0e2",
   "metadata": {},
   "outputs": [
    {
     "data": {
      "text/plain": [
       "Text(0.5, 0, 'frequency interval')"
      ]
     },
     "execution_count": 45,
     "metadata": {},
     "output_type": "execute_result"
    },
    {
     "data": {
      "image/png": "[encoded data removed]",
      "text/plain": [
       "<Figure size 640x480 with 1 Axes>"
      ]
     },
     "metadata": {},
     "output_type": "display_data"
    }
   ],
   "source": [
    "import matplotlib.pyplot as plt\n",
    "import numpy as np \n",
    "fafa=df_select.loc[(df_select['freq']<50)& (df_select['freq']>=10)]\n",
    "fafa1050 = fafa.sort_values(by='freq', ascending = True)\n",
    "fafa1050['freq'].plot(kind = 'hist')\n",
    "plt.ylabel('Customers')\n",
    "plt.xlabel('frequency interval')"
   ]
  },
  {
   "cell_type": "code",
   "execution_count": 48,
   "id": "019f35c6-924b-4760-97d5-0b18996648c4",
   "metadata": {},
   "outputs": [
    {
     "data": {
      "text/plain": [
       "Text(0.5, 0, 'frequency interval')"
      ]
     },
     "execution_count": 48,
     "metadata": {},
     "output_type": "execute_result"
    },
    {
     "data": {
      "image/png": "[encoded data removed]",
      "text/plain": [
       "<Figure size 640x480 with 1 Axes>"
      ]
     },
     "metadata": {},
     "output_type": "display_data"
    }
   ],
   "source": [
    "fafa = df_select.loc[df_select['freq']<10]\n",
    "fafa = fafa.sort_values(by='freq', ascending = True)\n",
    "fafa['freq'].plot(kind = 'hist')\n",
    "plt.ylabel('Customers')\n",
    "plt.xlabel('frequency interval')"
   ]
  },
  {
   "cell_type": "markdown",
   "id": "993f0c3d-708f-4133-8c16-dd4f18738259",
   "metadata": {},
   "source": [
    "***Problem 3: All coloumn unit counts*** "
   ]
  },
  {
   "cell_type": "markdown",
   "id": "704d9e91-64d4-45a7-8b8d-593e25ea3c33",
   "metadata": {},
   "source": [
    "***The number of all categorical***"
   ]
  },
  {
   "cell_type": "code",
   "execution_count": 50,
   "id": "d5e78299-2d0e-4f25-818f-7beabdaa4aba",
   "metadata": {},
   "outputs": [
    {
     "data": {
      "text/plain": [
       "order_ID          504094\n",
       "item_ID           106458\n",
       "supplier_ID          457\n",
       "warehouse             74\n",
       "receiver          158067\n",
       "receiver_phone    267338\n",
       "order_time          1086\n",
       "channel              106\n",
       "brand                640\n",
       "size                4694\n",
       "color               4536\n",
       "buclass_ID           302\n",
       "buclass              196\n",
       "item_name         105348\n",
       "dtype: int64"
      ]
     },
     "execution_count": 50,
     "metadata": {},
     "output_type": "execute_result"
    }
   ],
   "source": [
    "df1e_nuni = df1e[['order_ID','item_ID', 'supplier_ID', 'warehouse','receiver','receiver_phone','order_time',\n",
    "      'channel','brand','size','color','buclass_ID','buclass', 'item_name']].nunique() \n",
    "df1e_nuni"
   ]
  },
  {
   "cell_type": "code",
   "execution_count": 118,
   "id": "fd202f6c-ce9f-4a85-b971-1cc5ebc8d816",
   "metadata": {},
   "outputs": [
    {
     "data": {
      "text/html": [
       "<div>\n",
       "<style scoped>\n",
       "    .dataframe tbody tr th:only-of-type {\n",
       "        vertical-align: middle;\n",
       "    }\n",
       "\n",
       "    .dataframe tbody tr th {\n",
       "        vertical-align: top;\n",
       "    }\n",
       "\n",
       "    .dataframe thead th {\n",
       "        text-align: right;\n",
       "    }\n",
       "</style>\n",
       "<table border=\"1\" class=\"dataframe\">\n",
       "  <thead>\n",
       "    <tr style=\"text-align: right;\">\n",
       "      <th></th>\n",
       "      <th>order_ID</th>\n",
       "      <th>item_ID</th>\n",
       "      <th>supplier_ID</th>\n",
       "      <th>warehouse</th>\n",
       "      <th>receiver</th>\n",
       "      <th>receiver_phone</th>\n",
       "      <th>order_time</th>\n",
       "      <th>channel</th>\n",
       "      <th>brand</th>\n",
       "      <th>size</th>\n",
       "      <th>color</th>\n",
       "      <th>buclass_ID</th>\n",
       "      <th>buclass</th>\n",
       "      <th>item_name</th>\n",
       "    </tr>\n",
       "  </thead>\n",
       "  <tbody>\n",
       "    <tr>\n",
       "      <th>0</th>\n",
       "      <td>7202407241667168</td>\n",
       "      <td>1603313</td>\n",
       "      <td>204160</td>\n",
       "      <td>121</td>\n",
       "      <td>123123</td>\n",
       "      <td>312312</td>\n",
       "      <td>2024-07-24</td>\n",
       "      <td>110-小程序残品渠道</td>\n",
       "      <td>MAISON KITSUNE</td>\n",
       "      <td>M</td>\n",
       "      <td>白色</td>\n",
       "      <td>14234</td>\n",
       "      <td>T恤</td>\n",
       "      <td>MAISON KITSUNE 男士 T恤 【KM00133KJ0035 P100 M】</td>\n",
       "    </tr>\n",
       "    <tr>\n",
       "      <th>1</th>\n",
       "      <td>7202407241667168</td>\n",
       "      <td>1605657</td>\n",
       "      <td>300068</td>\n",
       "      <td>121</td>\n",
       "      <td>123123</td>\n",
       "      <td>312312</td>\n",
       "      <td>2024-07-24</td>\n",
       "      <td>110-小程序残品渠道</td>\n",
       "      <td>REPRESENT</td>\n",
       "      <td>XL</td>\n",
       "      <td>蓝色</td>\n",
       "      <td>15523</td>\n",
       "      <td>短裤</td>\n",
       "      <td>REPRESENT 男士 短裤 【M09050-109 COBALT XL】</td>\n",
       "    </tr>\n",
       "    <tr>\n",
       "      <th>2</th>\n",
       "      <td>7202407241667168</td>\n",
       "      <td>1479119</td>\n",
       "      <td>300068</td>\n",
       "      <td>121</td>\n",
       "      <td>123123</td>\n",
       "      <td>312312</td>\n",
       "      <td>2024-07-24</td>\n",
       "      <td>110-小程序残品渠道</td>\n",
       "      <td>REPRESENT</td>\n",
       "      <td>S</td>\n",
       "      <td>褐色</td>\n",
       "      <td>15523</td>\n",
       "      <td>短裤</td>\n",
       "      <td>REPRESENT 褐色简约休闲日常通勤男士短裤， 【M09019-04 BROWN S】,</td>\n",
       "    </tr>\n",
       "    <tr>\n",
       "      <th>3</th>\n",
       "      <td>7202407241667168</td>\n",
       "      <td>1605537</td>\n",
       "      <td>300068</td>\n",
       "      <td>121</td>\n",
       "      <td>123123</td>\n",
       "      <td>312312</td>\n",
       "      <td>2024-07-24</td>\n",
       "      <td>110-小程序残品渠道</td>\n",
       "      <td>REPRESENT</td>\n",
       "      <td>M</td>\n",
       "      <td>米白色</td>\n",
       "      <td>14234</td>\n",
       "      <td>T恤</td>\n",
       "      <td>REPRESENT 男士 T恤 【M05236-72 FLAT WHITE M】</td>\n",
       "    </tr>\n",
       "    <tr>\n",
       "      <th>4</th>\n",
       "      <td>7202407241667168</td>\n",
       "      <td>1479113</td>\n",
       "      <td>300068</td>\n",
       "      <td>121</td>\n",
       "      <td>123123</td>\n",
       "      <td>312312</td>\n",
       "      <td>2024-07-24</td>\n",
       "      <td>110-小程序残品渠道</td>\n",
       "      <td>REPRESENT</td>\n",
       "      <td>XS</td>\n",
       "      <td>黑色</td>\n",
       "      <td>15523</td>\n",
       "      <td>短裤</td>\n",
       "      <td>REPRESENT 黑色简约休闲日常通勤男士短裤， 【M09019-88 BLACKCOTT...</td>\n",
       "    </tr>\n",
       "    <tr>\n",
       "      <th>...</th>\n",
       "      <td>...</td>\n",
       "      <td>...</td>\n",
       "      <td>...</td>\n",
       "      <td>...</td>\n",
       "      <td>...</td>\n",
       "      <td>...</td>\n",
       "      <td>...</td>\n",
       "      <td>...</td>\n",
       "      <td>...</td>\n",
       "      <td>...</td>\n",
       "      <td>...</td>\n",
       "      <td>...</td>\n",
       "      <td>...</td>\n",
       "      <td>...</td>\n",
       "    </tr>\n",
       "    <tr>\n",
       "      <th>621930</th>\n",
       "      <td>421080453984</td>\n",
       "      <td>1397471</td>\n",
       "      <td>190815</td>\n",
       "      <td>98</td>\n",
       "      <td>王翀</td>\n",
       "      <td>13600522998</td>\n",
       "      <td>2021-08-04</td>\n",
       "      <td>喵街-311-西有杭州武林A店</td>\n",
       "      <td>ZEGNA</td>\n",
       "      <td>40</td>\n",
       "      <td>浅蓝色</td>\n",
       "      <td>14233</td>\n",
       "      <td>衬衫</td>\n",
       "      <td>ZEGNA 浅蓝色棉质 商务休闲男士长袖衬衫 6T5021 9XTJDI SKY MEN S...</td>\n",
       "    </tr>\n",
       "    <tr>\n",
       "      <th>621931</th>\n",
       "      <td>421080453984</td>\n",
       "      <td>1425089</td>\n",
       "      <td>300061</td>\n",
       "      <td>98</td>\n",
       "      <td>王翀</td>\n",
       "      <td>13600522998</td>\n",
       "      <td>2021-08-04</td>\n",
       "      <td>喵街-311-西有杭州武林A店</td>\n",
       "      <td>EMPORIO ARMANI</td>\n",
       "      <td>S</td>\n",
       "      <td>黑色</td>\n",
       "      <td>14233</td>\n",
       "      <td>衬衫</td>\n",
       "      <td>EMPORIO ARMANI/阿玛尼 男士 黑色 商务休闲短袖衬衫，【3H1C91 1NXK...</td>\n",
       "    </tr>\n",
       "    <tr>\n",
       "      <th>621932</th>\n",
       "      <td>421080461792</td>\n",
       "      <td>1477097</td>\n",
       "      <td>196603</td>\n",
       "      <td>98</td>\n",
       "      <td>韩玉阔</td>\n",
       "      <td>010-56255750</td>\n",
       "      <td>2021-08-04</td>\n",
       "      <td>寺库</td>\n",
       "      <td>HUGO BOSS</td>\n",
       "      <td>S</td>\n",
       "      <td>白色</td>\n",
       "      <td>14234</td>\n",
       "      <td>T恤</td>\n",
       "      <td>HUGO BOSS/雨果博斯 纯色棉质字母装饰印花男士短袖圆领T恤,【50426319 10...</td>\n",
       "    </tr>\n",
       "    <tr>\n",
       "      <th>621933</th>\n",
       "      <td>421080447128</td>\n",
       "      <td>1450857</td>\n",
       "      <td>300165</td>\n",
       "      <td>98</td>\n",
       "      <td>李抢弟</td>\n",
       "      <td>15861988057</td>\n",
       "      <td>2021-08-04</td>\n",
       "      <td>喵街-311-西有杭州武林A店</td>\n",
       "      <td>COACH</td>\n",
       "      <td>18*5*11cm</td>\n",
       "      <td>浅棕</td>\n",
       "      <td>15571</td>\n",
       "      <td>单肩包</td>\n",
       "      <td>COACH蔻驰 女士翻盖单肩包斜挎链条包 腰包【2605IMR2K 浅棕】300165(虚库）</td>\n",
       "    </tr>\n",
       "    <tr>\n",
       "      <th>621934</th>\n",
       "      <td>421080488594</td>\n",
       "      <td>1480187</td>\n",
       "      <td>300217</td>\n",
       "      <td>336</td>\n",
       "      <td>杨洁</td>\n",
       "      <td>13586682658</td>\n",
       "      <td>2021-08-04</td>\n",
       "      <td>喵街-311-西有杭州武林A店</td>\n",
       "      <td>APM MONACO</td>\n",
       "      <td>直径约1.6cm</td>\n",
       "      <td>银色</td>\n",
       "      <td>14750</td>\n",
       "      <td>耳钉</td>\n",
       "      <td>APM Monaco母贝耳环耳钉女气质耳坠个性银饰品耳饰【AE10108XNA】300217...</td>\n",
       "    </tr>\n",
       "  </tbody>\n",
       "</table>\n",
       "<p>621935 rows × 14 columns</p>\n",
       "</div>"
      ],
      "text/plain": [
       "                order_ID  item_ID supplier_ID warehouse receiver  \\\n",
       "0       7202407241667168  1603313      204160       121   123123   \n",
       "1       7202407241667168  1605657      300068       121   123123   \n",
       "2       7202407241667168  1479119      300068       121   123123   \n",
       "3       7202407241667168  1605537      300068       121   123123   \n",
       "4       7202407241667168  1479113      300068       121   123123   \n",
       "...                  ...      ...         ...       ...      ...   \n",
       "621930      421080453984  1397471      190815        98       王翀   \n",
       "621931      421080453984  1425089      300061        98       王翀   \n",
       "621932      421080461792  1477097      196603        98      韩玉阔   \n",
       "621933      421080447128  1450857      300165        98      李抢弟   \n",
       "621934      421080488594  1480187      300217       336       杨洁   \n",
       "\n",
       "       receiver_phone  order_time          channel           brand       size  \\\n",
       "0              312312  2024-07-24      110-小程序残品渠道  MAISON KITSUNE          M   \n",
       "1              312312  2024-07-24      110-小程序残品渠道       REPRESENT         XL   \n",
       "2              312312  2024-07-24      110-小程序残品渠道       REPRESENT          S   \n",
       "3              312312  2024-07-24      110-小程序残品渠道       REPRESENT          M   \n",
       "4              312312  2024-07-24      110-小程序残品渠道       REPRESENT         XS   \n",
       "...               ...         ...              ...             ...        ...   \n",
       "621930    13600522998  2021-08-04  喵街-311-西有杭州武林A店           ZEGNA         40   \n",
       "621931    13600522998  2021-08-04  喵街-311-西有杭州武林A店  EMPORIO ARMANI          S   \n",
       "621932   010-56255750  2021-08-04               寺库       HUGO BOSS          S   \n",
       "621933    15861988057  2021-08-04  喵街-311-西有杭州武林A店           COACH  18*5*11cm   \n",
       "621934    13586682658  2021-08-04  喵街-311-西有杭州武林A店      APM MONACO   直径约1.6cm   \n",
       "\n",
       "       color buclass_ID buclass  \\\n",
       "0         白色      14234      T恤   \n",
       "1         蓝色      15523      短裤   \n",
       "2         褐色      15523      短裤   \n",
       "3        米白色      14234      T恤   \n",
       "4         黑色      15523      短裤   \n",
       "...      ...        ...     ...   \n",
       "621930   浅蓝色      14233      衬衫   \n",
       "621931    黑色      14233      衬衫   \n",
       "621932    白色      14234      T恤   \n",
       "621933    浅棕      15571     单肩包   \n",
       "621934    银色      14750      耳钉   \n",
       "\n",
       "                                                item_name  \n",
       "0             MAISON KITSUNE 男士 T恤 【KM00133KJ0035 P100 M】  \n",
       "1                  REPRESENT 男士 短裤 【M09050-109 COBALT XL】  \n",
       "2          REPRESENT 褐色简约休闲日常通勤男士短裤， 【M09019-04 BROWN S】,  \n",
       "3                REPRESENT 男士 T恤 【M05236-72 FLAT WHITE M】  \n",
       "4       REPRESENT 黑色简约休闲日常通勤男士短裤， 【M09019-88 BLACKCOTT...  \n",
       "...                                                   ...  \n",
       "621930  ZEGNA 浅蓝色棉质 商务休闲男士长袖衬衫 6T5021 9XTJDI SKY MEN S...  \n",
       "621931  EMPORIO ARMANI/阿玛尼 男士 黑色 商务休闲短袖衬衫，【3H1C91 1NXK...  \n",
       "621932  HUGO BOSS/雨果博斯 纯色棉质字母装饰印花男士短袖圆领T恤,【50426319 10...  \n",
       "621933    COACH蔻驰 女士翻盖单肩包斜挎链条包 腰包【2605IMR2K 浅棕】300165(虚库）  \n",
       "621934  APM Monaco母贝耳环耳钉女气质耳坠个性银饰品耳饰【AE10108XNA】300217...  \n",
       "\n",
       "[621935 rows x 14 columns]"
      ]
     },
     "execution_count": 118,
     "metadata": {},
     "output_type": "execute_result"
    }
   ],
   "source": [
    "df1e[['order_ID','item_ID', 'supplier_ID', 'warehouse','receiver','receiver_phone','order_time',\n",
    "      'channel','brand','size','color','buclass_ID','buclass', 'item_name']]"
   ]
  },
  {
   "cell_type": "code",
   "execution_count": 60,
   "id": "7b53a58b-6d53-4d39-95ac-2c2084b386ac",
   "metadata": {},
   "outputs": [
    {
     "data": {
      "text/plain": [
       "([0, 1, 2, 3, 4, 5, 6, 7, 8, 9, 10, 11, 12, 13],\n",
       " [Text(0, 0, 'order_ID'),\n",
       "  Text(1, 0, 'item_ID'),\n",
       "  Text(2, 0, 'supplier_ID'),\n",
       "  Text(3, 0, 'warehouse'),\n",
       "  Text(4, 0, 'receiver'),\n",
       "  Text(5, 0, 'receiver_phone'),\n",
       "  Text(6, 0, 'order_time'),\n",
       "  Text(7, 0, 'channel'),\n",
       "  Text(8, 0, 'brand'),\n",
       "  Text(9, 0, 'size'),\n",
       "  Text(10, 0, 'color'),\n",
       "  Text(11, 0, 'buclass_ID'),\n",
       "  Text(12, 0, 'buclass'),\n",
       "  Text(13, 0, 'item_name')])"
      ]
     },
     "execution_count": 60,
     "metadata": {},
     "output_type": "execute_result"
    },
    {
     "data": {
      "image/png": "[encoded data removed]",
      "text/plain": [
       "<Figure size 640x480 with 1 Axes>"
      ]
     },
     "metadata": {},
     "output_type": "display_data"
    }
   ],
   "source": [
    "plt.bar(df1e_nuni.index,df1e_nuni.values)\n",
    "plt.xticks(rotation = 40)"
   ]
  },
  {
   "cell_type": "markdown",
   "id": "7a017683-8897-463d-9aca-bb620d07b48c",
   "metadata": {},
   "source": [
    "* the number of receivers is different from that of receiver_phone. It means that one receiver may have 1.68 phone number on average."
   ]
  },
  {
   "cell_type": "code",
   "execution_count": 255,
   "id": "645bda4f-7272-4c79-9eab-0ba33fdb42c0",
   "metadata": {},
   "outputs": [
    {
     "data": {
      "text/html": [
       "<div>\n",
       "<style scoped>\n",
       "    .dataframe tbody tr th:only-of-type {\n",
       "        vertical-align: middle;\n",
       "    }\n",
       "\n",
       "    .dataframe tbody tr th {\n",
       "        vertical-align: top;\n",
       "    }\n",
       "\n",
       "    .dataframe thead th {\n",
       "        text-align: right;\n",
       "    }\n",
       "</style>\n",
       "<table border=\"1\" class=\"dataframe\">\n",
       "  <thead>\n",
       "    <tr style=\"text-align: right;\">\n",
       "      <th></th>\n",
       "      <th>order_ID</th>\n",
       "      <th>item_ID</th>\n",
       "      <th>supplier_ID</th>\n",
       "      <th>warehouse</th>\n",
       "      <th>unit_price</th>\n",
       "      <th>amount</th>\n",
       "      <th>receiver</th>\n",
       "      <th>receiver_phone</th>\n",
       "      <th>total_price</th>\n",
       "      <th>order_time</th>\n",
       "      <th>channel</th>\n",
       "      <th>brand</th>\n",
       "      <th>cost</th>\n",
       "      <th>market_price</th>\n",
       "      <th>size</th>\n",
       "      <th>color</th>\n",
       "      <th>buclass_ID</th>\n",
       "      <th>buclass</th>\n",
       "      <th>item_name</th>\n",
       "      <th>discount_region</th>\n",
       "    </tr>\n",
       "  </thead>\n",
       "  <tbody>\n",
       "    <tr>\n",
       "      <th>0</th>\n",
       "      <td>7202407241667168</td>\n",
       "      <td>1603313</td>\n",
       "      <td>204160</td>\n",
       "      <td>121</td>\n",
       "      <td>243.0</td>\n",
       "      <td>1</td>\n",
       "      <td>123123</td>\n",
       "      <td>312312</td>\n",
       "      <td>1854.0</td>\n",
       "      <td>2024-07-24</td>\n",
       "      <td>110-小程序残品渠道</td>\n",
       "      <td>MAISON KITSUNE</td>\n",
       "      <td>367.89</td>\n",
       "      <td>1150.0</td>\n",
       "      <td>M</td>\n",
       "      <td>白色</td>\n",
       "      <td>14234</td>\n",
       "      <td>T恤</td>\n",
       "      <td>MAISON KITSUNE 男士 T恤 【KM00133KJ0035 P100 M】</td>\n",
       "      <td>0.211304</td>\n",
       "    </tr>\n",
       "    <tr>\n",
       "      <th>1</th>\n",
       "      <td>7202407241667168</td>\n",
       "      <td>1605657</td>\n",
       "      <td>300068</td>\n",
       "      <td>121</td>\n",
       "      <td>185.0</td>\n",
       "      <td>1</td>\n",
       "      <td>123123</td>\n",
       "      <td>312312</td>\n",
       "      <td>1854.0</td>\n",
       "      <td>2024-07-24</td>\n",
       "      <td>110-小程序残品渠道</td>\n",
       "      <td>REPRESENT</td>\n",
       "      <td>342.11</td>\n",
       "      <td>1200.0</td>\n",
       "      <td>XL</td>\n",
       "      <td>蓝色</td>\n",
       "      <td>15523</td>\n",
       "      <td>短裤</td>\n",
       "      <td>REPRESENT 男士 短裤 【M09050-109 COBALT XL】</td>\n",
       "      <td>0.154167</td>\n",
       "    </tr>\n",
       "  </tbody>\n",
       "</table>\n",
       "</div>"
      ],
      "text/plain": [
       "           order_ID  item_ID supplier_ID warehouse  unit_price  amount  \\\n",
       "0  7202407241667168  1603313      204160       121       243.0       1   \n",
       "1  7202407241667168  1605657      300068       121       185.0       1   \n",
       "\n",
       "  receiver receiver_phone  total_price  order_time      channel  \\\n",
       "0   123123         312312       1854.0  2024-07-24  110-小程序残品渠道   \n",
       "1   123123         312312       1854.0  2024-07-24  110-小程序残品渠道   \n",
       "\n",
       "            brand    cost  market_price size color buclass_ID buclass  \\\n",
       "0  MAISON KITSUNE  367.89        1150.0    M    白色      14234      T恤   \n",
       "1       REPRESENT  342.11        1200.0   XL    蓝色      15523      短裤   \n",
       "\n",
       "                                     item_name  discount_region  \n",
       "0  MAISON KITSUNE 男士 T恤 【KM00133KJ0035 P100 M】         0.211304  \n",
       "1       REPRESENT 男士 短裤 【M09050-109 COBALT XL】         0.154167  "
      ]
     },
     "execution_count": 255,
     "metadata": {},
     "output_type": "execute_result"
    }
   ],
   "source": [
    "df1e.head(2)"
   ]
  },
  {
   "cell_type": "markdown",
   "id": "6874b3de-484a-4195-8080-390d7a8d3d23",
   "metadata": {},
   "source": [
    "***Problem 5: The average total price for one order is given by each customer***"
   ]
  },
  {
   "cell_type": "code",
   "execution_count": null,
   "id": "4c0975a7-6774-4749-a2de-d690aa1b4678",
   "metadata": {},
   "outputs": [],
   "source": [
    "def get_avg(x):\n",
    "    x"
   ]
  },
  {
   "cell_type": "code",
   "execution_count": 64,
   "id": "448389f1-eb9a-4a53-b04a-657dd4b5ea02",
   "metadata": {},
   "outputs": [
    {
     "data": {
      "text/plain": [
       "receiver_phone\n",
       "'13521382158       0.00\n",
       "'13548580938       0.00\n",
       "'13581720555       0.00\n",
       "'13601741920       0.00\n",
       "'13631441028       0.00\n",
       "                 ...   \n",
       "调账               228.72\n",
       "贾小姐             6400.00\n",
       "金小姐             1586.50\n",
       "陈君君              360.00\n",
       "，18767125731    3262.00\n",
       "Name: total_price, Length: 267338, dtype: float64"
      ]
     },
     "execution_count": 64,
     "metadata": {},
     "output_type": "execute_result"
    }
   ],
   "source": [
    "df1e_select_p5 = df1e[['order_ID', 'receiver_phone','total_price']]\n",
    "df1e5 = df1e_select_p5.groupby(by = 'receiver_phone')['total_price'].sum()\n",
    "df1e5"
   ]
  },
  {
   "cell_type": "code",
   "execution_count": 333,
   "id": "45523123-0957-4788-8eaf-192d12744f1c",
   "metadata": {},
   "outputs": [],
   "source": [
    "ff=df1e_select_p5.loc[df1e_select_p5['receiver_phone']=='13521382158'].reset_index()"
   ]
  },
  {
   "cell_type": "code",
   "execution_count": 334,
   "id": "de37d3aa-5d9d-4df7-8dc7-5f3ee72d7d4d",
   "metadata": {
    "scrolled": true
   },
   "outputs": [
    {
     "data": {
      "text/html": [
       "<div>\n",
       "<style scoped>\n",
       "    .dataframe tbody tr th:only-of-type {\n",
       "        vertical-align: middle;\n",
       "    }\n",
       "\n",
       "    .dataframe tbody tr th {\n",
       "        vertical-align: top;\n",
       "    }\n",
       "\n",
       "    .dataframe thead th {\n",
       "        text-align: right;\n",
       "    }\n",
       "</style>\n",
       "<table border=\"1\" class=\"dataframe\">\n",
       "  <thead>\n",
       "    <tr style=\"text-align: right;\">\n",
       "      <th></th>\n",
       "      <th>index</th>\n",
       "      <th>order_ID</th>\n",
       "      <th>receiver_phone</th>\n",
       "      <th>total_price</th>\n",
       "    </tr>\n",
       "  </thead>\n",
       "  <tbody>\n",
       "    <tr>\n",
       "      <th>0</th>\n",
       "      <td>415770</td>\n",
       "      <td>7202203211154587</td>\n",
       "      <td>13521382158</td>\n",
       "      <td>622.47</td>\n",
       "    </tr>\n",
       "    <tr>\n",
       "      <th>1</th>\n",
       "      <td>415771</td>\n",
       "      <td>7202203211154587</td>\n",
       "      <td>13521382158</td>\n",
       "      <td>622.47</td>\n",
       "    </tr>\n",
       "    <tr>\n",
       "      <th>2</th>\n",
       "      <td>463160</td>\n",
       "      <td>7202201291462446</td>\n",
       "      <td>13521382158</td>\n",
       "      <td>945.33</td>\n",
       "    </tr>\n",
       "    <tr>\n",
       "      <th>3</th>\n",
       "      <td>466094</td>\n",
       "      <td>7202201251677316</td>\n",
       "      <td>13521382158</td>\n",
       "      <td>934.64</td>\n",
       "    </tr>\n",
       "    <tr>\n",
       "      <th>4</th>\n",
       "      <td>466095</td>\n",
       "      <td>7202201251747212</td>\n",
       "      <td>13521382158</td>\n",
       "      <td>1890.66</td>\n",
       "    </tr>\n",
       "    <tr>\n",
       "      <th>5</th>\n",
       "      <td>466096</td>\n",
       "      <td>7202201251747212</td>\n",
       "      <td>13521382158</td>\n",
       "      <td>1890.66</td>\n",
       "    </tr>\n",
       "    <tr>\n",
       "      <th>6</th>\n",
       "      <td>467976</td>\n",
       "      <td>7202201231400007</td>\n",
       "      <td>13521382158</td>\n",
       "      <td>1615.00</td>\n",
       "    </tr>\n",
       "  </tbody>\n",
       "</table>\n",
       "</div>"
      ],
      "text/plain": [
       "    index          order_ID receiver_phone  total_price\n",
       "0  415770  7202203211154587    13521382158       622.47\n",
       "1  415771  7202203211154587    13521382158       622.47\n",
       "2  463160  7202201291462446    13521382158       945.33\n",
       "3  466094  7202201251677316    13521382158       934.64\n",
       "4  466095  7202201251747212    13521382158      1890.66\n",
       "5  466096  7202201251747212    13521382158      1890.66\n",
       "6  467976  7202201231400007    13521382158      1615.00"
      ]
     },
     "execution_count": 334,
     "metadata": {},
     "output_type": "execute_result"
    }
   ],
   "source": [
    "ff"
   ]
  },
  {
   "cell_type": "markdown",
   "id": "11a78b8a-248c-4bd5-b099-2363e9b58c64",
   "metadata": {},
   "source": [
    "***Problem 6: The total number of brands,the best 10 seller, and the most profitable brand***"
   ]
  },
  {
   "cell_type": "code",
   "execution_count": 335,
   "id": "9af7036c-560c-403c-9019-a5ee3a7f0207",
   "metadata": {},
   "outputs": [
    {
     "data": {
      "text/plain": [
       "640"
      ]
     },
     "execution_count": 335,
     "metadata": {},
     "output_type": "execute_result"
    }
   ],
   "source": [
    "df1e['brand'].nunique() "
   ]
  },
  {
   "cell_type": "code",
   "execution_count": 340,
   "id": "1a0d9ed8-2fdb-4b8c-8560-653bf107da9e",
   "metadata": {},
   "outputs": [
    {
     "data": {
      "text/plain": [
       "brand\n",
       "INSPIRE&STORIES            29456\n",
       "HUGO BOSS                  28809\n",
       "MAISON KITSUNE             25123\n",
       "PS PAUL SMITH              22677\n",
       "AMI Alexandre Mattiussi    21159\n",
       "Aquascutum                 19121\n",
       "COACH                      16899\n",
       "GANNI                      15795\n",
       "Alexia Sandra              15711\n",
       "EMPORIO ARMANI             14743\n",
       "Name: count, dtype: int64"
      ]
     },
     "execution_count": 340,
     "metadata": {},
     "output_type": "execute_result"
    }
   ],
   "source": [
    "df1e['brand'].value_counts().nlargest(10)"
   ]
  },
  {
   "cell_type": "code",
   "execution_count": 70,
   "id": "8c891a06-7239-4ae1-b4d5-9c9e2f92df5f",
   "metadata": {},
   "outputs": [
    {
     "data": {
      "text/plain": [
       "<BarContainer object of 10 artists>"
      ]
     },
     "execution_count": 70,
     "metadata": {},
     "output_type": "execute_result"
    },
    {
     "data": {
      "image/png": "[encoded data removed]",
      "text/plain": [
       "<Figure size 640x480 with 1 Axes>"
      ]
     },
     "metadata": {},
     "output_type": "display_data"
    }
   ],
   "source": [
    "df1e_brand = df1e['brand'].value_counts().nlargest(10)\n",
    "plt.barh(df1e_brand.index, df1e_brand.values)\n",
    "#plt.xticks(rotation = 90)"
   ]
  },
  {
   "cell_type": "code",
   "execution_count": 71,
   "id": "9b5209fe-c9ed-4056-8dc5-4fe50ba66c6a",
   "metadata": {},
   "outputs": [
    {
     "name": "stderr",
     "output_type": "stream",
     "text": [
      "/var/folders/v_/pz1y43wn4p37psf9jsgbm27w0000gn/T/ipykernel_57976/3878196762.py:2: SettingWithCopyWarning: \n",
      "A value is trying to be set on a copy of a slice from a DataFrame.\n",
      "Try using .loc[row_indexer,col_indexer] = value instead\n",
      "\n",
      "See the caveats in the documentation: https://pandas.pydata.org/pandas-docs/stable/user_guide/indexing.html#returning-a-view-versus-a-copy\n",
      "  df1e_costbrand['profit']=df1e_costbrand['unit_price']-df1e_costbrand['cost']\n"
     ]
    }
   ],
   "source": [
    "df1e_costbrand = df1e[['brand','cost','unit_price','total_price','market_price','discount_region']]\n",
    "df1e_costbrand['profit']=df1e_costbrand['unit_price']-df1e_costbrand['cost']\n",
    "df1e_cbsort = df1e_costbrand.sort_values(by='profit', ascending = False)"
   ]
  },
  {
   "cell_type": "code",
   "execution_count": 72,
   "id": "96395a3d-4859-40ae-a40c-6ac95f7e9f11",
   "metadata": {},
   "outputs": [
    {
     "data": {
      "text/html": [
       "<div>\n",
       "<style scoped>\n",
       "    .dataframe tbody tr th:only-of-type {\n",
       "        vertical-align: middle;\n",
       "    }\n",
       "\n",
       "    .dataframe tbody tr th {\n",
       "        vertical-align: top;\n",
       "    }\n",
       "\n",
       "    .dataframe thead th {\n",
       "        text-align: right;\n",
       "    }\n",
       "</style>\n",
       "<table border=\"1\" class=\"dataframe\">\n",
       "  <thead>\n",
       "    <tr style=\"text-align: right;\">\n",
       "      <th></th>\n",
       "      <th>brand</th>\n",
       "      <th>cost</th>\n",
       "      <th>unit_price</th>\n",
       "      <th>total_price</th>\n",
       "      <th>market_price</th>\n",
       "      <th>discount_region</th>\n",
       "      <th>profit</th>\n",
       "    </tr>\n",
       "  </thead>\n",
       "  <tbody>\n",
       "    <tr>\n",
       "      <th>488109</th>\n",
       "      <td>IMMI</td>\n",
       "      <td>224.2000</td>\n",
       "      <td>1518102.00</td>\n",
       "      <td>1518102.00</td>\n",
       "      <td>590.0</td>\n",
       "      <td>2573.054237</td>\n",
       "      <td>1.517878e+06</td>\n",
       "    </tr>\n",
       "    <tr>\n",
       "      <th>506870</th>\n",
       "      <td>TOIT VOLANT</td>\n",
       "      <td>0.0000</td>\n",
       "      <td>201134.70</td>\n",
       "      <td>201134.70</td>\n",
       "      <td>1990.0</td>\n",
       "      <td>101.072714</td>\n",
       "      <td>2.011347e+05</td>\n",
       "    </tr>\n",
       "    <tr>\n",
       "      <th>270094</th>\n",
       "      <td>PINKO</td>\n",
       "      <td>735.1700</td>\n",
       "      <td>100000.00</td>\n",
       "      <td>100000.00</td>\n",
       "      <td>3350.0</td>\n",
       "      <td>29.850746</td>\n",
       "      <td>9.926483e+04</td>\n",
       "    </tr>\n",
       "    <tr>\n",
       "      <th>62914</th>\n",
       "      <td>13DE MARZO</td>\n",
       "      <td>979.0000</td>\n",
       "      <td>100000.00</td>\n",
       "      <td>100000.00</td>\n",
       "      <td>2080.0</td>\n",
       "      <td>48.076923</td>\n",
       "      <td>9.902100e+04</td>\n",
       "    </tr>\n",
       "    <tr>\n",
       "      <th>319905</th>\n",
       "      <td>Sofitte</td>\n",
       "      <td>305.6773</td>\n",
       "      <td>58357.00</td>\n",
       "      <td>58357.00</td>\n",
       "      <td>1380.0</td>\n",
       "      <td>42.287681</td>\n",
       "      <td>5.805132e+04</td>\n",
       "    </tr>\n",
       "    <tr>\n",
       "      <th>508434</th>\n",
       "      <td>Mr&amp;Mrs Italy</td>\n",
       "      <td>1801.0000</td>\n",
       "      <td>36959.00</td>\n",
       "      <td>36959.00</td>\n",
       "      <td>51300.0</td>\n",
       "      <td>0.720448</td>\n",
       "      <td>3.515800e+04</td>\n",
       "    </tr>\n",
       "    <tr>\n",
       "      <th>479810</th>\n",
       "      <td>TOIT VOLANT</td>\n",
       "      <td>0.0000</td>\n",
       "      <td>33005.00</td>\n",
       "      <td>33005.00</td>\n",
       "      <td>1990.0</td>\n",
       "      <td>16.585427</td>\n",
       "      <td>3.300500e+04</td>\n",
       "    </tr>\n",
       "    <tr>\n",
       "      <th>497692</th>\n",
       "      <td>Mr&amp;Mrs Italy</td>\n",
       "      <td>1619.0000</td>\n",
       "      <td>31963.55</td>\n",
       "      <td>31963.55</td>\n",
       "      <td>46100.0</td>\n",
       "      <td>0.693352</td>\n",
       "      <td>3.034455e+04</td>\n",
       "    </tr>\n",
       "    <tr>\n",
       "      <th>431692</th>\n",
       "      <td>SALVATORE FERRAGAMO</td>\n",
       "      <td>2353.1600</td>\n",
       "      <td>31832.00</td>\n",
       "      <td>31832.00</td>\n",
       "      <td>4950.0</td>\n",
       "      <td>6.430707</td>\n",
       "      <td>2.947884e+04</td>\n",
       "    </tr>\n",
       "    <tr>\n",
       "      <th>483719</th>\n",
       "      <td>Mr&amp;Mrs Italy</td>\n",
       "      <td>1222.0000</td>\n",
       "      <td>23733.60</td>\n",
       "      <td>23733.60</td>\n",
       "      <td>34800.0</td>\n",
       "      <td>0.682000</td>\n",
       "      <td>2.251160e+04</td>\n",
       "    </tr>\n",
       "    <tr>\n",
       "      <th>298854</th>\n",
       "      <td>LOEWE</td>\n",
       "      <td>19050.3300</td>\n",
       "      <td>41310.00</td>\n",
       "      <td>50850.00</td>\n",
       "      <td>45900.0</td>\n",
       "      <td>0.900000</td>\n",
       "      <td>2.225967e+04</td>\n",
       "    </tr>\n",
       "    <tr>\n",
       "      <th>288973</th>\n",
       "      <td>LOEWE</td>\n",
       "      <td>19050.3300</td>\n",
       "      <td>41310.00</td>\n",
       "      <td>41310.00</td>\n",
       "      <td>45900.0</td>\n",
       "      <td>0.900000</td>\n",
       "      <td>2.225967e+04</td>\n",
       "    </tr>\n",
       "    <tr>\n",
       "      <th>565899</th>\n",
       "      <td>Mr&amp;Mrs Italy</td>\n",
       "      <td>16338.0000</td>\n",
       "      <td>38400.00</td>\n",
       "      <td>38400.00</td>\n",
       "      <td>38900.0</td>\n",
       "      <td>0.987147</td>\n",
       "      <td>2.206200e+04</td>\n",
       "    </tr>\n",
       "    <tr>\n",
       "      <th>504284</th>\n",
       "      <td>Mr&amp;Mrs Italy</td>\n",
       "      <td>13925.1500</td>\n",
       "      <td>35800.00</td>\n",
       "      <td>35800.00</td>\n",
       "      <td>36300.0</td>\n",
       "      <td>0.986226</td>\n",
       "      <td>2.187485e+04</td>\n",
       "    </tr>\n",
       "    <tr>\n",
       "      <th>44593</th>\n",
       "      <td>LOEWE</td>\n",
       "      <td>19537.3500</td>\n",
       "      <td>39080.00</td>\n",
       "      <td>110800.00</td>\n",
       "      <td>47900.0</td>\n",
       "      <td>0.815866</td>\n",
       "      <td>1.954265e+04</td>\n",
       "    </tr>\n",
       "    <tr>\n",
       "      <th>469301</th>\n",
       "      <td>Mr&amp;Mrs Italy</td>\n",
       "      <td>2026.0000</td>\n",
       "      <td>19700.00</td>\n",
       "      <td>19700.00</td>\n",
       "      <td>40400.0</td>\n",
       "      <td>0.487624</td>\n",
       "      <td>1.767400e+04</td>\n",
       "    </tr>\n",
       "    <tr>\n",
       "      <th>32942</th>\n",
       "      <td>CELINE</td>\n",
       "      <td>19227.1500</td>\n",
       "      <td>36250.00</td>\n",
       "      <td>36250.00</td>\n",
       "      <td>45000.0</td>\n",
       "      <td>0.805556</td>\n",
       "      <td>1.702285e+04</td>\n",
       "    </tr>\n",
       "    <tr>\n",
       "      <th>113353</th>\n",
       "      <td>CELINE</td>\n",
       "      <td>16131.5000</td>\n",
       "      <td>32999.00</td>\n",
       "      <td>32999.00</td>\n",
       "      <td>39500.0</td>\n",
       "      <td>0.835418</td>\n",
       "      <td>1.686750e+04</td>\n",
       "    </tr>\n",
       "    <tr>\n",
       "      <th>214036</th>\n",
       "      <td>FENDI</td>\n",
       "      <td>17849.5600</td>\n",
       "      <td>34160.00</td>\n",
       "      <td>34160.00</td>\n",
       "      <td>38500.0</td>\n",
       "      <td>0.887273</td>\n",
       "      <td>1.631044e+04</td>\n",
       "    </tr>\n",
       "    <tr>\n",
       "      <th>152</th>\n",
       "      <td>LOEWE</td>\n",
       "      <td>13876.3100</td>\n",
       "      <td>29900.00</td>\n",
       "      <td>29900.00</td>\n",
       "      <td>29900.0</td>\n",
       "      <td>1.000000</td>\n",
       "      <td>1.602369e+04</td>\n",
       "    </tr>\n",
       "    <tr>\n",
       "      <th>197171</th>\n",
       "      <td>VALEXTRA</td>\n",
       "      <td>11184.6500</td>\n",
       "      <td>27000.00</td>\n",
       "      <td>27000.00</td>\n",
       "      <td>27500.0</td>\n",
       "      <td>0.981818</td>\n",
       "      <td>1.581535e+04</td>\n",
       "    </tr>\n",
       "    <tr>\n",
       "      <th>196731</th>\n",
       "      <td>VALEXTRA</td>\n",
       "      <td>11326.2100</td>\n",
       "      <td>27000.00</td>\n",
       "      <td>27000.00</td>\n",
       "      <td>27500.0</td>\n",
       "      <td>0.981818</td>\n",
       "      <td>1.567379e+04</td>\n",
       "    </tr>\n",
       "    <tr>\n",
       "      <th>594361</th>\n",
       "      <td>Dior Homme</td>\n",
       "      <td>19711.0000</td>\n",
       "      <td>34760.00</td>\n",
       "      <td>34760.00</td>\n",
       "      <td>45000.0</td>\n",
       "      <td>0.772444</td>\n",
       "      <td>1.504900e+04</td>\n",
       "    </tr>\n",
       "    <tr>\n",
       "      <th>493460</th>\n",
       "      <td>Mr&amp;Mrs Italy</td>\n",
       "      <td>2026.0000</td>\n",
       "      <td>16983.40</td>\n",
       "      <td>16983.40</td>\n",
       "      <td>40400.0</td>\n",
       "      <td>0.420381</td>\n",
       "      <td>1.495740e+04</td>\n",
       "    </tr>\n",
       "    <tr>\n",
       "      <th>498371</th>\n",
       "      <td>Mr&amp;Mrs Italy</td>\n",
       "      <td>2026.0000</td>\n",
       "      <td>16953.40</td>\n",
       "      <td>16953.40</td>\n",
       "      <td>40400.0</td>\n",
       "      <td>0.419639</td>\n",
       "      <td>1.492740e+04</td>\n",
       "    </tr>\n",
       "    <tr>\n",
       "      <th>501339</th>\n",
       "      <td>Mr&amp;Mrs Italy</td>\n",
       "      <td>2026.0000</td>\n",
       "      <td>16953.40</td>\n",
       "      <td>16953.40</td>\n",
       "      <td>40400.0</td>\n",
       "      <td>0.419639</td>\n",
       "      <td>1.492740e+04</td>\n",
       "    </tr>\n",
       "    <tr>\n",
       "      <th>498033</th>\n",
       "      <td>Mr&amp;Mrs Italy</td>\n",
       "      <td>2026.0000</td>\n",
       "      <td>16953.40</td>\n",
       "      <td>16953.40</td>\n",
       "      <td>40400.0</td>\n",
       "      <td>0.419639</td>\n",
       "      <td>1.492740e+04</td>\n",
       "    </tr>\n",
       "    <tr>\n",
       "      <th>105686</th>\n",
       "      <td>VALEXTRA</td>\n",
       "      <td>10874.5700</td>\n",
       "      <td>25800.00</td>\n",
       "      <td>25800.00</td>\n",
       "      <td>25800.0</td>\n",
       "      <td>1.000000</td>\n",
       "      <td>1.492543e+04</td>\n",
       "    </tr>\n",
       "    <tr>\n",
       "      <th>481626</th>\n",
       "      <td>Mr&amp;Mrs Italy</td>\n",
       "      <td>2026.0000</td>\n",
       "      <td>16644.00</td>\n",
       "      <td>16644.00</td>\n",
       "      <td>40400.0</td>\n",
       "      <td>0.411980</td>\n",
       "      <td>1.461800e+04</td>\n",
       "    </tr>\n",
       "    <tr>\n",
       "      <th>485269</th>\n",
       "      <td>Mr&amp;Mrs Italy</td>\n",
       "      <td>2026.0000</td>\n",
       "      <td>16644.00</td>\n",
       "      <td>16644.00</td>\n",
       "      <td>40400.0</td>\n",
       "      <td>0.411980</td>\n",
       "      <td>1.461800e+04</td>\n",
       "    </tr>\n",
       "  </tbody>\n",
       "</table>\n",
       "</div>"
      ],
      "text/plain": [
       "                      brand        cost  unit_price  total_price  \\\n",
       "488109                 IMMI    224.2000  1518102.00   1518102.00   \n",
       "506870          TOIT VOLANT      0.0000   201134.70    201134.70   \n",
       "270094                PINKO    735.1700   100000.00    100000.00   \n",
       "62914            13DE MARZO    979.0000   100000.00    100000.00   \n",
       "319905              Sofitte    305.6773    58357.00     58357.00   \n",
       "508434         Mr&Mrs Italy   1801.0000    36959.00     36959.00   \n",
       "479810          TOIT VOLANT      0.0000    33005.00     33005.00   \n",
       "497692         Mr&Mrs Italy   1619.0000    31963.55     31963.55   \n",
       "431692  SALVATORE FERRAGAMO   2353.1600    31832.00     31832.00   \n",
       "483719         Mr&Mrs Italy   1222.0000    23733.60     23733.60   \n",
       "298854                LOEWE  19050.3300    41310.00     50850.00   \n",
       "288973                LOEWE  19050.3300    41310.00     41310.00   \n",
       "565899         Mr&Mrs Italy  16338.0000    38400.00     38400.00   \n",
       "504284         Mr&Mrs Italy  13925.1500    35800.00     35800.00   \n",
       "44593                 LOEWE  19537.3500    39080.00    110800.00   \n",
       "469301         Mr&Mrs Italy   2026.0000    19700.00     19700.00   \n",
       "32942                CELINE  19227.1500    36250.00     36250.00   \n",
       "113353               CELINE  16131.5000    32999.00     32999.00   \n",
       "214036                FENDI  17849.5600    34160.00     34160.00   \n",
       "152                   LOEWE  13876.3100    29900.00     29900.00   \n",
       "197171             VALEXTRA  11184.6500    27000.00     27000.00   \n",
       "196731             VALEXTRA  11326.2100    27000.00     27000.00   \n",
       "594361           Dior Homme  19711.0000    34760.00     34760.00   \n",
       "493460         Mr&Mrs Italy   2026.0000    16983.40     16983.40   \n",
       "498371         Mr&Mrs Italy   2026.0000    16953.40     16953.40   \n",
       "501339         Mr&Mrs Italy   2026.0000    16953.40     16953.40   \n",
       "498033         Mr&Mrs Italy   2026.0000    16953.40     16953.40   \n",
       "105686             VALEXTRA  10874.5700    25800.00     25800.00   \n",
       "481626         Mr&Mrs Italy   2026.0000    16644.00     16644.00   \n",
       "485269         Mr&Mrs Italy   2026.0000    16644.00     16644.00   \n",
       "\n",
       "        market_price  discount_region        profit  \n",
       "488109         590.0      2573.054237  1.517878e+06  \n",
       "506870        1990.0       101.072714  2.011347e+05  \n",
       "270094        3350.0        29.850746  9.926483e+04  \n",
       "62914         2080.0        48.076923  9.902100e+04  \n",
       "319905        1380.0        42.287681  5.805132e+04  \n",
       "508434       51300.0         0.720448  3.515800e+04  \n",
       "479810        1990.0        16.585427  3.300500e+04  \n",
       "497692       46100.0         0.693352  3.034455e+04  \n",
       "431692        4950.0         6.430707  2.947884e+04  \n",
       "483719       34800.0         0.682000  2.251160e+04  \n",
       "298854       45900.0         0.900000  2.225967e+04  \n",
       "288973       45900.0         0.900000  2.225967e+04  \n",
       "565899       38900.0         0.987147  2.206200e+04  \n",
       "504284       36300.0         0.986226  2.187485e+04  \n",
       "44593        47900.0         0.815866  1.954265e+04  \n",
       "469301       40400.0         0.487624  1.767400e+04  \n",
       "32942        45000.0         0.805556  1.702285e+04  \n",
       "113353       39500.0         0.835418  1.686750e+04  \n",
       "214036       38500.0         0.887273  1.631044e+04  \n",
       "152          29900.0         1.000000  1.602369e+04  \n",
       "197171       27500.0         0.981818  1.581535e+04  \n",
       "196731       27500.0         0.981818  1.567379e+04  \n",
       "594361       45000.0         0.772444  1.504900e+04  \n",
       "493460       40400.0         0.420381  1.495740e+04  \n",
       "498371       40400.0         0.419639  1.492740e+04  \n",
       "501339       40400.0         0.419639  1.492740e+04  \n",
       "498033       40400.0         0.419639  1.492740e+04  \n",
       "105686       25800.0         1.000000  1.492543e+04  \n",
       "481626       40400.0         0.411980  1.461800e+04  \n",
       "485269       40400.0         0.411980  1.461800e+04  "
      ]
     },
     "execution_count": 72,
     "metadata": {},
     "output_type": "execute_result"
    }
   ],
   "source": [
    "df1e_cbsort.head(30)"
   ]
  },
  {
   "cell_type": "markdown",
   "id": "6297ecd8-8ce2-42d5-9a40-30d13efa8735",
   "metadata": {},
   "source": [
    "***The brands of most profitable sellers: TOIT VOLANT, Mr&Mrs Italy, LOEWE, CELINE, VALEXTRA, Dior Homme***"
   ]
  },
  {
   "cell_type": "code",
   "execution_count": 377,
   "id": "f11135ed-f6b5-4b69-8b43-61634fb41d85",
   "metadata": {},
   "outputs": [
    {
     "data": {
      "text/html": [
       "<div>\n",
       "<style scoped>\n",
       "    .dataframe tbody tr th:only-of-type {\n",
       "        vertical-align: middle;\n",
       "    }\n",
       "\n",
       "    .dataframe tbody tr th {\n",
       "        vertical-align: top;\n",
       "    }\n",
       "\n",
       "    .dataframe thead th {\n",
       "        text-align: right;\n",
       "    }\n",
       "</style>\n",
       "<table border=\"1\" class=\"dataframe\">\n",
       "  <thead>\n",
       "    <tr style=\"text-align: right;\">\n",
       "      <th></th>\n",
       "      <th>order_ID</th>\n",
       "      <th>item_ID</th>\n",
       "      <th>supplier_ID</th>\n",
       "      <th>warehouse</th>\n",
       "      <th>unit_price</th>\n",
       "      <th>amount</th>\n",
       "      <th>receiver</th>\n",
       "      <th>receiver_phone</th>\n",
       "      <th>total_price</th>\n",
       "      <th>order_time</th>\n",
       "      <th>channel</th>\n",
       "      <th>brand</th>\n",
       "      <th>cost</th>\n",
       "      <th>market_price</th>\n",
       "      <th>size</th>\n",
       "      <th>color</th>\n",
       "      <th>buclass_ID</th>\n",
       "      <th>buclass</th>\n",
       "      <th>item_name</th>\n",
       "      <th>discount_region</th>\n",
       "    </tr>\n",
       "  </thead>\n",
       "  <tbody>\n",
       "    <tr>\n",
       "      <th>488109</th>\n",
       "      <td>3202201051790309</td>\n",
       "      <td>1518102</td>\n",
       "      <td>300227</td>\n",
       "      <td>98</td>\n",
       "      <td>1518102.0</td>\n",
       "      <td>1</td>\n",
       "      <td>陈汝佳</td>\n",
       "      <td>18684875216</td>\n",
       "      <td>1518102.0</td>\n",
       "      <td>2022-01-05</td>\n",
       "      <td>天猫精品</td>\n",
       "      <td>IMMI</td>\n",
       "      <td>224.20</td>\n",
       "      <td>590.0</td>\n",
       "      <td>00F</td>\n",
       "      <td>棕色</td>\n",
       "      <td>15498</td>\n",
       "      <td>帽子</td>\n",
       "      <td>设计师品牌 IMMI 女士斜纹棉布鸭舌帽【112HT002X 棕色 00F】</td>\n",
       "      <td>2573.054237</td>\n",
       "    </tr>\n",
       "    <tr>\n",
       "      <th>506870</th>\n",
       "      <td>3202112131279586</td>\n",
       "      <td>1506096</td>\n",
       "      <td>301281</td>\n",
       "      <td>358</td>\n",
       "      <td>201134.7</td>\n",
       "      <td>1</td>\n",
       "      <td>赵士博</td>\n",
       "      <td>183*****025</td>\n",
       "      <td>201134.7</td>\n",
       "      <td>2021-12-13</td>\n",
       "      <td>小红书</td>\n",
       "      <td>TOIT VOLANT</td>\n",
       "      <td>0.00</td>\n",
       "      <td>1990.0</td>\n",
       "      <td>XS</td>\n",
       "      <td>nan</td>\n",
       "      <td>15460</td>\n",
       "      <td>风衣</td>\n",
       "      <td>HENDAYE JUMPSUIT/KHAKI</td>\n",
       "      <td>101.072714</td>\n",
       "    </tr>\n",
       "    <tr>\n",
       "      <th>508434</th>\n",
       "      <td>7202112121293345</td>\n",
       "      <td>1396036</td>\n",
       "      <td>300096</td>\n",
       "      <td>98</td>\n",
       "      <td>36959.0</td>\n",
       "      <td>1</td>\n",
       "      <td>李洪艳</td>\n",
       "      <td>13886161988</td>\n",
       "      <td>36959.0</td>\n",
       "      <td>2021-12-12</td>\n",
       "      <td>MMI天猫旗舰店</td>\n",
       "      <td>Mr&amp;Mrs Italy</td>\n",
       "      <td>1801.00</td>\n",
       "      <td>51300.0</td>\n",
       "      <td>XS</td>\n",
       "      <td>1000</td>\n",
       "      <td>15461</td>\n",
       "      <td>大衣</td>\n",
       "      <td>MMI 绿色棉质狐狸毛内里时尚休闲女士派克大衣 192PK1011S 1000 LADY A...</td>\n",
       "      <td>0.720448</td>\n",
       "    </tr>\n",
       "    <tr>\n",
       "      <th>270094</th>\n",
       "      <td>3202207311413432</td>\n",
       "      <td>1544378</td>\n",
       "      <td>300006</td>\n",
       "      <td>98</td>\n",
       "      <td>100000.0</td>\n",
       "      <td>1</td>\n",
       "      <td>郑玉敏</td>\n",
       "      <td>18695223999</td>\n",
       "      <td>100000.0</td>\n",
       "      <td>2022-07-31</td>\n",
       "      <td>天猫精品</td>\n",
       "      <td>PINKO</td>\n",
       "      <td>735.17</td>\n",
       "      <td>3350.0</td>\n",
       "      <td>40</td>\n",
       "      <td>黑色</td>\n",
       "      <td>15552</td>\n",
       "      <td>迷你半裙</td>\n",
       "      <td>PINKO/品高 2022春夏 女士 迷你半裙【1G170S Y6WL ZD7 40】</td>\n",
       "      <td>29.850746</td>\n",
       "    </tr>\n",
       "  </tbody>\n",
       "</table>\n",
       "</div>"
      ],
      "text/plain": [
       "                order_ID  item_ID supplier_ID warehouse  unit_price  amount  \\\n",
       "488109  3202201051790309  1518102      300227        98   1518102.0       1   \n",
       "506870  3202112131279586  1506096      301281       358    201134.7       1   \n",
       "508434  7202112121293345  1396036      300096        98     36959.0       1   \n",
       "270094  3202207311413432  1544378      300006        98    100000.0       1   \n",
       "\n",
       "       receiver receiver_phone  total_price  order_time   channel  \\\n",
       "488109      陈汝佳    18684875216    1518102.0  2022-01-05      天猫精品   \n",
       "506870      赵士博    183*****025     201134.7  2021-12-13       小红书   \n",
       "508434      李洪艳    13886161988      36959.0  2021-12-12  MMI天猫旗舰店   \n",
       "270094      郑玉敏    18695223999     100000.0  2022-07-31      天猫精品   \n",
       "\n",
       "               brand     cost  market_price size color buclass_ID buclass  \\\n",
       "488109          IMMI   224.20         590.0  00F    棕色      15498      帽子   \n",
       "506870   TOIT VOLANT     0.00        1990.0   XS   nan      15460      风衣   \n",
       "508434  Mr&Mrs Italy  1801.00       51300.0   XS  1000      15461      大衣   \n",
       "270094         PINKO   735.17        3350.0   40    黑色      15552    迷你半裙   \n",
       "\n",
       "                                                item_name  discount_region  \n",
       "488109             设计师品牌 IMMI 女士斜纹棉布鸭舌帽【112HT002X 棕色 00F】      2573.054237  \n",
       "506870                             HENDAYE JUMPSUIT/KHAKI       101.072714  \n",
       "508434  MMI 绿色棉质狐狸毛内里时尚休闲女士派克大衣 192PK1011S 1000 LADY A...         0.720448  \n",
       "270094        PINKO/品高 2022春夏 女士 迷你半裙【1G170S Y6WL ZD7 40】        29.850746  "
      ]
     },
     "execution_count": 377,
     "metadata": {},
     "output_type": "execute_result"
    }
   ],
   "source": [
    "df1e.iloc[[488109,506870,508434,270094],:] # ? missing value?"
   ]
  },
  {
   "cell_type": "code",
   "execution_count": 119,
   "id": "b28e3119-f4d6-4d01-a384-31d4df241846",
   "metadata": {},
   "outputs": [
    {
     "data": {
      "text/html": [
       "<div>\n",
       "<style scoped>\n",
       "    .dataframe tbody tr th:only-of-type {\n",
       "        vertical-align: middle;\n",
       "    }\n",
       "\n",
       "    .dataframe tbody tr th {\n",
       "        vertical-align: top;\n",
       "    }\n",
       "\n",
       "    .dataframe thead th {\n",
       "        text-align: right;\n",
       "    }\n",
       "</style>\n",
       "<table border=\"1\" class=\"dataframe\">\n",
       "  <thead>\n",
       "    <tr style=\"text-align: right;\">\n",
       "      <th></th>\n",
       "      <th>order_ID</th>\n",
       "      <th>item_ID</th>\n",
       "      <th>supplier_ID</th>\n",
       "      <th>warehouse</th>\n",
       "      <th>unit_price</th>\n",
       "      <th>amount</th>\n",
       "      <th>receiver</th>\n",
       "      <th>receiver_phone</th>\n",
       "      <th>total_price</th>\n",
       "      <th>order_time</th>\n",
       "      <th>...</th>\n",
       "      <th>brand</th>\n",
       "      <th>cost</th>\n",
       "      <th>market_price</th>\n",
       "      <th>size</th>\n",
       "      <th>color</th>\n",
       "      <th>buclass_ID</th>\n",
       "      <th>buclass</th>\n",
       "      <th>item_name</th>\n",
       "      <th>discount_region</th>\n",
       "      <th>profit</th>\n",
       "    </tr>\n",
       "  </thead>\n",
       "  <tbody>\n",
       "    <tr>\n",
       "      <th>506870</th>\n",
       "      <td>3202112131279586</td>\n",
       "      <td>1506096</td>\n",
       "      <td>301281</td>\n",
       "      <td>358</td>\n",
       "      <td>201134.7</td>\n",
       "      <td>1</td>\n",
       "      <td>赵士博</td>\n",
       "      <td>183*****025</td>\n",
       "      <td>201134.7</td>\n",
       "      <td>2021-12-13</td>\n",
       "      <td>...</td>\n",
       "      <td>TOIT VOLANT</td>\n",
       "      <td>0.0</td>\n",
       "      <td>1990.0</td>\n",
       "      <td>XS</td>\n",
       "      <td>nan</td>\n",
       "      <td>15460</td>\n",
       "      <td>风衣</td>\n",
       "      <td>HENDAYE JUMPSUIT/KHAKI</td>\n",
       "      <td>101.072714</td>\n",
       "      <td>201134.7</td>\n",
       "    </tr>\n",
       "  </tbody>\n",
       "</table>\n",
       "<p>1 rows × 21 columns</p>\n",
       "</div>"
      ],
      "text/plain": [
       "                order_ID  item_ID supplier_ID warehouse  unit_price  amount  \\\n",
       "506870  3202112131279586  1506096      301281       358    201134.7       1   \n",
       "\n",
       "       receiver receiver_phone  total_price  order_time  ...        brand  \\\n",
       "506870      赵士博    183*****025     201134.7  2021-12-13  ...  TOIT VOLANT   \n",
       "\n",
       "       cost  market_price  size color buclass_ID buclass  \\\n",
       "506870  0.0        1990.0    XS   nan      15460      风衣   \n",
       "\n",
       "                     item_name discount_region    profit  \n",
       "506870  HENDAYE JUMPSUIT/KHAKI      101.072714  201134.7  \n",
       "\n",
       "[1 rows x 21 columns]"
      ]
     },
     "execution_count": 119,
     "metadata": {},
     "output_type": "execute_result"
    }
   ],
   "source": [
    "df1e[df1e['order_ID']=='3202112131279586']"
   ]
  },
  {
   "cell_type": "markdown",
   "id": "1fd17649-7c0b-40c7-98e1-ba52f0d9626c",
   "metadata": {},
   "source": [
    "***9. Channel, brand, size, color, buclass, most profitable***"
   ]
  },
  {
   "cell_type": "code",
   "execution_count": 94,
   "id": "46b5b86a-b9f0-475b-8b51-d2c62fed9b09",
   "metadata": {},
   "outputs": [
    {
     "data": {
      "text/plain": [
       "channel\n",
       "天猫精品                  358702\n",
       "喵街-311-西有杭州武林A店        44023\n",
       "小红书                    23654\n",
       "得物（毒）                  16050\n",
       "喵街-312-西有杭州西湖文化广场店     14382\n",
       "32-小程序渠道               13184\n",
       "307-西有义乌伊美店            11019\n",
       "110-小程序残品渠道            11005\n",
       "315-西有杭州西湖银泰城店         10360\n",
       "311-西有杭州武林A店           10046\n",
       "Name: count, dtype: int64"
      ]
     },
     "execution_count": 94,
     "metadata": {},
     "output_type": "execute_result"
    }
   ],
   "source": [
    "\n",
    "df1e['channel'].value_counts().nlargest(10) # the toppest 10 channels"
   ]
  },
  {
   "cell_type": "code",
   "execution_count": 99,
   "id": "9e92a507-07e5-4630-989e-e9dcac3bed58",
   "metadata": {},
   "outputs": [
    {
     "data": {
      "text/plain": [
       "<BarContainer object of 10 artists>"
      ]
     },
     "execution_count": 99,
     "metadata": {},
     "output_type": "execute_result"
    },
    {
     "data": {
      "image/png": "[encoded data removed]",
      "text/plain": [
       "<Figure size 640x480 with 1 Axes>"
      ]
     },
     "metadata": {},
     "output_type": "display_data"
    }
   ],
   "source": [
    "import matplotlib.pyplot as plt\n",
    "plt.rcParams['font.sans-serif']=['SimHei', 'Songti SC', 'STFangSong']\n",
    "plt.rcParams['axes.unicode_minus'] = False\n",
    "df1e_channel = df1e['channel'].value_counts().nlargest(10)\n",
    "plt.barh(df1e_channel.index, df1e_channel.values)\n",
    "#plt.xticks(rotation = 30)"
   ]
  },
  {
   "cell_type": "code",
   "execution_count": 384,
   "id": "a3b64407-7569-490b-992f-8f8ab93a54fe",
   "metadata": {},
   "outputs": [
    {
     "data": {
      "text/plain": [
       "size\n",
       "S     103851\n",
       "M      96942\n",
       "L      56577\n",
       "XS     40767\n",
       "U      35146\n",
       "XL     28810\n",
       "36     19128\n",
       "38     17174\n",
       "40     11611\n",
       "37     11016\n",
       "F       8600\n",
       "34      7765\n",
       "42      6194\n",
       "均码      6129\n",
       "39      5436\n",
       "Name: count, dtype: int64"
      ]
     },
     "execution_count": 384,
     "metadata": {},
     "output_type": "execute_result"
    }
   ],
   "source": [
    "df1e['size'].value_counts().nlargest(15) # S size, M size, L large size "
   ]
  },
  {
   "cell_type": "code",
   "execution_count": 100,
   "id": "5d639389-492e-4221-bbde-f780a7848b93",
   "metadata": {},
   "outputs": [
    {
     "data": {
      "text/plain": [
       "<BarContainer object of 15 artists>"
      ]
     },
     "execution_count": 100,
     "metadata": {},
     "output_type": "execute_result"
    },
    {
     "data": {
      "image/png": "[encoded data removed]",
      "text/plain": [
       "<Figure size 640x480 with 1 Axes>"
      ]
     },
     "metadata": {},
     "output_type": "display_data"
    }
   ],
   "source": [
    "df1e_size = df1e['size'].value_counts().nlargest(15) \n",
    "plt.bar(df1e_size.index, df1e_size.values)"
   ]
  },
  {
   "cell_type": "code",
   "execution_count": 390,
   "id": "d54d99d9-0333-4aec-bd0a-19c35944b369",
   "metadata": {},
   "outputs": [],
   "source": [
    "#df1e['size'].value_counts().plot(kind='barh')"
   ]
  },
  {
   "cell_type": "code",
   "execution_count": 391,
   "id": "d03b189b-bf67-4ee1-b793-900a8eda009c",
   "metadata": {},
   "outputs": [
    {
     "data": {
      "text/plain": [
       "buclass\n",
       "T恤       121144\n",
       "运动鞋       33584\n",
       "圆领卫衣      27207\n",
       "POLO衫     27197\n",
       "毛衣        24998\n",
       "连帽卫衣      22975\n",
       "单肩包       22449\n",
       "衬衫        20525\n",
       "腰带        18319\n",
       "迷你裙       17784\n",
       "斜挎包       17376\n",
       "休闲裤       16793\n",
       "牛仔裤       15458\n",
       "短裤        13122\n",
       "休闲夹克      12859\n",
       "Name: count, dtype: int64"
      ]
     },
     "execution_count": 391,
     "metadata": {},
     "output_type": "execute_result"
    }
   ],
   "source": [
    "df1e['buclass'].value_counts().nlargest(15)  # class T-shirt, sports shoes, ..."
   ]
  },
  {
   "cell_type": "code",
   "execution_count": 103,
   "id": "747b4a18-7a46-43a3-81de-0394443ecc7c",
   "metadata": {},
   "outputs": [
    {
     "data": {
      "text/plain": [
       "<BarContainer object of 15 artists>"
      ]
     },
     "execution_count": 103,
     "metadata": {},
     "output_type": "execute_result"
    },
    {
     "data": {
      "image/png": "[encoded data removed]",
      "text/plain": [
       "<Figure size 640x480 with 1 Axes>"
      ]
     },
     "metadata": {},
     "output_type": "display_data"
    }
   ],
   "source": [
    "df1e_buclass = df1e['buclass'].value_counts().nlargest(15)\n",
    "plt.barh(df1e_buclass.index, df1e_buclass.values )"
   ]
  },
  {
   "cell_type": "code",
   "execution_count": 104,
   "id": "a7641928-fd14-451f-9322-c61a9770a211",
   "metadata": {},
   "outputs": [
    {
     "data": {
      "text/plain": [
       "color\n",
       "黑色       159180\n",
       "白色        76282\n",
       "深蓝色       29501\n",
       "蓝色        29162\n",
       "灰色        27137\n",
       "绿色        12639\n",
       "粉色        12317\n",
       "棕色         8894\n",
       "深灰色        7716\n",
       "红色         6340\n",
       "米白色        5972\n",
       "卡其色        5670\n",
       "黑色/白色      5184\n",
       "浅蓝色        4953\n",
       "白色/黑色      4864\n",
       "Name: count, dtype: int64"
      ]
     },
     "execution_count": 104,
     "metadata": {},
     "output_type": "execute_result"
    }
   ],
   "source": [
    "df1e['color'].value_counts().nlargest(15) # black "
   ]
  },
  {
   "cell_type": "code",
   "execution_count": 105,
   "id": "99a45909-f038-44a5-ae48-8cb4841e9c68",
   "metadata": {},
   "outputs": [
    {
     "data": {
      "text/plain": [
       "<BarContainer object of 15 artists>"
      ]
     },
     "execution_count": 105,
     "metadata": {},
     "output_type": "execute_result"
    },
    {
     "data": {
      "image/png": "[encoded data removed]",
      "text/plain": [
       "<Figure size 640x480 with 1 Axes>"
      ]
     },
     "metadata": {},
     "output_type": "display_data"
    }
   ],
   "source": [
    "df1e_color = df1e['color'].value_counts().nlargest(15)\n",
    "plt.barh(df1e_color.index,df1e_color.values )"
   ]
  },
  {
   "cell_type": "code",
   "execution_count": 107,
   "id": "cba56bc8-ec22-4173-929c-de29e72fba5a",
   "metadata": {},
   "outputs": [],
   "source": [
    "df1e['profit'] = df1e['unit_price']-df1e['cost']"
   ]
  },
  {
   "cell_type": "code",
   "execution_count": 108,
   "id": "60a091c0-bd41-4bff-9c56-da6f1d784f0c",
   "metadata": {},
   "outputs": [
    {
     "data": {
      "text/plain": [
       "channel\n",
       "天猫精品                  1.194237e+08\n",
       "喵街-311-西有杭州武林A店       1.616554e+07\n",
       "307-西有义乌伊美店           1.174092e+07\n",
       "小红书                   1.011763e+07\n",
       "315-西有杭州西湖银泰城店        7.634891e+06\n",
       "311-西有杭州武林A店          6.912394e+06\n",
       "得物（毒）                 6.619912e+06\n",
       "304-西有南京金鹰店           5.991319e+06\n",
       "319-西有合肥银泰中心店         5.413486e+06\n",
       "32-小程序渠道              5.360480e+06\n",
       "喵街-312-西有杭州西湖文化广场店    4.883440e+06\n",
       "321-西有杭州武林C店          3.943775e+06\n",
       "312-西有杭州西湖文化广场店       3.705346e+06\n",
       "iconstories精品店        3.316721e+06\n",
       "285-西有北京银泰中心in01店     2.806995e+06\n",
       "Name: profit, dtype: float64"
      ]
     },
     "execution_count": 108,
     "metadata": {},
     "output_type": "execute_result"
    }
   ],
   "source": [
    "# the most profitable channel \n",
    "df1e_selectcp = df1e[['channel','profit']]\n",
    "df1e_selectcp.sort_values(by='profit', ascending = False)\n",
    "ddf = df1e_selectcp.groupby(\"channel\").sum()\n",
    "ddf['profit'].sort_values(ascending = False).head(15)"
   ]
  },
  {
   "cell_type": "code",
   "execution_count": 109,
   "id": "84479e84-26f2-4659-b1ee-2179c0a798c7",
   "metadata": {},
   "outputs": [
    {
     "data": {
      "text/plain": [
       "<BarContainer object of 15 artists>"
      ]
     },
     "execution_count": 109,
     "metadata": {},
     "output_type": "execute_result"
    },
    {
     "data": {
      "image/png": "[encoded data removed]",
      "text/plain": [
       "<Figure size 640x480 with 1 Axes>"
      ]
     },
     "metadata": {},
     "output_type": "display_data"
    }
   ],
   "source": [
    "df1e_channel_profit = ddf['profit'].sort_values(ascending = False).head(15)\n",
    "plt.barh(df1e_channel_profit.index,df1e_channel_profit.values )"
   ]
  },
  {
   "cell_type": "code",
   "execution_count": 111,
   "id": "7369135f-948e-4987-b0ed-9b33cc9eb746",
   "metadata": {},
   "outputs": [
    {
     "data": {
      "text/plain": [
       "buclass\n",
       "T恤       2.554576e+07\n",
       "运动鞋      1.779212e+07\n",
       "毛衣       1.115862e+07\n",
       "单肩包      1.044575e+07\n",
       "斜挎包      1.005752e+07\n",
       "衬衫       9.376699e+06\n",
       "腰带       8.888571e+06\n",
       "连帽卫衣     8.748403e+06\n",
       "圆领卫衣     8.252192e+06\n",
       "羽绒服      7.691864e+06\n",
       "开襟衫      7.557790e+06\n",
       "POLO衫    7.413949e+06\n",
       "休闲夹克     6.738276e+06\n",
       "牛仔裤      5.900433e+06\n",
       "手提包      5.542477e+06\n",
       "Name: profit, dtype: float64"
      ]
     },
     "execution_count": 111,
     "metadata": {},
     "output_type": "execute_result"
    }
   ],
   "source": [
    "# the most profitable business class \n",
    "df1e_selectcp = df1e[['buclass','profit']]\n",
    "df1e_selectcp.sort_values(by='profit', ascending = False)\n",
    "ddf = df1e_selectcp.groupby(\"buclass\").sum()\n",
    "ddf['profit'].sort_values(ascending = False).head(15)"
   ]
  },
  {
   "cell_type": "code",
   "execution_count": 112,
   "id": "c90f5123-fbc4-48e7-9005-e47948541e6d",
   "metadata": {},
   "outputs": [
    {
     "data": {
      "text/plain": [
       "<BarContainer object of 15 artists>"
      ]
     },
     "execution_count": 112,
     "metadata": {},
     "output_type": "execute_result"
    },
    {
     "data": {
      "image/png": "[encoded data removed]",
      "text/plain": [
       "<Figure size 640x480 with 1 Axes>"
      ]
     },
     "metadata": {},
     "output_type": "display_data"
    }
   ],
   "source": [
    "df1e_buclass_profit = ddf['profit'].sort_values(ascending = False).head(15)\n",
    "plt.barh(df1e_buclass_profit.index,df1e_buclass_profit.values )"
   ]
  },
  {
   "cell_type": "code",
   "execution_count": 113,
   "id": "b2262286-b5a4-4cdd-8adb-5c4b0e35013e",
   "metadata": {},
   "outputs": [
    {
     "data": {
      "text/plain": [
       "size\n",
       "S     3.864368e+07\n",
       "M     3.364031e+07\n",
       "U     1.680575e+07\n",
       "L     1.657661e+07\n",
       "XS    1.422278e+07\n",
       "36    8.858108e+06\n",
       "38    8.360905e+06\n",
       "37    6.740955e+06\n",
       "XL    6.031015e+06\n",
       "40    4.631414e+06\n",
       "F     3.246278e+06\n",
       "34    3.144117e+06\n",
       "2     2.837060e+06\n",
       "均码    2.834591e+06\n",
       "42    2.648351e+06\n",
       "Name: profit, dtype: float64"
      ]
     },
     "execution_count": 113,
     "metadata": {},
     "output_type": "execute_result"
    }
   ],
   "source": [
    "# the most profitable size \n",
    "df1e_selectcp = df1e[['size','profit']]\n",
    "df1e_selectcp.sort_values(by='profit', ascending = False)\n",
    "ddf = df1e_selectcp.groupby(\"size\").sum()\n",
    "ddf['profit'].sort_values(ascending = False).head(15)"
   ]
  },
  {
   "cell_type": "code",
   "execution_count": 114,
   "id": "3dc1d551-ab0d-42e9-a8e4-7686f2e0805d",
   "metadata": {},
   "outputs": [
    {
     "data": {
      "text/plain": [
       "<BarContainer object of 15 artists>"
      ]
     },
     "execution_count": 114,
     "metadata": {},
     "output_type": "execute_result"
    },
    {
     "data": {
      "image/png": "[encoded data removed]",
      "text/plain": [
       "<Figure size 640x480 with 1 Axes>"
      ]
     },
     "metadata": {},
     "output_type": "display_data"
    }
   ],
   "source": [
    "df1e_size_profit = ddf['profit'].sort_values(ascending = False).head(15)\n",
    "plt.barh(df1e_size_profit.index,df1e_size_profit.values )\n"
   ]
  },
  {
   "cell_type": "code",
   "execution_count": 115,
   "id": "1d001de9-8f65-4127-b66e-5b7d39a6e610",
   "metadata": {},
   "outputs": [
    {
     "data": {
      "text/plain": [
       "color\n",
       "黑色       5.806717e+07\n",
       "白色       2.300927e+07\n",
       "灰色       1.231276e+07\n",
       "蓝色       1.082200e+07\n",
       "深蓝色      1.050627e+07\n",
       "棕色       6.562542e+06\n",
       "绿色       4.366338e+06\n",
       "粉色       4.207452e+06\n",
       "卡其色      4.037277e+06\n",
       "nan      3.418646e+06\n",
       "深灰色      3.317179e+06\n",
       "米白色      2.870584e+06\n",
       "黑色/白色    2.561384e+06\n",
       "米色       2.260073e+06\n",
       "白色/黑色    1.834552e+06\n",
       "Name: profit, dtype: float64"
      ]
     },
     "execution_count": 115,
     "metadata": {},
     "output_type": "execute_result"
    }
   ],
   "source": [
    "# the most profitable color \n",
    "df1e_selectcp = df1e[['color','profit']]\n",
    "df1e_selectcp.sort_values(by='profit', ascending = False)\n",
    "ddf = df1e_selectcp.groupby(\"color\").sum()\n",
    "ddf['profit'].sort_values(ascending = False).head(15)"
   ]
  },
  {
   "cell_type": "code",
   "execution_count": 116,
   "id": "1f12e48e-43ca-4b94-8fa1-5aaf02132cc3",
   "metadata": {},
   "outputs": [
    {
     "data": {
      "text/plain": [
       "<BarContainer object of 15 artists>"
      ]
     },
     "execution_count": 116,
     "metadata": {},
     "output_type": "execute_result"
    },
    {
     "data": {
      "image/png": "[encoded data removed]",
      "text/plain": [
       "<Figure size 640x480 with 1 Axes>"
      ]
     },
     "metadata": {},
     "output_type": "display_data"
    }
   ],
   "source": [
    "df1e_color_profit = ddf['profit'].sort_values(ascending = False).head(15)\n",
    "plt.barh(df1e_color_profit.index,df1e_size_profit.values )"
   ]
  },
  {
   "cell_type": "markdown",
   "id": "f404b5af-7de6-4e17-880e-b24956bac6e6",
   "metadata": {},
   "source": [
    "***Problem 10: which discount region is the best seller in?***"
   ]
  },
  {
   "cell_type": "code",
   "execution_count": null,
   "id": "f1f80c01-1665-4e06-ac6d-91b997642abe",
   "metadata": {},
   "outputs": [],
   "source": []
  },
  {
   "cell_type": "code",
   "execution_count": 91,
   "id": "752ab282-c271-4f27-9983-ef1347caf45f",
   "metadata": {},
   "outputs": [
    {
     "data": {
      "text/plain": [
       "290786"
      ]
     },
     "execution_count": 91,
     "metadata": {},
     "output_type": "execute_result"
    }
   ],
   "source": [
    "df1e['discount_region'].nunique()"
   ]
  },
  {
   "cell_type": "code",
   "execution_count": 424,
   "id": "6d31dd46-72b9-4bcc-9621-ccd0e46b7b0c",
   "metadata": {},
   "outputs": [
    {
     "data": {
      "text/plain": [
       "488109    2573.054237\n",
       "506870     101.072714\n",
       "62914       48.076923\n",
       "319905      42.287681\n",
       "270094      29.850746\n",
       "             ...     \n",
       "395452            NaN\n",
       "395453            NaN\n",
       "395458            NaN\n",
       "399993            NaN\n",
       "400138            NaN\n",
       "Name: discount_region, Length: 621935, dtype: float64"
      ]
     },
     "execution_count": 424,
     "metadata": {},
     "output_type": "execute_result"
    }
   ],
   "source": [
    "df1e['discount_region'].sort_values(ascending = False)"
   ]
  },
  {
   "cell_type": "code",
   "execution_count": 421,
   "id": "73d778ef-29e7-4063-8ec6-dd421871e23f",
   "metadata": {},
   "outputs": [
    {
     "data": {
      "text/plain": [
       "19.149991145145062"
      ]
     },
     "execution_count": 421,
     "metadata": {},
     "output_type": "execute_result"
    }
   ],
   "source": [
    "1 + 3.322 * np.log10(290786)"
   ]
  },
  {
   "cell_type": "markdown",
   "id": "e6b00ce5-7272-4232-8db7-55f51fde54c5",
   "metadata": {},
   "source": [
    "#Sturges Rule for choosing the optimum number of bins\n",
    "a variation: 1 + 3.322 * np.log10(N)\n"
   ]
  },
  {
   "cell_type": "code",
   "execution_count": 428,
   "id": "968466fc-e351-4bd6-b352-a95cd5c9ba6c",
   "metadata": {},
   "outputs": [
    {
     "data": {
      "text/plain": [
       "<Axes: ylabel='Frequency'>"
      ]
     },
     "execution_count": 428,
     "metadata": {},
     "output_type": "execute_result"
    },
    {
     "data": {
      "image/png": "[encoded data removed]",
      "text/plain": [
       "<Figure size 640x480 with 1 Axes>"
      ]
     },
     "metadata": {},
     "output_type": "display_data"
    }
   ],
   "source": [
    "df1e_select_dis=df1e[df1e['discount_region']<=1]\n",
    "df1e_select_dis['discount_region'].plot(kind = 'hist', bins=19)"
   ]
  },
  {
   "cell_type": "code",
   "execution_count": 434,
   "id": "55d5e7e8-41a6-4bbf-ac53-4b9bc0ce3465",
   "metadata": {},
   "outputs": [
    {
     "data": {
      "text/plain": [
       "<matplotlib.collections.PathCollection at 0x313966480>"
      ]
     },
     "execution_count": 434,
     "metadata": {},
     "output_type": "execute_result"
    },
    {
     "data": {
      "image/png": "[encoded data removed]",
      "text/plain": [
       "<Figure size 640x480 with 1 Axes>"
      ]
     },
     "metadata": {},
     "output_type": "display_data"
    }
   ],
   "source": [
    "df1e_select_best=df1e[(df1e['discount_region']<=0.6) & (df1e['discount_region']>0.4)]\n",
    "plt.scatter(df1e_select_best['discount_region'], df1e_select_best['profit'])"
   ]
  },
  {
   "cell_type": "code",
   "execution_count": 439,
   "id": "0c9ba926-12b9-4d95-99a9-7d8fd7078c8b",
   "metadata": {},
   "outputs": [
    {
     "data": {
      "text/plain": [
       "<matplotlib.collections.PathCollection at 0x314477cb0>"
      ]
     },
     "execution_count": 439,
     "metadata": {},
     "output_type": "execute_result"
    },
    {
     "data": {
      "image/png": "[encoded data removed]",
      "text/plain": [
       "<Figure size 640x480 with 1 Axes>"
      ]
     },
     "metadata": {},
     "output_type": "display_data"
    }
   ],
   "source": [
    "df1e_select_best=df1e[(df1e['discount_region']<=1.0) & (df1e['discount_region']>0.01)]\n",
    "plt.scatter(df1e_select_best['discount_region'], df1e_select_best['profit'])"
   ]
  },
  {
   "cell_type": "markdown",
   "id": "bc5b8261-0904-4324-9d7c-a56d40eaaa2f",
   "metadata": {},
   "source": [
    "***Problem 11: the classification of customers?***"
   ]
  },
  {
   "cell_type": "code",
   "execution_count": 93,
   "id": "963ec90e-7b47-4e3e-83a0-9dbb041a83be",
   "metadata": {},
   "outputs": [
    {
     "ename": "KeyError",
     "evalue": "'收货手机号'",
     "output_type": "error",
     "traceback": [
      "\u001b[0;31m---------------------------------------------------------------------------\u001b[0m",
      "\u001b[0;31mKeyError\u001b[0m                                  Traceback (most recent call last)",
      "File \u001b[0;32m~/anaconda3/envs/dswork/lib/python3.12/site-packages/pandas/core/indexes/base.py:3805\u001b[0m, in \u001b[0;36mIndex.get_loc\u001b[0;34m(self, key)\u001b[0m\n\u001b[1;32m   3804\u001b[0m \u001b[38;5;28;01mtry\u001b[39;00m:\n\u001b[0;32m-> 3805\u001b[0m     \u001b[38;5;28;01mreturn\u001b[39;00m \u001b[38;5;28mself\u001b[39m\u001b[38;5;241m.\u001b[39m_engine\u001b[38;5;241m.\u001b[39mget_loc(casted_key)\n\u001b[1;32m   3806\u001b[0m \u001b[38;5;28;01mexcept\u001b[39;00m \u001b[38;5;167;01mKeyError\u001b[39;00m \u001b[38;5;28;01mas\u001b[39;00m err:\n",
      "File \u001b[0;32mindex.pyx:167\u001b[0m, in \u001b[0;36mpandas._libs.index.IndexEngine.get_loc\u001b[0;34m()\u001b[0m\n",
      "File \u001b[0;32mindex.pyx:196\u001b[0m, in \u001b[0;36mpandas._libs.index.IndexEngine.get_loc\u001b[0;34m()\u001b[0m\n",
      "File \u001b[0;32mpandas/_libs/hashtable_class_helper.pxi:7081\u001b[0m, in \u001b[0;36mpandas._libs.hashtable.PyObjectHashTable.get_item\u001b[0;34m()\u001b[0m\n",
      "File \u001b[0;32mpandas/_libs/hashtable_class_helper.pxi:7089\u001b[0m, in \u001b[0;36mpandas._libs.hashtable.PyObjectHashTable.get_item\u001b[0;34m()\u001b[0m\n",
      "\u001b[0;31mKeyError\u001b[0m: '收货手机号'",
      "\nThe above exception was the direct cause of the following exception:\n",
      "\u001b[0;31mKeyError\u001b[0m                                  Traceback (most recent call last)",
      "Cell \u001b[0;32mIn[93], line 4\u001b[0m\n\u001b[1;32m      2\u001b[0m fg_rate\u001b[38;5;241m=\u001b[39m[]\n\u001b[1;32m      3\u001b[0m \u001b[38;5;28;01mfor\u001b[39;00m l \u001b[38;5;129;01min\u001b[39;00m \u001b[38;5;28mrange\u001b[39m(\u001b[38;5;241m2\u001b[39m, \u001b[38;5;241m12\u001b[39m):\n\u001b[0;32m----> 4\u001b[0m     fg_rate\u001b[38;5;241m.\u001b[39mappend(\u001b[38;5;28msum\u001b[39m(df1[\u001b[38;5;124m'\u001b[39m\u001b[38;5;124m收货手机号\u001b[39m\u001b[38;5;124m'\u001b[39m]\u001b[38;5;241m.\u001b[39mvalue_counts()\u001b[38;5;241m>\u001b[39ml)\u001b[38;5;241m/\u001b[39m\u001b[38;5;28mlen\u001b[39m(df1[\u001b[38;5;124m'\u001b[39m\u001b[38;5;124m收货手机号\u001b[39m\u001b[38;5;124m'\u001b[39m]))\n\u001b[1;32m      5\u001b[0m plt\u001b[38;5;241m.\u001b[39mplot(\u001b[38;5;28mrange\u001b[39m(\u001b[38;5;241m2\u001b[39m,\u001b[38;5;241m12\u001b[39m),fg_rate)\n",
      "File \u001b[0;32m~/anaconda3/envs/dswork/lib/python3.12/site-packages/pandas/core/frame.py:4102\u001b[0m, in \u001b[0;36mDataFrame.__getitem__\u001b[0;34m(self, key)\u001b[0m\n\u001b[1;32m   4100\u001b[0m \u001b[38;5;28;01mif\u001b[39;00m \u001b[38;5;28mself\u001b[39m\u001b[38;5;241m.\u001b[39mcolumns\u001b[38;5;241m.\u001b[39mnlevels \u001b[38;5;241m>\u001b[39m \u001b[38;5;241m1\u001b[39m:\n\u001b[1;32m   4101\u001b[0m     \u001b[38;5;28;01mreturn\u001b[39;00m \u001b[38;5;28mself\u001b[39m\u001b[38;5;241m.\u001b[39m_getitem_multilevel(key)\n\u001b[0;32m-> 4102\u001b[0m indexer \u001b[38;5;241m=\u001b[39m \u001b[38;5;28mself\u001b[39m\u001b[38;5;241m.\u001b[39mcolumns\u001b[38;5;241m.\u001b[39mget_loc(key)\n\u001b[1;32m   4103\u001b[0m \u001b[38;5;28;01mif\u001b[39;00m is_integer(indexer):\n\u001b[1;32m   4104\u001b[0m     indexer \u001b[38;5;241m=\u001b[39m [indexer]\n",
      "File \u001b[0;32m~/anaconda3/envs/dswork/lib/python3.12/site-packages/pandas/core/indexes/base.py:3812\u001b[0m, in \u001b[0;36mIndex.get_loc\u001b[0;34m(self, key)\u001b[0m\n\u001b[1;32m   3807\u001b[0m     \u001b[38;5;28;01mif\u001b[39;00m \u001b[38;5;28misinstance\u001b[39m(casted_key, \u001b[38;5;28mslice\u001b[39m) \u001b[38;5;129;01mor\u001b[39;00m (\n\u001b[1;32m   3808\u001b[0m         \u001b[38;5;28misinstance\u001b[39m(casted_key, abc\u001b[38;5;241m.\u001b[39mIterable)\n\u001b[1;32m   3809\u001b[0m         \u001b[38;5;129;01mand\u001b[39;00m \u001b[38;5;28many\u001b[39m(\u001b[38;5;28misinstance\u001b[39m(x, \u001b[38;5;28mslice\u001b[39m) \u001b[38;5;28;01mfor\u001b[39;00m x \u001b[38;5;129;01min\u001b[39;00m casted_key)\n\u001b[1;32m   3810\u001b[0m     ):\n\u001b[1;32m   3811\u001b[0m         \u001b[38;5;28;01mraise\u001b[39;00m InvalidIndexError(key)\n\u001b[0;32m-> 3812\u001b[0m     \u001b[38;5;28;01mraise\u001b[39;00m \u001b[38;5;167;01mKeyError\u001b[39;00m(key) \u001b[38;5;28;01mfrom\u001b[39;00m \u001b[38;5;21;01merr\u001b[39;00m\n\u001b[1;32m   3813\u001b[0m \u001b[38;5;28;01mexcept\u001b[39;00m \u001b[38;5;167;01mTypeError\u001b[39;00m:\n\u001b[1;32m   3814\u001b[0m     \u001b[38;5;66;03m# If we have a listlike key, _check_indexing_error will raise\u001b[39;00m\n\u001b[1;32m   3815\u001b[0m     \u001b[38;5;66;03m#  InvalidIndexError. Otherwise we fall through and re-raise\u001b[39;00m\n\u001b[1;32m   3816\u001b[0m     \u001b[38;5;66;03m#  the TypeError.\u001b[39;00m\n\u001b[1;32m   3817\u001b[0m     \u001b[38;5;28mself\u001b[39m\u001b[38;5;241m.\u001b[39m_check_indexing_error(key)\n",
      "\u001b[0;31mKeyError\u001b[0m: '收货手机号'"
     ]
    }
   ],
   "source": [
    "import matplotlib.pyplot as plt\n",
    "fg_rate=[]\n",
    "for l in range(2, 12):\n",
    "    fg_rate.append(sum(df1['收货手机号'].value_counts()>l)/len(df1['收货手机号']))\n",
    "plt.plot(range(2,12),fg_rate)    "
   ]
  },
  {
   "cell_type": "markdown",
   "id": "f3002cd5-92e1-4646-b605-da841c334826",
   "metadata": {},
   "source": [
    "折扣，size，推荐不同品类，品类顺序（季节性的）。\n",
    "系统推荐，\n",
    "人工推荐，一个月之内，能联系顾客。 单品有数量限制。 线上，小红书。\n",
    "问顾客两三个问题，就能推荐几十个商品。几分钟浏览完商品。\n",
    "销售过程能够把控，购物意愿。给到导购，类似于小红书。\n",
    "每个月都有2万人。1即时推荐（一个月） 2历史沉淀（线下电话）\n",
    "强制联系 但是推荐在微信平台上。我们知道手机号。\n",
    "知道老客是谁，导购去找到他们。\n",
    "折扣，尺码，风格。买了上装推下装。\n",
    "顾客购买信息。\n",
    "从长远来说，crm 的。目前线上和线下。\n",
    "是否有一些insight可以找到的。"
   ]
  },
  {
   "cell_type": "code",
   "execution_count": 92,
   "id": "054a9f23-8f21-4040-a924-d73da3bef2a1",
   "metadata": {},
   "outputs": [
    {
     "ename": "KeyError",
     "evalue": "'收货手机号'",
     "output_type": "error",
     "traceback": [
      "\u001b[0;31m---------------------------------------------------------------------------\u001b[0m",
      "\u001b[0;31mKeyError\u001b[0m                                  Traceback (most recent call last)",
      "File \u001b[0;32m~/anaconda3/envs/dswork/lib/python3.12/site-packages/pandas/core/indexes/base.py:3805\u001b[0m, in \u001b[0;36mIndex.get_loc\u001b[0;34m(self, key)\u001b[0m\n\u001b[1;32m   3804\u001b[0m \u001b[38;5;28;01mtry\u001b[39;00m:\n\u001b[0;32m-> 3805\u001b[0m     \u001b[38;5;28;01mreturn\u001b[39;00m \u001b[38;5;28mself\u001b[39m\u001b[38;5;241m.\u001b[39m_engine\u001b[38;5;241m.\u001b[39mget_loc(casted_key)\n\u001b[1;32m   3806\u001b[0m \u001b[38;5;28;01mexcept\u001b[39;00m \u001b[38;5;167;01mKeyError\u001b[39;00m \u001b[38;5;28;01mas\u001b[39;00m err:\n",
      "File \u001b[0;32mindex.pyx:167\u001b[0m, in \u001b[0;36mpandas._libs.index.IndexEngine.get_loc\u001b[0;34m()\u001b[0m\n",
      "File \u001b[0;32mindex.pyx:196\u001b[0m, in \u001b[0;36mpandas._libs.index.IndexEngine.get_loc\u001b[0;34m()\u001b[0m\n",
      "File \u001b[0;32mpandas/_libs/hashtable_class_helper.pxi:7081\u001b[0m, in \u001b[0;36mpandas._libs.hashtable.PyObjectHashTable.get_item\u001b[0;34m()\u001b[0m\n",
      "File \u001b[0;32mpandas/_libs/hashtable_class_helper.pxi:7089\u001b[0m, in \u001b[0;36mpandas._libs.hashtable.PyObjectHashTable.get_item\u001b[0;34m()\u001b[0m\n",
      "\u001b[0;31mKeyError\u001b[0m: '收货手机号'",
      "\nThe above exception was the direct cause of the following exception:\n",
      "\u001b[0;31mKeyError\u001b[0m                                  Traceback (most recent call last)",
      "Cell \u001b[0;32mIn[92], line 1\u001b[0m\n\u001b[0;32m----> 1\u001b[0m df1[\u001b[38;5;124m'\u001b[39m\u001b[38;5;124m收货手机号\u001b[39m\u001b[38;5;124m'\u001b[39m]\u001b[38;5;241m.\u001b[39mvalue_counts()\n",
      "File \u001b[0;32m~/anaconda3/envs/dswork/lib/python3.12/site-packages/pandas/core/frame.py:4102\u001b[0m, in \u001b[0;36mDataFrame.__getitem__\u001b[0;34m(self, key)\u001b[0m\n\u001b[1;32m   4100\u001b[0m \u001b[38;5;28;01mif\u001b[39;00m \u001b[38;5;28mself\u001b[39m\u001b[38;5;241m.\u001b[39mcolumns\u001b[38;5;241m.\u001b[39mnlevels \u001b[38;5;241m>\u001b[39m \u001b[38;5;241m1\u001b[39m:\n\u001b[1;32m   4101\u001b[0m     \u001b[38;5;28;01mreturn\u001b[39;00m \u001b[38;5;28mself\u001b[39m\u001b[38;5;241m.\u001b[39m_getitem_multilevel(key)\n\u001b[0;32m-> 4102\u001b[0m indexer \u001b[38;5;241m=\u001b[39m \u001b[38;5;28mself\u001b[39m\u001b[38;5;241m.\u001b[39mcolumns\u001b[38;5;241m.\u001b[39mget_loc(key)\n\u001b[1;32m   4103\u001b[0m \u001b[38;5;28;01mif\u001b[39;00m is_integer(indexer):\n\u001b[1;32m   4104\u001b[0m     indexer \u001b[38;5;241m=\u001b[39m [indexer]\n",
      "File \u001b[0;32m~/anaconda3/envs/dswork/lib/python3.12/site-packages/pandas/core/indexes/base.py:3812\u001b[0m, in \u001b[0;36mIndex.get_loc\u001b[0;34m(self, key)\u001b[0m\n\u001b[1;32m   3807\u001b[0m     \u001b[38;5;28;01mif\u001b[39;00m \u001b[38;5;28misinstance\u001b[39m(casted_key, \u001b[38;5;28mslice\u001b[39m) \u001b[38;5;129;01mor\u001b[39;00m (\n\u001b[1;32m   3808\u001b[0m         \u001b[38;5;28misinstance\u001b[39m(casted_key, abc\u001b[38;5;241m.\u001b[39mIterable)\n\u001b[1;32m   3809\u001b[0m         \u001b[38;5;129;01mand\u001b[39;00m \u001b[38;5;28many\u001b[39m(\u001b[38;5;28misinstance\u001b[39m(x, \u001b[38;5;28mslice\u001b[39m) \u001b[38;5;28;01mfor\u001b[39;00m x \u001b[38;5;129;01min\u001b[39;00m casted_key)\n\u001b[1;32m   3810\u001b[0m     ):\n\u001b[1;32m   3811\u001b[0m         \u001b[38;5;28;01mraise\u001b[39;00m InvalidIndexError(key)\n\u001b[0;32m-> 3812\u001b[0m     \u001b[38;5;28;01mraise\u001b[39;00m \u001b[38;5;167;01mKeyError\u001b[39;00m(key) \u001b[38;5;28;01mfrom\u001b[39;00m \u001b[38;5;21;01merr\u001b[39;00m\n\u001b[1;32m   3813\u001b[0m \u001b[38;5;28;01mexcept\u001b[39;00m \u001b[38;5;167;01mTypeError\u001b[39;00m:\n\u001b[1;32m   3814\u001b[0m     \u001b[38;5;66;03m# If we have a listlike key, _check_indexing_error will raise\u001b[39;00m\n\u001b[1;32m   3815\u001b[0m     \u001b[38;5;66;03m#  InvalidIndexError. Otherwise we fall through and re-raise\u001b[39;00m\n\u001b[1;32m   3816\u001b[0m     \u001b[38;5;66;03m#  the TypeError.\u001b[39;00m\n\u001b[1;32m   3817\u001b[0m     \u001b[38;5;28mself\u001b[39m\u001b[38;5;241m.\u001b[39m_check_indexing_error(key)\n",
      "\u001b[0;31mKeyError\u001b[0m: '收货手机号'"
     ]
    }
   ],
   "source": [
    "df1['收货手机号'].value_counts()"
   ]
  },
  {
   "cell_type": "code",
   "execution_count": 9,
   "id": "5ff3b66d-74f3-469f-83b2-1b9d06894a71",
   "metadata": {},
   "outputs": [],
   "source": [
    "df1['date'] = pd.to_datetime(df1['下单时间'])"
   ]
  },
  {
   "cell_type": "code",
   "execution_count": 10,
   "id": "ae83370e-3382-4737-a39c-b0a860da7638",
   "metadata": {
    "scrolled": true
   },
   "outputs": [
    {
     "name": "stdout",
     "output_type": "stream",
     "text": [
      "21-22-23:\n",
      "2191\n",
      "0.0035228761848103097\n",
      "21-23:\n",
      "4220\n",
      "0.006785274988543819\n"
     ]
    }
   ],
   "source": [
    "df1v = df1.set_index('date')\n",
    "dfb22a23=df1v.truncate(before='2022-08-03', after='2023-08-07')\n",
    "dfa22=df1v.truncate(after='2022-08-01')\n",
    "dfb23=df1v.truncate(before = '2023-08-10')\n",
    "aa = set(dfb22a23['收货手机号'].value_counts().index)\n",
    "bb = set(dfa22['收货手机号'].value_counts().index)\n",
    "cc = set(dfb23['收货手机号'].value_counts().index)\n",
    "print(\"21-22-23:\")\n",
    "print(len(aa&bb&cc))\n",
    "print(len(aa&bb&cc)/len(df1['收货手机号']))\n",
    "print(\"21-23:\")\n",
    "print(len(bb&cc))\n",
    "print(len(bb&cc)/len(df1['收货手机号']))"
   ]
  },
  {
   "cell_type": "code",
   "execution_count": 14,
   "id": "76024320-7903-425c-be0b-e9b056bb0647",
   "metadata": {},
   "outputs": [],
   "source": [
    "def cus2set(x):\n",
    "    if isinstance(x, str):\n",
    "        return set(x.split())"
   ]
  },
  {
   "cell_type": "code",
   "execution_count": 15,
   "id": "1b0b39b2-7c57-4f9d-b59c-ad32faac2a9c",
   "metadata": {},
   "outputs": [],
   "source": [
    "dfcus=df_customer.groupby(['收货手机号']).agg({'下单时间':' '.join})\n",
    "dfcus['date']=dfcus['下单时间'].map(cus2set)"
   ]
  },
  {
   "cell_type": "code",
   "execution_count": 20,
   "id": "48f1b9f5-db2d-454e-89a0-4be7f1fbf39f",
   "metadata": {},
   "outputs": [
    {
     "data": {
      "text/plain": [
       "DatetimeIndex(['2022-06-18', '2022-07-10'], dtype='datetime64[ns]', freq=None)"
      ]
     },
     "execution_count": 20,
     "metadata": {},
     "output_type": "execute_result"
    }
   ],
   "source": [
    "#df_select = dfcus.loc[dfcus['freq']>=2]\n",
    "#df_select.sort_values(by = 'freq',ascending = True)\n",
    "dfcus['freq']=dfcus['date'].map(len)\n",
    "#dfcus = dfcus.drop(['下单时间'], axis =1)\n",
    "dfcus = dfcus[['date', 'freq']]\n",
    "df_select = dfcus.loc[dfcus['freq']>=2]\n",
    "df_select = df_select.sort_values(by = 'freq', ascending = True)\n",
    "df_select['date']=df_select['date'].map(list)\n",
    "df_select['date']=df_select['date'].map(pd.to_datetime)"
   ]
  },
  {
   "cell_type": "code",
   "execution_count": 64,
   "id": "6dbbd922-8de2-4140-b25c-b0e3d3535de7",
   "metadata": {},
   "outputs": [],
   "source": [
    "def time2diff(x):\n",
    "    return (x[-1]-x[0]).days\n",
    "def recentday(x):\n",
    "    return x[-1]"
   ]
  },
  {
   "cell_type": "code",
   "execution_count": 72,
   "id": "9e93c5bc-682a-4507-a18d-2fb1e2e1c9eb",
   "metadata": {},
   "outputs": [
    {
     "data": {
      "text/html": [
       "<div>\n",
       "<style scoped>\n",
       "    .dataframe tbody tr th:only-of-type {\n",
       "        vertical-align: middle;\n",
       "    }\n",
       "\n",
       "    .dataframe tbody tr th {\n",
       "        vertical-align: top;\n",
       "    }\n",
       "\n",
       "    .dataframe thead th {\n",
       "        text-align: right;\n",
       "    }\n",
       "</style>\n",
       "<table border=\"1\" class=\"dataframe\">\n",
       "  <thead>\n",
       "    <tr style=\"text-align: right;\">\n",
       "      <th></th>\n",
       "      <th>date</th>\n",
       "      <th>freq</th>\n",
       "      <th>time_diff</th>\n",
       "      <th>recentbuy_date</th>\n",
       "    </tr>\n",
       "    <tr>\n",
       "      <th>收货手机号</th>\n",
       "      <th></th>\n",
       "      <th></th>\n",
       "      <th></th>\n",
       "      <th></th>\n",
       "    </tr>\n",
       "  </thead>\n",
       "  <tbody>\n",
       "    <tr>\n",
       "      <th>13456889559</th>\n",
       "      <td>[2021-08-13 00:00:00, 2021-09-19 00:00:00, 202...</td>\n",
       "      <td>18</td>\n",
       "      <td>1076</td>\n",
       "      <td>2024-07-24</td>\n",
       "    </tr>\n",
       "    <tr>\n",
       "      <th>312312</th>\n",
       "      <td>[2021-11-08 00:00:00, 2021-11-14 00:00:00, 202...</td>\n",
       "      <td>117</td>\n",
       "      <td>989</td>\n",
       "      <td>2024-07-24</td>\n",
       "    </tr>\n",
       "    <tr>\n",
       "      <th>13809029342</th>\n",
       "      <td>[2022-03-08 00:00:00, 2022-05-14 00:00:00, 202...</td>\n",
       "      <td>4</td>\n",
       "      <td>869</td>\n",
       "      <td>2024-07-24</td>\n",
       "    </tr>\n",
       "    <tr>\n",
       "      <th>15811065282</th>\n",
       "      <td>[2021-08-13 00:00:00, 2021-08-15 00:00:00, 202...</td>\n",
       "      <td>90</td>\n",
       "      <td>1076</td>\n",
       "      <td>2024-07-24</td>\n",
       "    </tr>\n",
       "    <tr>\n",
       "      <th>13800000000</th>\n",
       "      <td>[2023-12-27 00:00:00, 2023-12-28 00:00:00, 202...</td>\n",
       "      <td>99</td>\n",
       "      <td>210</td>\n",
       "      <td>2024-07-24</td>\n",
       "    </tr>\n",
       "    <tr>\n",
       "      <th>13488763194</th>\n",
       "      <td>[2021-08-18 00:00:00, 2021-08-24 00:00:00, 202...</td>\n",
       "      <td>125</td>\n",
       "      <td>1071</td>\n",
       "      <td>2024-07-24</td>\n",
       "    </tr>\n",
       "    <tr>\n",
       "      <th>15846617791</th>\n",
       "      <td>[2021-09-10 00:00:00, 2021-09-25 00:00:00, 202...</td>\n",
       "      <td>123</td>\n",
       "      <td>1048</td>\n",
       "      <td>2024-07-24</td>\n",
       "    </tr>\n",
       "    <tr>\n",
       "      <th>18301109025</th>\n",
       "      <td>[2022-06-30 00:00:00, 2022-07-04 00:00:00, 202...</td>\n",
       "      <td>547</td>\n",
       "      <td>755</td>\n",
       "      <td>2024-07-24</td>\n",
       "    </tr>\n",
       "    <tr>\n",
       "      <th>18851190101</th>\n",
       "      <td>[2021-12-21 00:00:00, 2023-08-17 00:00:00, 202...</td>\n",
       "      <td>3</td>\n",
       "      <td>946</td>\n",
       "      <td>2024-07-24</td>\n",
       "    </tr>\n",
       "  </tbody>\n",
       "</table>\n",
       "</div>"
      ],
      "text/plain": [
       "                                                          date  freq  \\\n",
       "收货手机号                                                                  \n",
       "13456889559  [2021-08-13 00:00:00, 2021-09-19 00:00:00, 202...    18   \n",
       "312312       [2021-11-08 00:00:00, 2021-11-14 00:00:00, 202...   117   \n",
       "13809029342  [2022-03-08 00:00:00, 2022-05-14 00:00:00, 202...     4   \n",
       "15811065282  [2021-08-13 00:00:00, 2021-08-15 00:00:00, 202...    90   \n",
       "13800000000  [2023-12-27 00:00:00, 2023-12-28 00:00:00, 202...    99   \n",
       "13488763194  [2021-08-18 00:00:00, 2021-08-24 00:00:00, 202...   125   \n",
       "15846617791  [2021-09-10 00:00:00, 2021-09-25 00:00:00, 202...   123   \n",
       "18301109025  [2022-06-30 00:00:00, 2022-07-04 00:00:00, 202...   547   \n",
       "18851190101  [2021-12-21 00:00:00, 2023-08-17 00:00:00, 202...     3   \n",
       "\n",
       "             time_diff recentbuy_date  \n",
       "收货手机号                                  \n",
       "13456889559       1076     2024-07-24  \n",
       "312312             989     2024-07-24  \n",
       "13809029342        869     2024-07-24  \n",
       "15811065282       1076     2024-07-24  \n",
       "13800000000        210     2024-07-24  \n",
       "13488763194       1071     2024-07-24  \n",
       "15846617791       1048     2024-07-24  \n",
       "18301109025        755     2024-07-24  \n",
       "18851190101        946     2024-07-24  "
      ]
     },
     "execution_count": 72,
     "metadata": {},
     "output_type": "execute_result"
    }
   ],
   "source": [
    "df_select['date'] = df_select['date'].map(sorted)\n",
    "df_select['time_diff'] = df_select['date'].map(time2diff)\n",
    "df_select['recentbuy_date'] = df_select['date'].map(recentday)\n",
    "df_select = df_select.sort_values(by = 'recentbuy_date', ascending = True)\n",
    "df_select.iloc[-10:-1,:]"
   ]
  },
  {
   "cell_type": "code",
   "execution_count": 61,
   "id": "58759799-68d1-4f5e-83fb-ff553ee52137",
   "metadata": {},
   "outputs": [],
   "source": [
    "#df_select['time_diff'].plot(kind='hist', bins=30, title= 'Diff_day')"
   ]
  },
  {
   "cell_type": "code",
   "execution_count": 68,
   "id": "6a8f5b73-2413-4e67-9c60-82b7c5aa3708",
   "metadata": {},
   "outputs": [
    {
     "data": {
      "text/plain": [
       "<Axes: title={'center': 'Diff_day'}, ylabel='Frequency'>"
      ]
     },
     "execution_count": 68,
     "metadata": {},
     "output_type": "execute_result"
    },
    {
     "data": {
      "image/png": "[encoded data removed]",
      "text/plain": [
       "<Figure size 640x480 with 1 Axes>"
      ]
     },
     "metadata": {},
     "output_type": "display_data"
    }
   ],
   "source": [
    "df_select_sort = df_select.sort_values(by='time_diff', ascending = True)\n",
    "aaa = df_select_sort.loc[df_select_sort.time_diff>=10]\n",
    "aaa['time_diff'].plot(kind='hist', bins=30, title= 'Diff_day')"
   ]
  },
  {
   "cell_type": "code",
   "execution_count": 119,
   "id": "02c516d3-009a-4398-9eff-60fec761dd0b",
   "metadata": {},
   "outputs": [
    {
     "data": {
      "text/plain": [
       "DatetimeIndex(['2022-06-18', '2022-07-10'], dtype='datetime64[ns]', freq=None)"
      ]
     },
     "execution_count": 119,
     "metadata": {},
     "output_type": "execute_result"
    }
   ],
   "source": [
    "pd.to_datetime(list(df_select['date'].iloc[0]))"
   ]
  },
  {
   "cell_type": "code",
   "execution_count": null,
   "id": "cdccd50e-d529-41dd-a422-f9195db7df04",
   "metadata": {},
   "outputs": [],
   "source": [
    "def time_diff(x):\n",
    "    x.date"
   ]
  },
  {
   "cell_type": "code",
   "execution_count": 116,
   "id": "8043176a-b7ee-4c09-91db-2992bfe8aa99",
   "metadata": {},
   "outputs": [
    {
     "data": {
      "text/plain": [
       "<Axes: ylabel='freq'>"
      ]
     },
     "execution_count": 116,
     "metadata": {},
     "output_type": "execute_result"
    },
    {
     "data": {
      "image/png": "[encoded data removed]",
      "text/plain": [
       "<Figure size 640x480 with 1 Axes>"
      ]
     },
     "metadata": {},
     "output_type": "display_data"
    }
   ],
   "source": [
    "dfcus['freq']=dfcus['date'].map(len)\n",
    "df_select = dfcus.loc[dfcus['freq']>=1]\n",
    "df_select1 = df_select.iloc[:-4,:]\n",
    "df_select2 = df_select1[['date', 'freq']]\n",
    "df_select2['freq'].value_counts(ascending=True).plot(kind='barh')"
   ]
  },
  {
   "cell_type": "code",
   "execution_count": 86,
   "id": "d07b52df-1494-4edc-bcb9-1b2326cc8308",
   "metadata": {},
   "outputs": [
    {
     "data": {
      "text/plain": [
       "Timedelta('11 days 00:00:00')"
      ]
     },
     "execution_count": 86,
     "metadata": {},
     "output_type": "execute_result"
    }
   ],
   "source": [
    "pd.to_datetime(list(df_select2['date'].iloc[2])[0])-pd.to_datetime(list(df_select2['date'].iloc[2])[1])"
   ]
  },
  {
   "cell_type": "code",
   "execution_count": 85,
   "id": "7d694169-35b5-48d1-bdc2-2c7fd3a366f9",
   "metadata": {},
   "outputs": [
    {
     "data": {
      "text/plain": [
       "DatetimeIndex(['2022-08-07', '2022-05-23', '2022-07-21', '2022-01-15',\n",
       "               '2022-01-27', '2022-05-25', '2023-04-03', '2022-06-04',\n",
       "               '2022-01-12', '2021-09-07', '2022-04-16'],\n",
       "              dtype='datetime64[ns]', freq=None)"
      ]
     },
     "execution_count": 85,
     "metadata": {},
     "output_type": "execute_result"
    }
   ],
   "source": [
    "pd.to_datetime(df_select2['date'].iloc[-1])"
   ]
  },
  {
   "cell_type": "code",
   "execution_count": null,
   "id": "0f5bb1f5-309f-475e-9445-1215524791ed",
   "metadata": {},
   "outputs": [
    {
     "data": {
      "text/plain": [
       "<BarContainer object of 62294 artists>"
      ]
     },
     "execution_count": 54,
     "metadata": {},
     "output_type": "execute_result"
    },
    {
     "name": "stderr",
     "output_type": "stream",
     "text": [
      "/Users/finalboss/anaconda3/envs/dswork/lib/python3.12/site-packages/IPython/core/events.py:82: UserWarning: Glyph 21344 (\\N{CJK UNIFIED IDEOGRAPH-5360}) missing from current font.\n",
      "  func(*args, **kwargs)\n"
     ]
    }
   ],
   "source": [
    "#plt.bar(df_select2.index, df_select2['freqency'])"
   ]
  },
  {
   "cell_type": "code",
   "execution_count": 14,
   "id": "f5635cc2-f6f6-415e-bc2c-f0b64853bcfb",
   "metadata": {},
   "outputs": [],
   "source": []
  },
  {
   "cell_type": "code",
   "execution_count": 16,
   "id": "cdd411dd-ca64-487a-89b7-ba2a3b8134ca",
   "metadata": {},
   "outputs": [
    {
     "data": {
      "text/html": [
       "<div>\n",
       "<style scoped>\n",
       "    .dataframe tbody tr th:only-of-type {\n",
       "        vertical-align: middle;\n",
       "    }\n",
       "\n",
       "    .dataframe tbody tr th {\n",
       "        vertical-align: top;\n",
       "    }\n",
       "\n",
       "    .dataframe thead th {\n",
       "        text-align: right;\n",
       "    }\n",
       "</style>\n",
       "<table border=\"1\" class=\"dataframe\">\n",
       "  <thead>\n",
       "    <tr style=\"text-align: right;\">\n",
       "      <th></th>\n",
       "      <th>收货手机号</th>\n",
       "      <th>contact</th>\n",
       "    </tr>\n",
       "    <tr>\n",
       "      <th>date</th>\n",
       "      <th></th>\n",
       "      <th></th>\n",
       "    </tr>\n",
       "  </thead>\n",
       "  <tbody>\n",
       "    <tr>\n",
       "      <th>2021-08-04</th>\n",
       "      <td>010-56255750 021-80392283 010-56255750 1342929...</td>\n",
       "      <td>{15306722865, 18801621289, 18622357311, 138818...</td>\n",
       "    </tr>\n",
       "    <tr>\n",
       "      <th>2021-08-05</th>\n",
       "      <td>18118150999 18820281553 010-56255750 187630362...</td>\n",
       "      <td>{13805803589, 13018118253, 18858126356, 158569...</td>\n",
       "    </tr>\n",
       "    <tr>\n",
       "      <th>2021-08-06</th>\n",
       "      <td>19982577807 13122993350 13122993350 1598907154...</td>\n",
       "      <td>{17835703465, 18768178139, 18800109284, 186182...</td>\n",
       "    </tr>\n",
       "    <tr>\n",
       "      <th>2021-08-07</th>\n",
       "      <td>18710266256 13917948618 18636199663 1363668333...</td>\n",
       "      <td>{13564274982, 13706962278, 13058832498, 139679...</td>\n",
       "    </tr>\n",
       "    <tr>\n",
       "      <th>2021-08-08</th>\n",
       "      <td>17621533711 17621533711 18771421230 1363773677...</td>\n",
       "      <td>{15636487828, 15238678863, 13818739459, 185662...</td>\n",
       "    </tr>\n",
       "    <tr>\n",
       "      <th>...</th>\n",
       "      <td>...</td>\n",
       "      <td>...</td>\n",
       "    </tr>\n",
       "    <tr>\n",
       "      <th>2024-07-20</th>\n",
       "      <td>15784074251 15782893556 15782893556 1578287528...</td>\n",
       "      <td>{15782890636, 15782893556, 15026889624, 138000...</td>\n",
       "    </tr>\n",
       "    <tr>\n",
       "      <th>2024-07-21</th>\n",
       "      <td>18466137046 15784255701 15784255701 1840083803...</td>\n",
       "      <td>{15784255701, 18466127103, 13800000000, 157828...</td>\n",
       "    </tr>\n",
       "    <tr>\n",
       "      <th>2024-07-22</th>\n",
       "      <td>18400830161 18466667446 021-80392283 021-80392...</td>\n",
       "      <td>{15784013907, 18466250285, 13800000000, 178345...</td>\n",
       "    </tr>\n",
       "    <tr>\n",
       "      <th>2024-07-23</th>\n",
       "      <td>18468342103 15782821032 18472263677 1823885204...</td>\n",
       "      <td>{13167397273, 15782893556, 15782959315, 157828...</td>\n",
       "    </tr>\n",
       "    <tr>\n",
       "      <th>2024-07-24</th>\n",
       "      <td>312312 312312 312312 312312 312312 312312 3123...</td>\n",
       "      <td>{13800000000, 18400869520, 312312, 15782979343...</td>\n",
       "    </tr>\n",
       "  </tbody>\n",
       "</table>\n",
       "<p>1086 rows × 2 columns</p>\n",
       "</div>"
      ],
      "text/plain": [
       "                                                        收货手机号  \\\n",
       "date                                                            \n",
       "2021-08-04  010-56255750 021-80392283 010-56255750 1342929...   \n",
       "2021-08-05  18118150999 18820281553 010-56255750 187630362...   \n",
       "2021-08-06  19982577807 13122993350 13122993350 1598907154...   \n",
       "2021-08-07  18710266256 13917948618 18636199663 1363668333...   \n",
       "2021-08-08  17621533711 17621533711 18771421230 1363773677...   \n",
       "...                                                       ...   \n",
       "2024-07-20  15784074251 15782893556 15782893556 1578287528...   \n",
       "2024-07-21  18466137046 15784255701 15784255701 1840083803...   \n",
       "2024-07-22  18400830161 18466667446 021-80392283 021-80392...   \n",
       "2024-07-23  18468342103 15782821032 18472263677 1823885204...   \n",
       "2024-07-24  312312 312312 312312 312312 312312 312312 3123...   \n",
       "\n",
       "                                                      contact  \n",
       "date                                                           \n",
       "2021-08-04  {15306722865, 18801621289, 18622357311, 138818...  \n",
       "2021-08-05  {13805803589, 13018118253, 18858126356, 158569...  \n",
       "2021-08-06  {17835703465, 18768178139, 18800109284, 186182...  \n",
       "2021-08-07  {13564274982, 13706962278, 13058832498, 139679...  \n",
       "2021-08-08  {15636487828, 15238678863, 13818739459, 185662...  \n",
       "...                                                       ...  \n",
       "2024-07-20  {15782890636, 15782893556, 15026889624, 138000...  \n",
       "2024-07-21  {15784255701, 18466127103, 13800000000, 157828...  \n",
       "2024-07-22  {15784013907, 18466250285, 13800000000, 178345...  \n",
       "2024-07-23  {13167397273, 15782893556, 15782959315, 157828...  \n",
       "2024-07-24  {13800000000, 18400869520, 312312, 15782979343...  \n",
       "\n",
       "[1086 rows x 2 columns]"
      ]
     },
     "execution_count": 16,
     "metadata": {},
     "output_type": "execute_result"
    }
   ],
   "source": [
    "df_customer1 = df1[['收货手机号','date']]\n",
    "df_customers = df_customer1.groupby('date').agg({'收货手机号':' '.join})\n",
    "df_customers['contact'] = df_customers['收货手机号'].map(cus2set)\n",
    "df_customers"
   ]
  },
  {
   "cell_type": "code",
   "execution_count": 212,
   "id": "e7173885-55a6-460c-9e77-2384eb38d5f1",
   "metadata": {
    "jp-MarkdownHeadingCollapsed": true
   },
   "outputs": [],
   "source": [
    "def dic_customer2time(x):\n",
    "    dict={}\n",
    "    aset=set()\n",
    "    for j in x.iloc[:,1]:\n",
    "        aset=aset | j\n",
    "        \n",
    "    for key in aset:\n",
    "        dict[key]=[]\n",
    "        for j in range(len(x.iloc[:,1])):\n",
    "            if key in x.iloc[j,1]:\n",
    "                dict[key].append(x.index[j])\n",
    "    return dict"
   ]
  },
  {
   "cell_type": "code",
   "execution_count": null,
   "id": "d1032182-10b9-4179-b4eb-d4426e7291f3",
   "metadata": {},
   "outputs": [],
   "source": [
    "customer_info = dic_customer2time(df_customers)"
   ]
  },
  {
   "cell_type": "code",
   "execution_count": 95,
   "id": "60fdd9a4-d1a9-423c-b6e3-bcea240311df",
   "metadata": {
    "scrolled": true
   },
   "outputs": [
    {
     "name": "stdout",
     "output_type": "stream",
     "text": [
      "      Name  Age  Salary\n",
      "0    Alice   25   50000\n",
      "1      Bob   35   60000\n",
      "2  Charlie   30   70000\n",
      "3    David   40   80000\n",
      "      Name  Age  Salary\n",
      "0    Alice   25   50000\n",
      "2  Charlie   30   70000\n",
      "1      Bob   35   60000\n",
      "3    David   40   80000\n"
     ]
    }
   ],
   "source": [
    "import pandas as pd\n",
    "\n",
    "# Sample DataFrame\n",
    "data = {\n",
    "    'Name': ['Alice', 'Bob', 'Charlie', 'David'],\n",
    "    'Age': [25, 35, 30, 40],\n",
    "    'Salary': [50000, 60000, 70000, 80000]\n",
    "}\n",
    "\n",
    "df = pd.DataFrame(data)\n",
    "\n",
    "print(df)\n",
    "# Sort the DataFrame based on the 'Age' column in ascending order\n",
    "sorted_df = df.sort_values(by='Age', ascending=True)\n",
    "\n",
    "print(sorted_df)"
   ]
  },
  {
   "cell_type": "code",
   "execution_count": 74,
   "id": "98bc173f-d39b-47cb-ae59-61d11ef2ace3",
   "metadata": {},
   "outputs": [
    {
     "data": {
      "text/html": [
       "<div>\n",
       "<style scoped>\n",
       "    .dataframe tbody tr th:only-of-type {\n",
       "        vertical-align: middle;\n",
       "    }\n",
       "\n",
       "    .dataframe tbody tr th {\n",
       "        vertical-align: top;\n",
       "    }\n",
       "\n",
       "    .dataframe thead th {\n",
       "        text-align: right;\n",
       "    }\n",
       "</style>\n",
       "<table border=\"1\" class=\"dataframe\">\n",
       "  <thead>\n",
       "    <tr style=\"text-align: right;\">\n",
       "      <th></th>\n",
       "      <th>A</th>\n",
       "      <th>B</th>\n",
       "      <th>C</th>\n",
       "    </tr>\n",
       "  </thead>\n",
       "  <tbody>\n",
       "    <tr>\n",
       "      <th>0</th>\n",
       "      <td>1.0</td>\n",
       "      <td>2.0</td>\n",
       "      <td>3.0</td>\n",
       "    </tr>\n",
       "    <tr>\n",
       "      <th>1</th>\n",
       "      <td>4.0</td>\n",
       "      <td>5.0</td>\n",
       "      <td>6.0</td>\n",
       "    </tr>\n",
       "    <tr>\n",
       "      <th>2</th>\n",
       "      <td>7.0</td>\n",
       "      <td>8.0</td>\n",
       "      <td>9.0</td>\n",
       "    </tr>\n",
       "    <tr>\n",
       "      <th>3</th>\n",
       "      <td>NaN</td>\n",
       "      <td>NaN</td>\n",
       "      <td>NaN</td>\n",
       "    </tr>\n",
       "  </tbody>\n",
       "</table>\n",
       "</div>"
      ],
      "text/plain": [
       "     A    B    C\n",
       "0  1.0  2.0  3.0\n",
       "1  4.0  5.0  6.0\n",
       "2  7.0  8.0  9.0\n",
       "3  NaN  NaN  NaN"
      ]
     },
     "execution_count": 74,
     "metadata": {},
     "output_type": "execute_result"
    }
   ],
   "source": [
    "import numpy as np\n",
    "df = pd.DataFrame([[1, 2, 3],\n",
    "                   [4, 5, 6],\n",
    "                   [7, 8, 9],\n",
    "                   [np.nan, np.nan, np.nan]],\n",
    "                  columns=['A', 'B', 'C'])\n",
    "df"
   ]
  },
  {
   "cell_type": "code",
   "execution_count": null,
   "id": "253f8577-fd17-4249-8320-5161fc91fa55",
   "metadata": {},
   "outputs": [],
   "source": [
    "# import seaborn as sns\n",
    "# import matplotlib.pyplot as plt\n",
    "\n",
    "# fig,ax = plt.subplots(1,1,figsize=(6,12))\n",
    "# df_count = df1['收货手机号'].value_counts(ascending=False)\n",
    "# sns.barplot(y= df_count.index, x=df_count.values)"
   ]
  },
  {
   "cell_type": "markdown",
   "id": "5de6064c-70bc-497e-97da-5bf6a58bb673",
   "metadata": {},
   "source": [
    "**商品信息**：\n",
    "* 商品单价：现实打折之后卖出的价格\n",
    "* 市场价： 打折前的价格\n",
    "* 商品总价： ？\n",
    "* 折扣区见 =折扣\n",
    "* 单价 = 供货价\n",
    "* 收获人问题"
   ]
  },
  {
   "cell_type": "code",
   "execution_count": 138,
   "id": "79e3987c-bd4c-45cf-8e87-49d133013be8",
   "metadata": {},
   "outputs": [
    {
     "data": {
      "text/html": [
       "<div>\n",
       "<style scoped>\n",
       "    .dataframe tbody tr th:only-of-type {\n",
       "        vertical-align: middle;\n",
       "    }\n",
       "\n",
       "    .dataframe tbody tr th {\n",
       "        vertical-align: top;\n",
       "    }\n",
       "\n",
       "    .dataframe thead th {\n",
       "        text-align: right;\n",
       "    }\n",
       "</style>\n",
       "<table border=\"1\" class=\"dataframe\">\n",
       "  <thead>\n",
       "    <tr style=\"text-align: right;\">\n",
       "      <th></th>\n",
       "      <th>图片</th>\n",
       "      <th>商品编码</th>\n",
       "      <th>品牌</th>\n",
       "      <th>季节码</th>\n",
       "      <th>商品分类</th>\n",
       "      <th>展示分组</th>\n",
       "      <th>款号</th>\n",
       "      <th>颜色</th>\n",
       "      <th>尺码</th>\n",
       "      <th>市场价</th>\n",
       "      <th>数量</th>\n",
       "      <th>供货价</th>\n",
       "      <th>折扣</th>\n",
       "    </tr>\n",
       "  </thead>\n",
       "  <tbody>\n",
       "    <tr>\n",
       "      <th>1</th>\n",
       "      <td>NaN</td>\n",
       "      <td>1425287</td>\n",
       "      <td>JOHN ELLIOTT</td>\n",
       "      <td>2020春夏</td>\n",
       "      <td>男装（新）-裤子-运动裤</td>\n",
       "      <td>F002N0813A</td>\n",
       "      <td>F002N0813A Charcoal</td>\n",
       "      <td>灰色</td>\n",
       "      <td>4</td>\n",
       "      <td>¥3,180</td>\n",
       "      <td>1</td>\n",
       "      <td>318</td>\n",
       "      <td>10.00%</td>\n",
       "    </tr>\n",
       "    <tr>\n",
       "      <th>2</th>\n",
       "      <td>NaN</td>\n",
       "      <td>1425288</td>\n",
       "      <td>JOHN ELLIOTT</td>\n",
       "      <td>2020春夏</td>\n",
       "      <td>男装（新）-裤子-运动裤</td>\n",
       "      <td>F002N0813A</td>\n",
       "      <td>F002N0813A Charcoal</td>\n",
       "      <td>灰色</td>\n",
       "      <td>5</td>\n",
       "      <td>¥3,180</td>\n",
       "      <td>1</td>\n",
       "      <td>318</td>\n",
       "      <td>10.00%</td>\n",
       "    </tr>\n",
       "    <tr>\n",
       "      <th>3</th>\n",
       "      <td>NaN</td>\n",
       "      <td>1425407</td>\n",
       "      <td>JOHN ELLIOTT</td>\n",
       "      <td>2020春夏</td>\n",
       "      <td>男装（新）-裤子-休闲裤</td>\n",
       "      <td>F051L4510A</td>\n",
       "      <td>F051L4510A Black</td>\n",
       "      <td>深灰/黑色</td>\n",
       "      <td>0</td>\n",
       "      <td>¥3,640</td>\n",
       "      <td>1</td>\n",
       "      <td>364</td>\n",
       "      <td>10.00%</td>\n",
       "    </tr>\n",
       "  </tbody>\n",
       "</table>\n",
       "</div>"
      ],
      "text/plain": [
       "    图片     商品编码            品牌     季节码          商品分类        展示分组  \\\n",
       "1  NaN  1425287  JOHN ELLIOTT  2020春夏  男装（新）-裤子-运动裤  F002N0813A   \n",
       "2  NaN  1425288  JOHN ELLIOTT  2020春夏  男装（新）-裤子-运动裤  F002N0813A   \n",
       "3  NaN  1425407  JOHN ELLIOTT  2020春夏  男装（新）-裤子-休闲裤  F051L4510A   \n",
       "\n",
       "                    款号     颜色 尺码     市场价 数量   供货价      折扣  \n",
       "1  F002N0813A Charcoal     灰色  4  ¥3,180  1  318   10.00%  \n",
       "2  F002N0813A Charcoal     灰色  5  ¥3,180  1  318   10.00%  \n",
       "3     F051L4510A Black  深灰/黑色  0  ¥3,640  1  364   10.00%  "
      ]
     },
     "execution_count": 138,
     "metadata": {},
     "output_type": "execute_result"
    }
   ],
   "source": [
    "df2v.head(3)"
   ]
  },
  {
   "cell_type": "code",
   "execution_count": 56,
   "id": "b3015fba-cd3d-457c-b396-7c8ff693d85b",
   "metadata": {},
   "outputs": [
    {
     "name": "stdout",
     "output_type": "stream",
     "text": [
      "<class 'pandas.core.frame.DataFrame'>\n",
      "RangeIndex: 999 entries, 1 to 999\n",
      "Data columns (total 13 columns):\n",
      " #   Column  Non-Null Count  Dtype \n",
      "---  ------  --------------  ----- \n",
      " 0   图片      0 non-null      object\n",
      " 1   商品编码    999 non-null    object\n",
      " 2   品牌      999 non-null    object\n",
      " 3   季节码     999 non-null    object\n",
      " 4   商品分类    999 non-null    object\n",
      " 5   展示分组    999 non-null    object\n",
      " 6   款号      999 non-null    object\n",
      " 7   颜色      992 non-null    object\n",
      " 8   尺码      999 non-null    object\n",
      " 9   市场价     999 non-null    object\n",
      " 10  数量      999 non-null    object\n",
      " 11  供货价     999 non-null    object\n",
      " 12  折扣      999 non-null    object\n",
      "dtypes: object(13)\n",
      "memory usage: 101.6+ KB\n",
      "None\n",
      "999\n"
     ]
    }
   ],
   "source": [
    "print(df2v.info())\n",
    "print(sum(df2v['图片'].isna()))"
   ]
  },
  {
   "cell_type": "code",
   "execution_count": 129,
   "id": "e0ebef24-101b-45b9-a3b7-6868749728ff",
   "metadata": {},
   "outputs": [
    {
     "data": {
      "text/html": [
       "<div>\n",
       "<style scoped>\n",
       "    .dataframe tbody tr th:only-of-type {\n",
       "        vertical-align: middle;\n",
       "    }\n",
       "\n",
       "    .dataframe tbody tr th {\n",
       "        vertical-align: top;\n",
       "    }\n",
       "\n",
       "    .dataframe thead th {\n",
       "        text-align: right;\n",
       "    }\n",
       "</style>\n",
       "<table border=\"1\" class=\"dataframe\">\n",
       "  <thead>\n",
       "    <tr style=\"text-align: right;\">\n",
       "      <th></th>\n",
       "      <th>商品编码</th>\n",
       "      <th>品牌</th>\n",
       "      <th>商品分类</th>\n",
       "      <th>展示分组</th>\n",
       "      <th>款号</th>\n",
       "      <th>颜色</th>\n",
       "      <th>尺码</th>\n",
       "      <th>市场价</th>\n",
       "      <th>数量</th>\n",
       "      <th>供货价</th>\n",
       "      <th>折扣</th>\n",
       "    </tr>\n",
       "  </thead>\n",
       "  <tbody>\n",
       "    <tr>\n",
       "      <th>1</th>\n",
       "      <td>1425287</td>\n",
       "      <td>JOHN ELLIOTT</td>\n",
       "      <td>男装（新）-裤子-运动裤</td>\n",
       "      <td>F002N0813A</td>\n",
       "      <td>F002N0813A Charcoal</td>\n",
       "      <td>灰色</td>\n",
       "      <td>4</td>\n",
       "      <td>¥3,180</td>\n",
       "      <td>1</td>\n",
       "      <td>318</td>\n",
       "      <td>10.00%</td>\n",
       "    </tr>\n",
       "    <tr>\n",
       "      <th>2</th>\n",
       "      <td>1425288</td>\n",
       "      <td>JOHN ELLIOTT</td>\n",
       "      <td>男装（新）-裤子-运动裤</td>\n",
       "      <td>F002N0813A</td>\n",
       "      <td>F002N0813A Charcoal</td>\n",
       "      <td>灰色</td>\n",
       "      <td>5</td>\n",
       "      <td>¥3,180</td>\n",
       "      <td>1</td>\n",
       "      <td>318</td>\n",
       "      <td>10.00%</td>\n",
       "    </tr>\n",
       "    <tr>\n",
       "      <th>3</th>\n",
       "      <td>1425407</td>\n",
       "      <td>JOHN ELLIOTT</td>\n",
       "      <td>男装（新）-裤子-休闲裤</td>\n",
       "      <td>F051L4510A</td>\n",
       "      <td>F051L4510A Black</td>\n",
       "      <td>深灰/黑色</td>\n",
       "      <td>0</td>\n",
       "      <td>¥3,640</td>\n",
       "      <td>1</td>\n",
       "      <td>364</td>\n",
       "      <td>10.00%</td>\n",
       "    </tr>\n",
       "    <tr>\n",
       "      <th>4</th>\n",
       "      <td>1448152</td>\n",
       "      <td>SPORTMAX</td>\n",
       "      <td>女装（新）-裤子-休闲裤-休闲裤</td>\n",
       "      <td>21360109600</td>\n",
       "      <td>21360109600 002</td>\n",
       "      <td>浅灰色</td>\n",
       "      <td>36</td>\n",
       "      <td>¥3,470</td>\n",
       "      <td>1</td>\n",
       "      <td>347</td>\n",
       "      <td>10.00%</td>\n",
       "    </tr>\n",
       "    <tr>\n",
       "      <th>5</th>\n",
       "      <td>1448153</td>\n",
       "      <td>SPORTMAX</td>\n",
       "      <td>女装（新）-裤子-休闲裤-休闲裤</td>\n",
       "      <td>21360109600</td>\n",
       "      <td>21360109600 002</td>\n",
       "      <td>浅灰色</td>\n",
       "      <td>38</td>\n",
       "      <td>¥3,470</td>\n",
       "      <td>1</td>\n",
       "      <td>347</td>\n",
       "      <td>10.00%</td>\n",
       "    </tr>\n",
       "    <tr>\n",
       "      <th>6</th>\n",
       "      <td>1458070</td>\n",
       "      <td>STELLA MCCARTNEY</td>\n",
       "      <td>女装（新）-连衣裙-及膝裙</td>\n",
       "      <td>602415S2216</td>\n",
       "      <td>602415S2216 8508</td>\n",
       "      <td>黑色/白色</td>\n",
       "      <td>34</td>\n",
       "      <td>¥12,550</td>\n",
       "      <td>1</td>\n",
       "      <td>1,255</td>\n",
       "      <td>10.00%</td>\n",
       "    </tr>\n",
       "    <tr>\n",
       "      <th>7</th>\n",
       "      <td>1458549</td>\n",
       "      <td>ACLER</td>\n",
       "      <td>女装（新）-裤子-休闲裤-休闲裤</td>\n",
       "      <td>AS200714P-1</td>\n",
       "      <td>AS200714P-1 CHECK SHIMMER</td>\n",
       "      <td>棕色/米色</td>\n",
       "      <td>2</td>\n",
       "      <td>¥2,000</td>\n",
       "      <td>1</td>\n",
       "      <td>200</td>\n",
       "      <td>10.00%</td>\n",
       "    </tr>\n",
       "    <tr>\n",
       "      <th>8</th>\n",
       "      <td>1458554</td>\n",
       "      <td>ACLER</td>\n",
       "      <td>女装（新）-裤子-休闲裤-休闲裤</td>\n",
       "      <td>AS2007121P</td>\n",
       "      <td>AS2007121P STORM GREEN</td>\n",
       "      <td>绿色</td>\n",
       "      <td>2</td>\n",
       "      <td>¥2,000</td>\n",
       "      <td>1</td>\n",
       "      <td>200</td>\n",
       "      <td>10.00%</td>\n",
       "    </tr>\n",
       "    <tr>\n",
       "      <th>9</th>\n",
       "      <td>1460646</td>\n",
       "      <td>KENZO</td>\n",
       "      <td>女装（新）-半裙-中长款半裙</td>\n",
       "      <td>FB52JU5523AD</td>\n",
       "      <td>FB52JU5523AD 21</td>\n",
       "      <td>红色</td>\n",
       "      <td>S</td>\n",
       "      <td>¥3,600</td>\n",
       "      <td>2</td>\n",
       "      <td>360</td>\n",
       "      <td>10.00%</td>\n",
       "    </tr>\n",
       "    <tr>\n",
       "      <th>10</th>\n",
       "      <td>1461518</td>\n",
       "      <td>Significant Other</td>\n",
       "      <td>女装（新）-裤子-短裤</td>\n",
       "      <td>SL200710P</td>\n",
       "      <td>SL200710P CARAMEL PAINTED FLORAL</td>\n",
       "      <td>黄色/白色</td>\n",
       "      <td>2</td>\n",
       "      <td>¥2,000</td>\n",
       "      <td>1</td>\n",
       "      <td>200</td>\n",
       "      <td>10.00%</td>\n",
       "    </tr>\n",
       "    <tr>\n",
       "      <th>11</th>\n",
       "      <td>1461519</td>\n",
       "      <td>Significant Other</td>\n",
       "      <td>女装（新）-裤子-短裤</td>\n",
       "      <td>SL200710P</td>\n",
       "      <td>SL200710P CARAMEL PAINTED FLORAL</td>\n",
       "      <td>黄色/白色</td>\n",
       "      <td>4</td>\n",
       "      <td>¥2,000</td>\n",
       "      <td>1</td>\n",
       "      <td>200</td>\n",
       "      <td>10.00%</td>\n",
       "    </tr>\n",
       "    <tr>\n",
       "      <th>12</th>\n",
       "      <td>1461520</td>\n",
       "      <td>Significant Other</td>\n",
       "      <td>女装（新）-裤子-短裤</td>\n",
       "      <td>SL200710P</td>\n",
       "      <td>SL200710P CARAMEL PAINTED FLORAL</td>\n",
       "      <td>黄色/白色</td>\n",
       "      <td>6</td>\n",
       "      <td>¥2,000</td>\n",
       "      <td>1</td>\n",
       "      <td>200</td>\n",
       "      <td>10.00%</td>\n",
       "    </tr>\n",
       "    <tr>\n",
       "      <th>13</th>\n",
       "      <td>1461521</td>\n",
       "      <td>Significant Other</td>\n",
       "      <td>女装（新）-上装-衬衫-衬衫</td>\n",
       "      <td>SL200794T</td>\n",
       "      <td>SL200794T CARAMEL PAINTED FLORAL</td>\n",
       "      <td>黄色/白色</td>\n",
       "      <td>2</td>\n",
       "      <td>¥2,000</td>\n",
       "      <td>5</td>\n",
       "      <td>200</td>\n",
       "      <td>10.00%</td>\n",
       "    </tr>\n",
       "  </tbody>\n",
       "</table>\n",
       "</div>"
      ],
      "text/plain": [
       "       商品编码                 品牌              商品分类          展示分组  \\\n",
       "1   1425287       JOHN ELLIOTT      男装（新）-裤子-运动裤    F002N0813A   \n",
       "2   1425288       JOHN ELLIOTT      男装（新）-裤子-运动裤    F002N0813A   \n",
       "3   1425407       JOHN ELLIOTT      男装（新）-裤子-休闲裤    F051L4510A   \n",
       "4   1448152           SPORTMAX  女装（新）-裤子-休闲裤-休闲裤   21360109600   \n",
       "5   1448153           SPORTMAX  女装（新）-裤子-休闲裤-休闲裤   21360109600   \n",
       "6   1458070   STELLA MCCARTNEY     女装（新）-连衣裙-及膝裙   602415S2216   \n",
       "7   1458549              ACLER  女装（新）-裤子-休闲裤-休闲裤   AS200714P-1   \n",
       "8   1458554              ACLER  女装（新）-裤子-休闲裤-休闲裤    AS2007121P   \n",
       "9   1460646              KENZO    女装（新）-半裙-中长款半裙  FB52JU5523AD   \n",
       "10  1461518  Significant Other       女装（新）-裤子-短裤     SL200710P   \n",
       "11  1461519  Significant Other       女装（新）-裤子-短裤     SL200710P   \n",
       "12  1461520  Significant Other       女装（新）-裤子-短裤     SL200710P   \n",
       "13  1461521  Significant Other    女装（新）-上装-衬衫-衬衫     SL200794T   \n",
       "\n",
       "                                  款号     颜色  尺码      市场价 数量     供货价      折扣  \n",
       "1                F002N0813A Charcoal     灰色   4   ¥3,180  1    318   10.00%  \n",
       "2                F002N0813A Charcoal     灰色   5   ¥3,180  1    318   10.00%  \n",
       "3                   F051L4510A Black  深灰/黑色   0   ¥3,640  1    364   10.00%  \n",
       "4                    21360109600 002    浅灰色  36   ¥3,470  1    347   10.00%  \n",
       "5                    21360109600 002    浅灰色  38   ¥3,470  1    347   10.00%  \n",
       "6                   602415S2216 8508  黑色/白色  34  ¥12,550  1  1,255   10.00%  \n",
       "7          AS200714P-1 CHECK SHIMMER  棕色/米色   2   ¥2,000  1    200   10.00%  \n",
       "8             AS2007121P STORM GREEN     绿色   2   ¥2,000  1    200   10.00%  \n",
       "9                    FB52JU5523AD 21     红色   S   ¥3,600  2    360   10.00%  \n",
       "10  SL200710P CARAMEL PAINTED FLORAL  黄色/白色   2   ¥2,000  1    200   10.00%  \n",
       "11  SL200710P CARAMEL PAINTED FLORAL  黄色/白色   4   ¥2,000  1    200   10.00%  \n",
       "12  SL200710P CARAMEL PAINTED FLORAL  黄色/白色   6   ¥2,000  1    200   10.00%  \n",
       "13  SL200794T CARAMEL PAINTED FLORAL  黄色/白色   2   ¥2,000  5    200   10.00%  "
      ]
     },
     "execution_count": 129,
     "metadata": {},
     "output_type": "execute_result"
    }
   ],
   "source": [
    "df2vv = df2v.drop(['图片','季节码'],axis = 1)\n",
    "df2vv.head(13)"
   ]
  },
  {
   "cell_type": "code",
   "execution_count": 137,
   "id": "0ad46441-55d8-4031-bf1d-e5a365ac74cd",
   "metadata": {},
   "outputs": [],
   "source": [
    "df2vv.columns=['商品ID', '品牌', '商品分类', '展示分组', '款号', '颜色', '尺码', '市场价', '数量', '供货价', '折扣']\n",
    "def kuanhao(x):\n",
    "    if isinstance(x,str):\n",
    "       return x.split()[1:]"
   ]
  },
  {
   "cell_type": "code",
   "execution_count": 133,
   "id": "e569edd7-a61e-4666-94db-07fa1a5f2399",
   "metadata": {},
   "outputs": [
    {
     "data": {
      "text/plain": [
       "['fa', 'sd']"
      ]
     },
     "execution_count": 133,
     "metadata": {},
     "output_type": "execute_result"
    }
   ],
   "source": [
    "df1v "
   ]
  },
  {
   "cell_type": "code",
   "execution_count": 98,
   "id": "25b04e01-6cc7-464f-b414-36e4d9ada564",
   "metadata": {},
   "outputs": [],
   "source": [
    "df1v = df1[['订单号', '供应商ID', '发货仓', '收货人', '收货手机号', '商品总价',\n",
    "       '下单时间', '渠道','商品ID', '品牌', '商品名称', '颜色', '尺码','市场价', '数量','单价',\n",
    "       '折扣区间','成本价',  '业务分类ID', '业务分类']]\n"
   ]
  },
  {
   "cell_type": "code",
   "execution_count": 136,
   "id": "02fec615-7511-4646-9236-125da4797413",
   "metadata": {},
   "outputs": [
    {
     "data": {
      "text/html": [
       "<div>\n",
       "<style scoped>\n",
       "    .dataframe tbody tr th:only-of-type {\n",
       "        vertical-align: middle;\n",
       "    }\n",
       "\n",
       "    .dataframe tbody tr th {\n",
       "        vertical-align: top;\n",
       "    }\n",
       "\n",
       "    .dataframe thead th {\n",
       "        text-align: right;\n",
       "    }\n",
       "</style>\n",
       "<table border=\"1\" class=\"dataframe\">\n",
       "  <thead>\n",
       "    <tr style=\"text-align: right;\">\n",
       "      <th></th>\n",
       "      <th>订单号</th>\n",
       "      <th>供应商ID</th>\n",
       "      <th>发货仓</th>\n",
       "      <th>收货人</th>\n",
       "      <th>收货手机号</th>\n",
       "      <th>商品总价</th>\n",
       "      <th>下单时间</th>\n",
       "      <th>渠道</th>\n",
       "      <th>商品ID</th>\n",
       "      <th>品牌</th>\n",
       "      <th>商品名称</th>\n",
       "      <th>颜色</th>\n",
       "      <th>尺码</th>\n",
       "      <th>市场价</th>\n",
       "      <th>数量</th>\n",
       "      <th>单价</th>\n",
       "      <th>折扣区间</th>\n",
       "      <th>成本价</th>\n",
       "      <th>业务分类ID</th>\n",
       "      <th>业务分类</th>\n",
       "    </tr>\n",
       "  </thead>\n",
       "  <tbody>\n",
       "    <tr>\n",
       "      <th>0</th>\n",
       "      <td>7202407241667168</td>\n",
       "      <td>204160</td>\n",
       "      <td>121</td>\n",
       "      <td>123123</td>\n",
       "      <td>312312</td>\n",
       "      <td>1854.0</td>\n",
       "      <td>2024-07-24</td>\n",
       "      <td>110-小程序残品渠道</td>\n",
       "      <td>1603313</td>\n",
       "      <td>MAISON KITSUNE</td>\n",
       "      <td>MAISON KITSUNE 男士 T恤 【KM00133KJ0035 P100 M】</td>\n",
       "      <td>白色</td>\n",
       "      <td>M</td>\n",
       "      <td>1150</td>\n",
       "      <td>1</td>\n",
       "      <td>243.0</td>\n",
       "      <td>0.211304</td>\n",
       "      <td>367.89</td>\n",
       "      <td>14234</td>\n",
       "      <td>T恤</td>\n",
       "    </tr>\n",
       "    <tr>\n",
       "      <th>1</th>\n",
       "      <td>7202407241667168</td>\n",
       "      <td>300068</td>\n",
       "      <td>121</td>\n",
       "      <td>123123</td>\n",
       "      <td>312312</td>\n",
       "      <td>1854.0</td>\n",
       "      <td>2024-07-24</td>\n",
       "      <td>110-小程序残品渠道</td>\n",
       "      <td>1605657</td>\n",
       "      <td>REPRESENT</td>\n",
       "      <td>REPRESENT 男士 短裤 【M09050-109 COBALT XL】</td>\n",
       "      <td>蓝色</td>\n",
       "      <td>XL</td>\n",
       "      <td>1200</td>\n",
       "      <td>1</td>\n",
       "      <td>185.0</td>\n",
       "      <td>0.154167</td>\n",
       "      <td>342.11</td>\n",
       "      <td>15523</td>\n",
       "      <td>短裤</td>\n",
       "    </tr>\n",
       "    <tr>\n",
       "      <th>2</th>\n",
       "      <td>7202407241667168</td>\n",
       "      <td>300068</td>\n",
       "      <td>121</td>\n",
       "      <td>123123</td>\n",
       "      <td>312312</td>\n",
       "      <td>1854.0</td>\n",
       "      <td>2024-07-24</td>\n",
       "      <td>110-小程序残品渠道</td>\n",
       "      <td>1479119</td>\n",
       "      <td>REPRESENT</td>\n",
       "      <td>REPRESENT 褐色简约休闲日常通勤男士短裤， 【M09019-04 BROWN S】,</td>\n",
       "      <td>褐色</td>\n",
       "      <td>S</td>\n",
       "      <td>1900</td>\n",
       "      <td>1</td>\n",
       "      <td>104.0</td>\n",
       "      <td>0.054737</td>\n",
       "      <td>666.25</td>\n",
       "      <td>15523</td>\n",
       "      <td>短裤</td>\n",
       "    </tr>\n",
       "  </tbody>\n",
       "</table>\n",
       "</div>"
      ],
      "text/plain": [
       "                订单号   供应商ID  发货仓     收货人   收货手机号    商品总价        下单时间  \\\n",
       "0  7202407241667168  204160  121  123123  312312  1854.0  2024-07-24   \n",
       "1  7202407241667168  300068  121  123123  312312  1854.0  2024-07-24   \n",
       "2  7202407241667168  300068  121  123123  312312  1854.0  2024-07-24   \n",
       "\n",
       "            渠道     商品ID              品牌  \\\n",
       "0  110-小程序残品渠道  1603313  MAISON KITSUNE   \n",
       "1  110-小程序残品渠道  1605657       REPRESENT   \n",
       "2  110-小程序残品渠道  1479119       REPRESENT   \n",
       "\n",
       "                                             商品名称  颜色  尺码   市场价  数量     单价  \\\n",
       "0     MAISON KITSUNE 男士 T恤 【KM00133KJ0035 P100 M】  白色   M  1150   1  243.0   \n",
       "1          REPRESENT 男士 短裤 【M09050-109 COBALT XL】  蓝色  XL  1200   1  185.0   \n",
       "2  REPRESENT 褐色简约休闲日常通勤男士短裤， 【M09019-04 BROWN S】,  褐色   S  1900   1  104.0   \n",
       "\n",
       "       折扣区间     成本价  业务分类ID 业务分类  \n",
       "0  0.211304  367.89   14234   T恤  \n",
       "1  0.154167  342.11   15523   短裤  \n",
       "2  0.054737  666.25   15523   短裤  "
      ]
     },
     "execution_count": 136,
     "metadata": {},
     "output_type": "execute_result"
    }
   ],
   "source": [
    "df1v.head(3)"
   ]
  },
  {
   "cell_type": "code",
   "execution_count": 104,
   "id": "dbf29f7a-14a6-4b56-8aac-6a69280ba8e2",
   "metadata": {},
   "outputs": [],
   "source": [
    "df1['品牌'] = df1['品牌'].str.replace('\\n', '')"
   ]
  },
  {
   "cell_type": "code",
   "execution_count": 106,
   "id": "f86aba31-0352-4c6b-86f1-201472d5ba4a",
   "metadata": {},
   "outputs": [
    {
     "data": {
      "text/html": [
       "<div>\n",
       "<style scoped>\n",
       "    .dataframe tbody tr th:only-of-type {\n",
       "        vertical-align: middle;\n",
       "    }\n",
       "\n",
       "    .dataframe tbody tr th {\n",
       "        vertical-align: top;\n",
       "    }\n",
       "\n",
       "    .dataframe thead th {\n",
       "        text-align: right;\n",
       "    }\n",
       "</style>\n",
       "<table border=\"1\" class=\"dataframe\">\n",
       "  <thead>\n",
       "    <tr style=\"text-align: right;\">\n",
       "      <th></th>\n",
       "      <th>订单号</th>\n",
       "      <th>商品ID</th>\n",
       "      <th>供应商ID</th>\n",
       "      <th>发货仓</th>\n",
       "      <th>单价</th>\n",
       "      <th>数量</th>\n",
       "      <th>收货人</th>\n",
       "      <th>收货手机号</th>\n",
       "      <th>商品总价</th>\n",
       "      <th>下单时间</th>\n",
       "      <th>渠道</th>\n",
       "      <th>品牌</th>\n",
       "      <th>成本价</th>\n",
       "      <th>市场价</th>\n",
       "      <th>尺码</th>\n",
       "      <th>颜色</th>\n",
       "      <th>业务分类ID</th>\n",
       "      <th>业务分类</th>\n",
       "      <th>商品名称</th>\n",
       "      <th>折扣区间</th>\n",
       "    </tr>\n",
       "  </thead>\n",
       "  <tbody>\n",
       "    <tr>\n",
       "      <th>0</th>\n",
       "      <td>7202407241667168</td>\n",
       "      <td>1603313</td>\n",
       "      <td>204160</td>\n",
       "      <td>121</td>\n",
       "      <td>243.0</td>\n",
       "      <td>1</td>\n",
       "      <td>123123</td>\n",
       "      <td>312312</td>\n",
       "      <td>1854.0</td>\n",
       "      <td>2024-07-24</td>\n",
       "      <td>110-小程序残品渠道</td>\n",
       "      <td>MAISON KITSUNE</td>\n",
       "      <td>367.89</td>\n",
       "      <td>1150</td>\n",
       "      <td>M</td>\n",
       "      <td>白色</td>\n",
       "      <td>14234</td>\n",
       "      <td>T恤</td>\n",
       "      <td>MAISON KITSUNE 男士 T恤 【KM00133KJ0035 P100 M】</td>\n",
       "      <td>0.211304</td>\n",
       "    </tr>\n",
       "    <tr>\n",
       "      <th>1</th>\n",
       "      <td>7202407241667168</td>\n",
       "      <td>1605657</td>\n",
       "      <td>300068</td>\n",
       "      <td>121</td>\n",
       "      <td>185.0</td>\n",
       "      <td>1</td>\n",
       "      <td>123123</td>\n",
       "      <td>312312</td>\n",
       "      <td>1854.0</td>\n",
       "      <td>2024-07-24</td>\n",
       "      <td>110-小程序残品渠道</td>\n",
       "      <td>REPRESENT</td>\n",
       "      <td>342.11</td>\n",
       "      <td>1200</td>\n",
       "      <td>XL</td>\n",
       "      <td>蓝色</td>\n",
       "      <td>15523</td>\n",
       "      <td>短裤</td>\n",
       "      <td>REPRESENT 男士 短裤 【M09050-109 COBALT XL】</td>\n",
       "      <td>0.154167</td>\n",
       "    </tr>\n",
       "    <tr>\n",
       "      <th>2</th>\n",
       "      <td>7202407241667168</td>\n",
       "      <td>1479119</td>\n",
       "      <td>300068</td>\n",
       "      <td>121</td>\n",
       "      <td>104.0</td>\n",
       "      <td>1</td>\n",
       "      <td>123123</td>\n",
       "      <td>312312</td>\n",
       "      <td>1854.0</td>\n",
       "      <td>2024-07-24</td>\n",
       "      <td>110-小程序残品渠道</td>\n",
       "      <td>REPRESENT</td>\n",
       "      <td>666.25</td>\n",
       "      <td>1900</td>\n",
       "      <td>S</td>\n",
       "      <td>褐色</td>\n",
       "      <td>15523</td>\n",
       "      <td>短裤</td>\n",
       "      <td>REPRESENT 褐色简约休闲日常通勤男士短裤， 【M09019-04 BROWN S】,</td>\n",
       "      <td>0.054737</td>\n",
       "    </tr>\n",
       "    <tr>\n",
       "      <th>3</th>\n",
       "      <td>7202407241667168</td>\n",
       "      <td>1605537</td>\n",
       "      <td>300068</td>\n",
       "      <td>121</td>\n",
       "      <td>213.0</td>\n",
       "      <td>1</td>\n",
       "      <td>123123</td>\n",
       "      <td>312312</td>\n",
       "      <td>1854.0</td>\n",
       "      <td>2024-07-24</td>\n",
       "      <td>110-小程序残品渠道</td>\n",
       "      <td>REPRESENT</td>\n",
       "      <td>362.11</td>\n",
       "      <td>1200</td>\n",
       "      <td>M</td>\n",
       "      <td>米白色</td>\n",
       "      <td>14234</td>\n",
       "      <td>T恤</td>\n",
       "      <td>REPRESENT 男士 T恤 【M05236-72 FLAT WHITE M】</td>\n",
       "      <td>0.177500</td>\n",
       "    </tr>\n",
       "    <tr>\n",
       "      <th>4</th>\n",
       "      <td>7202407241667168</td>\n",
       "      <td>1479113</td>\n",
       "      <td>300068</td>\n",
       "      <td>121</td>\n",
       "      <td>112.0</td>\n",
       "      <td>1</td>\n",
       "      <td>123123</td>\n",
       "      <td>312312</td>\n",
       "      <td>1854.0</td>\n",
       "      <td>2024-07-24</td>\n",
       "      <td>110-小程序残品渠道</td>\n",
       "      <td>REPRESENT</td>\n",
       "      <td>666.25</td>\n",
       "      <td>1900</td>\n",
       "      <td>XS</td>\n",
       "      <td>黑色</td>\n",
       "      <td>15523</td>\n",
       "      <td>短裤</td>\n",
       "      <td>REPRESENT 黑色简约休闲日常通勤男士短裤， 【M09019-88 BLACKCOTT...</td>\n",
       "      <td>0.058947</td>\n",
       "    </tr>\n",
       "  </tbody>\n",
       "</table>\n",
       "</div>"
      ],
      "text/plain": [
       "                订单号     商品ID   供应商ID  发货仓     单价  数量     收货人   收货手机号    商品总价  \\\n",
       "0  7202407241667168  1603313  204160  121  243.0   1  123123  312312  1854.0   \n",
       "1  7202407241667168  1605657  300068  121  185.0   1  123123  312312  1854.0   \n",
       "2  7202407241667168  1479119  300068  121  104.0   1  123123  312312  1854.0   \n",
       "3  7202407241667168  1605537  300068  121  213.0   1  123123  312312  1854.0   \n",
       "4  7202407241667168  1479113  300068  121  112.0   1  123123  312312  1854.0   \n",
       "\n",
       "         下单时间           渠道              品牌     成本价   市场价  尺码   颜色  业务分类ID  \\\n",
       "0  2024-07-24  110-小程序残品渠道  MAISON KITSUNE  367.89  1150   M   白色   14234   \n",
       "1  2024-07-24  110-小程序残品渠道       REPRESENT  342.11  1200  XL   蓝色   15523   \n",
       "2  2024-07-24  110-小程序残品渠道       REPRESENT  666.25  1900   S   褐色   15523   \n",
       "3  2024-07-24  110-小程序残品渠道       REPRESENT  362.11  1200   M  米白色   14234   \n",
       "4  2024-07-24  110-小程序残品渠道       REPRESENT  666.25  1900  XS   黑色   15523   \n",
       "\n",
       "  业务分类                                               商品名称      折扣区间  \n",
       "0   T恤        MAISON KITSUNE 男士 T恤 【KM00133KJ0035 P100 M】  0.211304  \n",
       "1   短裤             REPRESENT 男士 短裤 【M09050-109 COBALT XL】  0.154167  \n",
       "2   短裤     REPRESENT 褐色简约休闲日常通勤男士短裤， 【M09019-04 BROWN S】,  0.054737  \n",
       "3   T恤           REPRESENT 男士 T恤 【M05236-72 FLAT WHITE M】  0.177500  \n",
       "4   短裤  REPRESENT 黑色简约休闲日常通勤男士短裤， 【M09019-88 BLACKCOTT...  0.058947  "
      ]
     },
     "execution_count": 106,
     "metadata": {},
     "output_type": "execute_result"
    }
   ],
   "source": []
  },
  {
   "cell_type": "code",
   "execution_count": null,
   "id": "79ff46b0-9df2-4c40-8ebe-2725428efa1b",
   "metadata": {},
   "outputs": [],
   "source": []
  }
 ],
 "metadata": {
  "kernelspec": {
   "display_name": "Python 3 (ipykernel)",
   "language": "python",
   "name": "python3"
  },
  "language_info": {
   "codemirror_mode": {
    "name": "ipython",
    "version": 3
   },
   "file_extension": ".py",
   "mimetype": "text/x-python",
   "name": "python",
   "nbconvert_exporter": "python",
   "pygments_lexer": "ipython3",
   "version": "3.12.4"
  }
 },
 "nbformat": 4,
 "nbformat_minor": 5
}
